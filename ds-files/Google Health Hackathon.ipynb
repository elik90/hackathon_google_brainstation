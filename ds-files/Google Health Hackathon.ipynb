{
 "cells": [
  {
   "cell_type": "markdown",
   "id": "honey-philosophy",
   "metadata": {},
   "source": [
    "*Prasann Ranade <br>\n",
    "Elliot Chuh*\n",
    "\n",
    "**SUMMARY:**\n",
    "\n",
    "Our solution addresses health accessibility for the county-average uninsured population whose income is less than 138% of the poverty line (or ~$36,000 for a family of 4).  Though the target population is proportionally small, it still amounts to over 100 million people in the U.S.  As an end-to-end solution that supports more than just the uninsured population, the goal is to utilize user-data and a clustering algorithm to recommend medical insurance policies and a compatible hospital.  The model uses the user’s county-level demographic data in combination with some extra datasets found on cms.gov for 2020 insurance policy data.  \n",
    "  \n",
    "  \n",
    "Future development would utilize the ‘USA Hospital Bed Capacity’ dataset by fitting the hospital type with the client’s newly attained healthcare plan.\n",
    "<br>\n",
    "\n",
    "Since our data did not include a target feature like an insurance plan rating, we were forced to go with a clustering classification problem instead of a recommender system solution like funk svd.  After vectorizing the categorical features, and scaling the data, the relative measurement of inertia was very high.  Using PCA to reduce the feature number to 80 percent of explained variance through critical principal components, meaningful feature descriptions that we could use to segregate our clusters were lost. This likely prevents the model from being useful in staying within state/county borders or financial limits.  An alternative customization of the KMeans model could have involved manual distance weighting between states, counties, and prices in order to keep the cluster center as centralized to the state to ensure more localized recommendations.  \n",
    "\n",
    "Further exploration would have required joining the dataset with the demographic data in order to leverage the user's demographic input.  This user data could be used in two ways:<br>\n",
    " 1. The user's data is fed into the model as a row, similar to the training data and a prediction would reveal the nearest neighbors or insurance policies.\n",
    " 2. The data is used for a separate neural network that learns associations between patient demographics, hospital registrations, and insurance sign-ups to be able to recommend the most common patterns among other local patients.\n",
    "\n",
    "\n",
    "\n",
    "**PROCESS:**\n",
    "- Imported all csv's\n",
    "- Ran light EDA on no-show data\n",
    "- Ran light EDA on Insurance data\n",
    "\n",
    "- EDA on insurance plan data to formulate model to predict best plans based on demographic data, income, financial limitations, county location.\n",
    "- Incorporated new insurance plan data sets from cms.gov to be able to cluster data points using insurance plan attributes and other datasets provided in this challenge.  Each row is an insurance policy with county services, premium, deductible, and policy 'metal' ratings.\n",
    "\n",
    "- Scaling and PCA\n",
    "- KMeans clustering - not fully optimized\n",
    "\n",
    "Future Considerations:\n",
    "- DBSCAN \n",
    "- Additional clustering needed for nearby hospitals based on hospital capacity data\n",
    "- patient data \n",
    "\n",
    "Missed Opportunities:\n",
    "- Distribution charts for each dataset as part of EDA\n",
    "- "
   ]
  },
  {
   "cell_type": "code",
   "execution_count": 1,
   "id": "crude-shooting",
   "metadata": {
    "ExecuteTime": {
     "end_time": "2021-03-26T12:51:36.824373Z",
     "start_time": "2021-03-26T12:51:35.815871Z"
    }
   },
   "outputs": [],
   "source": [
    "import numpy as np\n",
    "import pandas as pd\n",
    "import matplotlib.pyplot as plt\n",
    "import seaborn as sns"
   ]
  },
  {
   "cell_type": "code",
   "execution_count": 90,
   "id": "careful-suggestion",
   "metadata": {
    "ExecuteTime": {
     "end_time": "2021-03-26T12:51:53.137869Z",
     "start_time": "2021-03-26T12:51:52.918372Z"
    }
   },
   "outputs": [],
   "source": [
    "from sklearn.preprocessing import OneHotEncoder\n",
    "from sklearn.model_selection import train_test_split"
   ]
  },
  {
   "cell_type": "code",
   "execution_count": 141,
   "id": "opponent-galaxy",
   "metadata": {
    "ExecuteTime": {
     "end_time": "2021-03-26T15:36:29.871601Z",
     "start_time": "2021-03-26T15:36:29.868599Z"
    }
   },
   "outputs": [],
   "source": [
    "from sklearn.preprocessing import StandardScaler\n",
    "from sklearn.preprocessing import MinMaxScaler\n",
    "from sklearn.decomposition import PCA\n",
    "from sklearn.model_selection import GridSearchCV\n",
    "from sklearn.pipeline import Pipeline\n",
    "from sklearn.cluster import KMeans"
   ]
  },
  {
   "cell_type": "code",
   "execution_count": 2,
   "id": "accompanied-telescope",
   "metadata": {
    "ExecuteTime": {
     "end_time": "2021-03-26T12:51:36.827873Z",
     "start_time": "2021-03-26T12:51:36.825371Z"
    }
   },
   "outputs": [],
   "source": [
    "pd.set_option('display.max_columns', None)"
   ]
  },
  {
   "cell_type": "markdown",
   "id": "suspected-thriller",
   "metadata": {},
   "source": [
    "# No-Show\n",
    "\n",
    "No NaNs <br>\n",
    "No duplicates"
   ]
  },
  {
   "cell_type": "code",
   "execution_count": 3,
   "id": "exceptional-colombia",
   "metadata": {
    "ExecuteTime": {
     "end_time": "2021-03-26T12:51:36.989372Z",
     "start_time": "2021-03-26T12:51:36.828873Z"
    },
    "scrolled": false
   },
   "outputs": [
    {
     "data": {
      "text/html": [
       "<div>\n",
       "<style scoped>\n",
       "    .dataframe tbody tr th:only-of-type {\n",
       "        vertical-align: middle;\n",
       "    }\n",
       "\n",
       "    .dataframe tbody tr th {\n",
       "        vertical-align: top;\n",
       "    }\n",
       "\n",
       "    .dataframe thead th {\n",
       "        text-align: right;\n",
       "    }\n",
       "</style>\n",
       "<table border=\"1\" class=\"dataframe\">\n",
       "  <thead>\n",
       "    <tr style=\"text-align: right;\">\n",
       "      <th></th>\n",
       "      <th>PatientId</th>\n",
       "      <th>AppointmentID</th>\n",
       "      <th>Gender</th>\n",
       "      <th>ScheduledDay</th>\n",
       "      <th>AppointmentDay</th>\n",
       "      <th>Age</th>\n",
       "      <th>Neighbourhood</th>\n",
       "      <th>Scholarship</th>\n",
       "      <th>Hipertension</th>\n",
       "      <th>Diabetes</th>\n",
       "      <th>Alcoholism</th>\n",
       "      <th>Handcap</th>\n",
       "      <th>SMS_received</th>\n",
       "      <th>No-show</th>\n",
       "    </tr>\n",
       "  </thead>\n",
       "  <tbody>\n",
       "    <tr>\n",
       "      <th>0</th>\n",
       "      <td>2.987250e+13</td>\n",
       "      <td>5642903</td>\n",
       "      <td>F</td>\n",
       "      <td>2016-04-29T18:38:08Z</td>\n",
       "      <td>2016-04-29T00:00:00Z</td>\n",
       "      <td>62</td>\n",
       "      <td>JARDIM DA PENHA</td>\n",
       "      <td>0</td>\n",
       "      <td>1</td>\n",
       "      <td>0</td>\n",
       "      <td>0</td>\n",
       "      <td>0</td>\n",
       "      <td>0</td>\n",
       "      <td>No</td>\n",
       "    </tr>\n",
       "    <tr>\n",
       "      <th>1</th>\n",
       "      <td>5.589978e+14</td>\n",
       "      <td>5642503</td>\n",
       "      <td>M</td>\n",
       "      <td>2016-04-29T16:08:27Z</td>\n",
       "      <td>2016-04-29T00:00:00Z</td>\n",
       "      <td>56</td>\n",
       "      <td>JARDIM DA PENHA</td>\n",
       "      <td>0</td>\n",
       "      <td>0</td>\n",
       "      <td>0</td>\n",
       "      <td>0</td>\n",
       "      <td>0</td>\n",
       "      <td>0</td>\n",
       "      <td>No</td>\n",
       "    </tr>\n",
       "    <tr>\n",
       "      <th>2</th>\n",
       "      <td>4.262962e+12</td>\n",
       "      <td>5642549</td>\n",
       "      <td>F</td>\n",
       "      <td>2016-04-29T16:19:04Z</td>\n",
       "      <td>2016-04-29T00:00:00Z</td>\n",
       "      <td>62</td>\n",
       "      <td>MATA DA PRAIA</td>\n",
       "      <td>0</td>\n",
       "      <td>0</td>\n",
       "      <td>0</td>\n",
       "      <td>0</td>\n",
       "      <td>0</td>\n",
       "      <td>0</td>\n",
       "      <td>No</td>\n",
       "    </tr>\n",
       "    <tr>\n",
       "      <th>3</th>\n",
       "      <td>8.679512e+11</td>\n",
       "      <td>5642828</td>\n",
       "      <td>F</td>\n",
       "      <td>2016-04-29T17:29:31Z</td>\n",
       "      <td>2016-04-29T00:00:00Z</td>\n",
       "      <td>8</td>\n",
       "      <td>PONTAL DE CAMBURI</td>\n",
       "      <td>0</td>\n",
       "      <td>0</td>\n",
       "      <td>0</td>\n",
       "      <td>0</td>\n",
       "      <td>0</td>\n",
       "      <td>0</td>\n",
       "      <td>No</td>\n",
       "    </tr>\n",
       "    <tr>\n",
       "      <th>4</th>\n",
       "      <td>8.841186e+12</td>\n",
       "      <td>5642494</td>\n",
       "      <td>F</td>\n",
       "      <td>2016-04-29T16:07:23Z</td>\n",
       "      <td>2016-04-29T00:00:00Z</td>\n",
       "      <td>56</td>\n",
       "      <td>JARDIM DA PENHA</td>\n",
       "      <td>0</td>\n",
       "      <td>1</td>\n",
       "      <td>1</td>\n",
       "      <td>0</td>\n",
       "      <td>0</td>\n",
       "      <td>0</td>\n",
       "      <td>No</td>\n",
       "    </tr>\n",
       "  </tbody>\n",
       "</table>\n",
       "</div>"
      ],
      "text/plain": [
       "      PatientId  AppointmentID Gender          ScheduledDay  \\\n",
       "0  2.987250e+13        5642903      F  2016-04-29T18:38:08Z   \n",
       "1  5.589978e+14        5642503      M  2016-04-29T16:08:27Z   \n",
       "2  4.262962e+12        5642549      F  2016-04-29T16:19:04Z   \n",
       "3  8.679512e+11        5642828      F  2016-04-29T17:29:31Z   \n",
       "4  8.841186e+12        5642494      F  2016-04-29T16:07:23Z   \n",
       "\n",
       "         AppointmentDay  Age      Neighbourhood  Scholarship  Hipertension  \\\n",
       "0  2016-04-29T00:00:00Z   62    JARDIM DA PENHA            0             1   \n",
       "1  2016-04-29T00:00:00Z   56    JARDIM DA PENHA            0             0   \n",
       "2  2016-04-29T00:00:00Z   62      MATA DA PRAIA            0             0   \n",
       "3  2016-04-29T00:00:00Z    8  PONTAL DE CAMBURI            0             0   \n",
       "4  2016-04-29T00:00:00Z   56    JARDIM DA PENHA            0             1   \n",
       "\n",
       "   Diabetes  Alcoholism  Handcap  SMS_received No-show  \n",
       "0         0           0        0             0      No  \n",
       "1         0           0        0             0      No  \n",
       "2         0           0        0             0      No  \n",
       "3         0           0        0             0      No  \n",
       "4         1           0        0             0      No  "
      ]
     },
     "execution_count": 3,
     "metadata": {},
     "output_type": "execute_result"
    }
   ],
   "source": [
    "noshow_df = pd.read_csv('data/noshow_appt.csv')\n",
    "noshow_df.head()"
   ]
  },
  {
   "cell_type": "code",
   "execution_count": 4,
   "id": "parallel-custody",
   "metadata": {
    "ExecuteTime": {
     "end_time": "2021-03-26T12:51:37.030373Z",
     "start_time": "2021-03-26T12:51:36.990373Z"
    },
    "scrolled": false
   },
   "outputs": [
    {
     "data": {
      "text/html": [
       "<div>\n",
       "<style scoped>\n",
       "    .dataframe tbody tr th:only-of-type {\n",
       "        vertical-align: middle;\n",
       "    }\n",
       "\n",
       "    .dataframe tbody tr th {\n",
       "        vertical-align: top;\n",
       "    }\n",
       "\n",
       "    .dataframe thead th {\n",
       "        text-align: right;\n",
       "    }\n",
       "</style>\n",
       "<table border=\"1\" class=\"dataframe\">\n",
       "  <thead>\n",
       "    <tr style=\"text-align: right;\">\n",
       "      <th></th>\n",
       "      <th>count</th>\n",
       "      <th>mean</th>\n",
       "      <th>std</th>\n",
       "      <th>min</th>\n",
       "      <th>25%</th>\n",
       "      <th>50%</th>\n",
       "      <th>75%</th>\n",
       "      <th>max</th>\n",
       "    </tr>\n",
       "  </thead>\n",
       "  <tbody>\n",
       "    <tr>\n",
       "      <th>PatientId</th>\n",
       "      <td>110527.0</td>\n",
       "      <td>1.474963e+14</td>\n",
       "      <td>2.560949e+14</td>\n",
       "      <td>3.921784e+04</td>\n",
       "      <td>4.172614e+12</td>\n",
       "      <td>3.173184e+13</td>\n",
       "      <td>9.439172e+13</td>\n",
       "      <td>9.999816e+14</td>\n",
       "    </tr>\n",
       "    <tr>\n",
       "      <th>AppointmentID</th>\n",
       "      <td>110527.0</td>\n",
       "      <td>5.675305e+06</td>\n",
       "      <td>7.129575e+04</td>\n",
       "      <td>5.030230e+06</td>\n",
       "      <td>5.640286e+06</td>\n",
       "      <td>5.680573e+06</td>\n",
       "      <td>5.725524e+06</td>\n",
       "      <td>5.790484e+06</td>\n",
       "    </tr>\n",
       "    <tr>\n",
       "      <th>Age</th>\n",
       "      <td>110527.0</td>\n",
       "      <td>3.708887e+01</td>\n",
       "      <td>2.311020e+01</td>\n",
       "      <td>-1.000000e+00</td>\n",
       "      <td>1.800000e+01</td>\n",
       "      <td>3.700000e+01</td>\n",
       "      <td>5.500000e+01</td>\n",
       "      <td>1.150000e+02</td>\n",
       "    </tr>\n",
       "    <tr>\n",
       "      <th>Scholarship</th>\n",
       "      <td>110527.0</td>\n",
       "      <td>9.826558e-02</td>\n",
       "      <td>2.976748e-01</td>\n",
       "      <td>0.000000e+00</td>\n",
       "      <td>0.000000e+00</td>\n",
       "      <td>0.000000e+00</td>\n",
       "      <td>0.000000e+00</td>\n",
       "      <td>1.000000e+00</td>\n",
       "    </tr>\n",
       "    <tr>\n",
       "      <th>Hipertension</th>\n",
       "      <td>110527.0</td>\n",
       "      <td>1.972459e-01</td>\n",
       "      <td>3.979213e-01</td>\n",
       "      <td>0.000000e+00</td>\n",
       "      <td>0.000000e+00</td>\n",
       "      <td>0.000000e+00</td>\n",
       "      <td>0.000000e+00</td>\n",
       "      <td>1.000000e+00</td>\n",
       "    </tr>\n",
       "    <tr>\n",
       "      <th>Diabetes</th>\n",
       "      <td>110527.0</td>\n",
       "      <td>7.186479e-02</td>\n",
       "      <td>2.582651e-01</td>\n",
       "      <td>0.000000e+00</td>\n",
       "      <td>0.000000e+00</td>\n",
       "      <td>0.000000e+00</td>\n",
       "      <td>0.000000e+00</td>\n",
       "      <td>1.000000e+00</td>\n",
       "    </tr>\n",
       "    <tr>\n",
       "      <th>Alcoholism</th>\n",
       "      <td>110527.0</td>\n",
       "      <td>3.039981e-02</td>\n",
       "      <td>1.716856e-01</td>\n",
       "      <td>0.000000e+00</td>\n",
       "      <td>0.000000e+00</td>\n",
       "      <td>0.000000e+00</td>\n",
       "      <td>0.000000e+00</td>\n",
       "      <td>1.000000e+00</td>\n",
       "    </tr>\n",
       "    <tr>\n",
       "      <th>Handcap</th>\n",
       "      <td>110527.0</td>\n",
       "      <td>2.224796e-02</td>\n",
       "      <td>1.615427e-01</td>\n",
       "      <td>0.000000e+00</td>\n",
       "      <td>0.000000e+00</td>\n",
       "      <td>0.000000e+00</td>\n",
       "      <td>0.000000e+00</td>\n",
       "      <td>4.000000e+00</td>\n",
       "    </tr>\n",
       "    <tr>\n",
       "      <th>SMS_received</th>\n",
       "      <td>110527.0</td>\n",
       "      <td>3.210256e-01</td>\n",
       "      <td>4.668727e-01</td>\n",
       "      <td>0.000000e+00</td>\n",
       "      <td>0.000000e+00</td>\n",
       "      <td>0.000000e+00</td>\n",
       "      <td>1.000000e+00</td>\n",
       "      <td>1.000000e+00</td>\n",
       "    </tr>\n",
       "  </tbody>\n",
       "</table>\n",
       "</div>"
      ],
      "text/plain": [
       "                  count          mean           std           min  \\\n",
       "PatientId      110527.0  1.474963e+14  2.560949e+14  3.921784e+04   \n",
       "AppointmentID  110527.0  5.675305e+06  7.129575e+04  5.030230e+06   \n",
       "Age            110527.0  3.708887e+01  2.311020e+01 -1.000000e+00   \n",
       "Scholarship    110527.0  9.826558e-02  2.976748e-01  0.000000e+00   \n",
       "Hipertension   110527.0  1.972459e-01  3.979213e-01  0.000000e+00   \n",
       "Diabetes       110527.0  7.186479e-02  2.582651e-01  0.000000e+00   \n",
       "Alcoholism     110527.0  3.039981e-02  1.716856e-01  0.000000e+00   \n",
       "Handcap        110527.0  2.224796e-02  1.615427e-01  0.000000e+00   \n",
       "SMS_received   110527.0  3.210256e-01  4.668727e-01  0.000000e+00   \n",
       "\n",
       "                        25%           50%           75%           max  \n",
       "PatientId      4.172614e+12  3.173184e+13  9.439172e+13  9.999816e+14  \n",
       "AppointmentID  5.640286e+06  5.680573e+06  5.725524e+06  5.790484e+06  \n",
       "Age            1.800000e+01  3.700000e+01  5.500000e+01  1.150000e+02  \n",
       "Scholarship    0.000000e+00  0.000000e+00  0.000000e+00  1.000000e+00  \n",
       "Hipertension   0.000000e+00  0.000000e+00  0.000000e+00  1.000000e+00  \n",
       "Diabetes       0.000000e+00  0.000000e+00  0.000000e+00  1.000000e+00  \n",
       "Alcoholism     0.000000e+00  0.000000e+00  0.000000e+00  1.000000e+00  \n",
       "Handcap        0.000000e+00  0.000000e+00  0.000000e+00  4.000000e+00  \n",
       "SMS_received   0.000000e+00  0.000000e+00  1.000000e+00  1.000000e+00  "
      ]
     },
     "execution_count": 4,
     "metadata": {},
     "output_type": "execute_result"
    }
   ],
   "source": [
    "noshow_df.describe().T"
   ]
  },
  {
   "cell_type": "code",
   "execution_count": 5,
   "id": "located-representation",
   "metadata": {
    "ExecuteTime": {
     "end_time": "2021-03-26T12:51:37.043371Z",
     "start_time": "2021-03-26T12:51:37.030871Z"
    },
    "scrolled": true
   },
   "outputs": [
    {
     "data": {
      "text/plain": [
       "0         0\n",
       "1         0\n",
       "2         0\n",
       "3         0\n",
       "4         0\n",
       "         ..\n",
       "110522    0\n",
       "110523    0\n",
       "110524    0\n",
       "110525    0\n",
       "110526    0\n",
       "Name: No-show, Length: 110527, dtype: int32"
      ]
     },
     "execution_count": 5,
     "metadata": {},
     "output_type": "execute_result"
    }
   ],
   "source": [
    "noshow_df['No-show'] = np.where(noshow_df['No-show']=='Yes', 1, 0)\n",
    "noshow_df['No-show'] "
   ]
  },
  {
   "cell_type": "code",
   "execution_count": 6,
   "id": "refined-brass",
   "metadata": {
    "ExecuteTime": {
     "end_time": "2021-03-26T12:51:37.059371Z",
     "start_time": "2021-03-26T12:51:37.044373Z"
    },
    "scrolled": false
   },
   "outputs": [
    {
     "data": {
      "text/html": [
       "<div>\n",
       "<style scoped>\n",
       "    .dataframe tbody tr th:only-of-type {\n",
       "        vertical-align: middle;\n",
       "    }\n",
       "\n",
       "    .dataframe tbody tr th {\n",
       "        vertical-align: top;\n",
       "    }\n",
       "\n",
       "    .dataframe thead th {\n",
       "        text-align: right;\n",
       "    }\n",
       "</style>\n",
       "<table border=\"1\" class=\"dataframe\">\n",
       "  <thead>\n",
       "    <tr style=\"text-align: right;\">\n",
       "      <th></th>\n",
       "      <th>Age</th>\n",
       "      <th>Neighbourhood</th>\n",
       "      <th>Scholarship</th>\n",
       "      <th>Hipertension</th>\n",
       "      <th>Diabetes</th>\n",
       "      <th>Alcoholism</th>\n",
       "      <th>SMS_received</th>\n",
       "      <th>No-show</th>\n",
       "    </tr>\n",
       "  </thead>\n",
       "  <tbody>\n",
       "    <tr>\n",
       "      <th>0</th>\n",
       "      <td>62</td>\n",
       "      <td>JARDIM DA PENHA</td>\n",
       "      <td>0</td>\n",
       "      <td>1</td>\n",
       "      <td>0</td>\n",
       "      <td>0</td>\n",
       "      <td>0</td>\n",
       "      <td>0</td>\n",
       "    </tr>\n",
       "    <tr>\n",
       "      <th>1</th>\n",
       "      <td>56</td>\n",
       "      <td>JARDIM DA PENHA</td>\n",
       "      <td>0</td>\n",
       "      <td>0</td>\n",
       "      <td>0</td>\n",
       "      <td>0</td>\n",
       "      <td>0</td>\n",
       "      <td>0</td>\n",
       "    </tr>\n",
       "    <tr>\n",
       "      <th>2</th>\n",
       "      <td>62</td>\n",
       "      <td>MATA DA PRAIA</td>\n",
       "      <td>0</td>\n",
       "      <td>0</td>\n",
       "      <td>0</td>\n",
       "      <td>0</td>\n",
       "      <td>0</td>\n",
       "      <td>0</td>\n",
       "    </tr>\n",
       "    <tr>\n",
       "      <th>3</th>\n",
       "      <td>8</td>\n",
       "      <td>PONTAL DE CAMBURI</td>\n",
       "      <td>0</td>\n",
       "      <td>0</td>\n",
       "      <td>0</td>\n",
       "      <td>0</td>\n",
       "      <td>0</td>\n",
       "      <td>0</td>\n",
       "    </tr>\n",
       "    <tr>\n",
       "      <th>4</th>\n",
       "      <td>56</td>\n",
       "      <td>JARDIM DA PENHA</td>\n",
       "      <td>0</td>\n",
       "      <td>1</td>\n",
       "      <td>1</td>\n",
       "      <td>0</td>\n",
       "      <td>0</td>\n",
       "      <td>0</td>\n",
       "    </tr>\n",
       "    <tr>\n",
       "      <th>...</th>\n",
       "      <td>...</td>\n",
       "      <td>...</td>\n",
       "      <td>...</td>\n",
       "      <td>...</td>\n",
       "      <td>...</td>\n",
       "      <td>...</td>\n",
       "      <td>...</td>\n",
       "      <td>...</td>\n",
       "    </tr>\n",
       "    <tr>\n",
       "      <th>110522</th>\n",
       "      <td>56</td>\n",
       "      <td>MARIA ORTIZ</td>\n",
       "      <td>0</td>\n",
       "      <td>0</td>\n",
       "      <td>0</td>\n",
       "      <td>0</td>\n",
       "      <td>1</td>\n",
       "      <td>0</td>\n",
       "    </tr>\n",
       "    <tr>\n",
       "      <th>110523</th>\n",
       "      <td>51</td>\n",
       "      <td>MARIA ORTIZ</td>\n",
       "      <td>0</td>\n",
       "      <td>0</td>\n",
       "      <td>0</td>\n",
       "      <td>0</td>\n",
       "      <td>1</td>\n",
       "      <td>0</td>\n",
       "    </tr>\n",
       "    <tr>\n",
       "      <th>110524</th>\n",
       "      <td>21</td>\n",
       "      <td>MARIA ORTIZ</td>\n",
       "      <td>0</td>\n",
       "      <td>0</td>\n",
       "      <td>0</td>\n",
       "      <td>0</td>\n",
       "      <td>1</td>\n",
       "      <td>0</td>\n",
       "    </tr>\n",
       "    <tr>\n",
       "      <th>110525</th>\n",
       "      <td>38</td>\n",
       "      <td>MARIA ORTIZ</td>\n",
       "      <td>0</td>\n",
       "      <td>0</td>\n",
       "      <td>0</td>\n",
       "      <td>0</td>\n",
       "      <td>1</td>\n",
       "      <td>0</td>\n",
       "    </tr>\n",
       "    <tr>\n",
       "      <th>110526</th>\n",
       "      <td>54</td>\n",
       "      <td>MARIA ORTIZ</td>\n",
       "      <td>0</td>\n",
       "      <td>0</td>\n",
       "      <td>0</td>\n",
       "      <td>0</td>\n",
       "      <td>1</td>\n",
       "      <td>0</td>\n",
       "    </tr>\n",
       "  </tbody>\n",
       "</table>\n",
       "<p>110527 rows × 8 columns</p>\n",
       "</div>"
      ],
      "text/plain": [
       "        Age      Neighbourhood  Scholarship  Hipertension  Diabetes  \\\n",
       "0        62    JARDIM DA PENHA            0             1         0   \n",
       "1        56    JARDIM DA PENHA            0             0         0   \n",
       "2        62      MATA DA PRAIA            0             0         0   \n",
       "3         8  PONTAL DE CAMBURI            0             0         0   \n",
       "4        56    JARDIM DA PENHA            0             1         1   \n",
       "...     ...                ...          ...           ...       ...   \n",
       "110522   56        MARIA ORTIZ            0             0         0   \n",
       "110523   51        MARIA ORTIZ            0             0         0   \n",
       "110524   21        MARIA ORTIZ            0             0         0   \n",
       "110525   38        MARIA ORTIZ            0             0         0   \n",
       "110526   54        MARIA ORTIZ            0             0         0   \n",
       "\n",
       "        Alcoholism  SMS_received  No-show  \n",
       "0                0             0        0  \n",
       "1                0             0        0  \n",
       "2                0             0        0  \n",
       "3                0             0        0  \n",
       "4                0             0        0  \n",
       "...            ...           ...      ...  \n",
       "110522           0             1        0  \n",
       "110523           0             1        0  \n",
       "110524           0             1        0  \n",
       "110525           0             1        0  \n",
       "110526           0             1        0  \n",
       "\n",
       "[110527 rows x 8 columns]"
      ]
     },
     "execution_count": 6,
     "metadata": {},
     "output_type": "execute_result"
    }
   ],
   "source": [
    "noshow_short_df = noshow_df.drop(['PatientId', 'AppointmentID', 'Gender', 'ScheduledDay', 'AppointmentDay', 'Handcap'], axis=1)\n",
    "noshow_short_df"
   ]
  },
  {
   "cell_type": "code",
   "execution_count": 7,
   "id": "theoretical-glance",
   "metadata": {
    "ExecuteTime": {
     "end_time": "2021-03-26T12:51:37.097370Z",
     "start_time": "2021-03-26T12:51:37.060370Z"
    },
    "scrolled": true
   },
   "outputs": [
    {
     "data": {
      "text/html": [
       "<div>\n",
       "<style scoped>\n",
       "    .dataframe tbody tr th:only-of-type {\n",
       "        vertical-align: middle;\n",
       "    }\n",
       "\n",
       "    .dataframe tbody tr th {\n",
       "        vertical-align: top;\n",
       "    }\n",
       "\n",
       "    .dataframe thead th {\n",
       "        text-align: right;\n",
       "    }\n",
       "</style>\n",
       "<table border=\"1\" class=\"dataframe\">\n",
       "  <thead>\n",
       "    <tr style=\"text-align: right;\">\n",
       "      <th></th>\n",
       "      <th>count</th>\n",
       "      <th>mean</th>\n",
       "      <th>std</th>\n",
       "      <th>min</th>\n",
       "      <th>25%</th>\n",
       "      <th>50%</th>\n",
       "      <th>75%</th>\n",
       "      <th>max</th>\n",
       "    </tr>\n",
       "  </thead>\n",
       "  <tbody>\n",
       "    <tr>\n",
       "      <th>Scholarship</th>\n",
       "      <td>110527.0</td>\n",
       "      <td>0.098266</td>\n",
       "      <td>0.297675</td>\n",
       "      <td>0.0</td>\n",
       "      <td>0.0</td>\n",
       "      <td>0.0</td>\n",
       "      <td>0.0</td>\n",
       "      <td>1.0</td>\n",
       "    </tr>\n",
       "    <tr>\n",
       "      <th>Hipertension</th>\n",
       "      <td>110527.0</td>\n",
       "      <td>0.197246</td>\n",
       "      <td>0.397921</td>\n",
       "      <td>0.0</td>\n",
       "      <td>0.0</td>\n",
       "      <td>0.0</td>\n",
       "      <td>0.0</td>\n",
       "      <td>1.0</td>\n",
       "    </tr>\n",
       "    <tr>\n",
       "      <th>Diabetes</th>\n",
       "      <td>110527.0</td>\n",
       "      <td>0.071865</td>\n",
       "      <td>0.258265</td>\n",
       "      <td>0.0</td>\n",
       "      <td>0.0</td>\n",
       "      <td>0.0</td>\n",
       "      <td>0.0</td>\n",
       "      <td>1.0</td>\n",
       "    </tr>\n",
       "    <tr>\n",
       "      <th>Alcoholism</th>\n",
       "      <td>110527.0</td>\n",
       "      <td>0.030400</td>\n",
       "      <td>0.171686</td>\n",
       "      <td>0.0</td>\n",
       "      <td>0.0</td>\n",
       "      <td>0.0</td>\n",
       "      <td>0.0</td>\n",
       "      <td>1.0</td>\n",
       "    </tr>\n",
       "    <tr>\n",
       "      <th>SMS_received</th>\n",
       "      <td>110527.0</td>\n",
       "      <td>0.321026</td>\n",
       "      <td>0.466873</td>\n",
       "      <td>0.0</td>\n",
       "      <td>0.0</td>\n",
       "      <td>0.0</td>\n",
       "      <td>1.0</td>\n",
       "      <td>1.0</td>\n",
       "    </tr>\n",
       "    <tr>\n",
       "      <th>No-show</th>\n",
       "      <td>110527.0</td>\n",
       "      <td>0.201933</td>\n",
       "      <td>0.401444</td>\n",
       "      <td>0.0</td>\n",
       "      <td>0.0</td>\n",
       "      <td>0.0</td>\n",
       "      <td>0.0</td>\n",
       "      <td>1.0</td>\n",
       "    </tr>\n",
       "  </tbody>\n",
       "</table>\n",
       "</div>"
      ],
      "text/plain": [
       "                 count      mean       std  min  25%  50%  75%  max\n",
       "Scholarship   110527.0  0.098266  0.297675  0.0  0.0  0.0  0.0  1.0\n",
       "Hipertension  110527.0  0.197246  0.397921  0.0  0.0  0.0  0.0  1.0\n",
       "Diabetes      110527.0  0.071865  0.258265  0.0  0.0  0.0  0.0  1.0\n",
       "Alcoholism    110527.0  0.030400  0.171686  0.0  0.0  0.0  0.0  1.0\n",
       "SMS_received  110527.0  0.321026  0.466873  0.0  0.0  0.0  1.0  1.0\n",
       "No-show       110527.0  0.201933  0.401444  0.0  0.0  0.0  0.0  1.0"
      ]
     },
     "execution_count": 7,
     "metadata": {},
     "output_type": "execute_result"
    }
   ],
   "source": [
    "noshow_conditions = noshow_short_df.drop(['Age'], axis=1)\n",
    "noshow_conditions.describe().T"
   ]
  },
  {
   "cell_type": "code",
   "execution_count": 8,
   "id": "hispanic-flashing",
   "metadata": {
    "ExecuteTime": {
     "end_time": "2021-03-26T12:51:37.104872Z",
     "start_time": "2021-03-26T12:51:37.098870Z"
    },
    "scrolled": true
   },
   "outputs": [
    {
     "name": "stdout",
     "output_type": "stream",
     "text": [
      "(110527, 7)\n",
      "(110527,)\n"
     ]
    }
   ],
   "source": [
    "y = noshow_short_df['No-show']\n",
    "X = noshow_short_df.drop('No-show', axis=1)\n",
    "print(X.shape)\n",
    "print(y.shape)"
   ]
  },
  {
   "cell_type": "code",
   "execution_count": 9,
   "id": "demographic-database",
   "metadata": {
    "ExecuteTime": {
     "end_time": "2021-03-26T12:51:37.185871Z",
     "start_time": "2021-03-26T12:51:37.106372Z"
    },
    "scrolled": false
   },
   "outputs": [
    {
     "name": "stdout",
     "output_type": "stream",
     "text": [
      "22319\n"
     ]
    },
    {
     "data": {
      "text/plain": [
       "Age                                                         765936\n",
       "Neighbourhood    GOIABEIRASGOIABEIRASNOVA PALESTINACONQUISTANOV...\n",
       "Scholarship                                                   2578\n",
       "Hipertension                                                  3772\n",
       "Diabetes                                                      1430\n",
       "Alcoholism                                                     677\n",
       "SMS_received                                                  9784\n",
       "No-show                                                      22319\n",
       "dtype: object"
      ]
     },
     "execution_count": 9,
     "metadata": {},
     "output_type": "execute_result"
    }
   ],
   "source": [
    "noshows = noshow_short_df[noshow_short_df['No-show']==1]\n",
    "noshows.head()\n",
    "print(noshows.shape[0])\n",
    "noshows.sum()"
   ]
  },
  {
   "cell_type": "code",
   "execution_count": 10,
   "id": "dried-guidance",
   "metadata": {
    "ExecuteTime": {
     "end_time": "2021-03-26T12:51:38.121872Z",
     "start_time": "2021-03-26T12:51:37.186871Z"
    },
    "scrolled": true
   },
   "outputs": [
    {
     "name": "stdout",
     "output_type": "stream",
     "text": [
      "88208\n"
     ]
    },
    {
     "data": {
      "text/plain": [
       "Age                                                        3333386\n",
       "Neighbourhood    JARDIM DA PENHAJARDIM DA PENHAMATA DA PRAIAPON...\n",
       "Scholarship                                                   8283\n",
       "Hipertension                                                 18029\n",
       "Diabetes                                                      6513\n",
       "Alcoholism                                                    2683\n",
       "SMS_received                                                 25698\n",
       "No-show                                                          0\n",
       "dtype: object"
      ]
     },
     "execution_count": 10,
     "metadata": {},
     "output_type": "execute_result"
    }
   ],
   "source": [
    "shows = noshow_short_df[noshow_short_df['No-show']==0]\n",
    "shows.head()\n",
    "print(shows.shape[0])\n",
    "shows.sum()\n"
   ]
  },
  {
   "cell_type": "code",
   "execution_count": 11,
   "id": "satisfied-rehabilitation",
   "metadata": {
    "ExecuteTime": {
     "end_time": "2021-03-26T12:51:38.130370Z",
     "start_time": "2021-03-26T12:51:38.122872Z"
    }
   },
   "outputs": [
    {
     "data": {
      "text/html": [
       "<div>\n",
       "<style scoped>\n",
       "    .dataframe tbody tr th:only-of-type {\n",
       "        vertical-align: middle;\n",
       "    }\n",
       "\n",
       "    .dataframe tbody tr th {\n",
       "        vertical-align: top;\n",
       "    }\n",
       "\n",
       "    .dataframe thead th {\n",
       "        text-align: right;\n",
       "    }\n",
       "</style>\n",
       "<table border=\"1\" class=\"dataframe\">\n",
       "  <thead>\n",
       "    <tr style=\"text-align: right;\">\n",
       "      <th></th>\n",
       "      <th>Neighbourhood</th>\n",
       "      <th>Scholarship</th>\n",
       "      <th>Hipertension</th>\n",
       "      <th>Diabetes</th>\n",
       "      <th>Alcoholism</th>\n",
       "      <th>SMS_received</th>\n",
       "      <th>No-show</th>\n",
       "    </tr>\n",
       "  </thead>\n",
       "  <tbody>\n",
       "    <tr>\n",
       "      <th>0</th>\n",
       "      <td>JARDIM DA PENHA</td>\n",
       "      <td>0</td>\n",
       "      <td>1</td>\n",
       "      <td>0</td>\n",
       "      <td>0</td>\n",
       "      <td>0</td>\n",
       "      <td>0</td>\n",
       "    </tr>\n",
       "    <tr>\n",
       "      <th>1</th>\n",
       "      <td>JARDIM DA PENHA</td>\n",
       "      <td>0</td>\n",
       "      <td>0</td>\n",
       "      <td>0</td>\n",
       "      <td>0</td>\n",
       "      <td>0</td>\n",
       "      <td>0</td>\n",
       "    </tr>\n",
       "    <tr>\n",
       "      <th>2</th>\n",
       "      <td>MATA DA PRAIA</td>\n",
       "      <td>0</td>\n",
       "      <td>0</td>\n",
       "      <td>0</td>\n",
       "      <td>0</td>\n",
       "      <td>0</td>\n",
       "      <td>0</td>\n",
       "    </tr>\n",
       "    <tr>\n",
       "      <th>3</th>\n",
       "      <td>PONTAL DE CAMBURI</td>\n",
       "      <td>0</td>\n",
       "      <td>0</td>\n",
       "      <td>0</td>\n",
       "      <td>0</td>\n",
       "      <td>0</td>\n",
       "      <td>0</td>\n",
       "    </tr>\n",
       "    <tr>\n",
       "      <th>4</th>\n",
       "      <td>JARDIM DA PENHA</td>\n",
       "      <td>0</td>\n",
       "      <td>1</td>\n",
       "      <td>1</td>\n",
       "      <td>0</td>\n",
       "      <td>0</td>\n",
       "      <td>0</td>\n",
       "    </tr>\n",
       "    <tr>\n",
       "      <th>...</th>\n",
       "      <td>...</td>\n",
       "      <td>...</td>\n",
       "      <td>...</td>\n",
       "      <td>...</td>\n",
       "      <td>...</td>\n",
       "      <td>...</td>\n",
       "      <td>...</td>\n",
       "    </tr>\n",
       "    <tr>\n",
       "      <th>110522</th>\n",
       "      <td>MARIA ORTIZ</td>\n",
       "      <td>0</td>\n",
       "      <td>0</td>\n",
       "      <td>0</td>\n",
       "      <td>0</td>\n",
       "      <td>1</td>\n",
       "      <td>0</td>\n",
       "    </tr>\n",
       "    <tr>\n",
       "      <th>110523</th>\n",
       "      <td>MARIA ORTIZ</td>\n",
       "      <td>0</td>\n",
       "      <td>0</td>\n",
       "      <td>0</td>\n",
       "      <td>0</td>\n",
       "      <td>1</td>\n",
       "      <td>0</td>\n",
       "    </tr>\n",
       "    <tr>\n",
       "      <th>110524</th>\n",
       "      <td>MARIA ORTIZ</td>\n",
       "      <td>0</td>\n",
       "      <td>0</td>\n",
       "      <td>0</td>\n",
       "      <td>0</td>\n",
       "      <td>1</td>\n",
       "      <td>0</td>\n",
       "    </tr>\n",
       "    <tr>\n",
       "      <th>110525</th>\n",
       "      <td>MARIA ORTIZ</td>\n",
       "      <td>0</td>\n",
       "      <td>0</td>\n",
       "      <td>0</td>\n",
       "      <td>0</td>\n",
       "      <td>1</td>\n",
       "      <td>0</td>\n",
       "    </tr>\n",
       "    <tr>\n",
       "      <th>110526</th>\n",
       "      <td>MARIA ORTIZ</td>\n",
       "      <td>0</td>\n",
       "      <td>0</td>\n",
       "      <td>0</td>\n",
       "      <td>0</td>\n",
       "      <td>1</td>\n",
       "      <td>0</td>\n",
       "    </tr>\n",
       "  </tbody>\n",
       "</table>\n",
       "<p>110527 rows × 7 columns</p>\n",
       "</div>"
      ],
      "text/plain": [
       "            Neighbourhood  Scholarship  Hipertension  Diabetes  Alcoholism  \\\n",
       "0         JARDIM DA PENHA            0             1         0           0   \n",
       "1         JARDIM DA PENHA            0             0         0           0   \n",
       "2           MATA DA PRAIA            0             0         0           0   \n",
       "3       PONTAL DE CAMBURI            0             0         0           0   \n",
       "4         JARDIM DA PENHA            0             1         1           0   \n",
       "...                   ...          ...           ...       ...         ...   \n",
       "110522        MARIA ORTIZ            0             0         0           0   \n",
       "110523        MARIA ORTIZ            0             0         0           0   \n",
       "110524        MARIA ORTIZ            0             0         0           0   \n",
       "110525        MARIA ORTIZ            0             0         0           0   \n",
       "110526        MARIA ORTIZ            0             0         0           0   \n",
       "\n",
       "        SMS_received  No-show  \n",
       "0                  0        0  \n",
       "1                  0        0  \n",
       "2                  0        0  \n",
       "3                  0        0  \n",
       "4                  0        0  \n",
       "...              ...      ...  \n",
       "110522             1        0  \n",
       "110523             1        0  \n",
       "110524             1        0  \n",
       "110525             1        0  \n",
       "110526             1        0  \n",
       "\n",
       "[110527 rows x 7 columns]"
      ]
     },
     "execution_count": 11,
     "metadata": {},
     "output_type": "execute_result"
    }
   ],
   "source": [
    "noshow_conditions"
   ]
  },
  {
   "cell_type": "code",
   "execution_count": 12,
   "id": "processed-injury",
   "metadata": {
    "ExecuteTime": {
     "end_time": "2021-03-26T12:51:38.481369Z",
     "start_time": "2021-03-26T12:51:38.130869Z"
    },
    "scrolled": false
   },
   "outputs": [
    {
     "data": {
      "image/png": "[encoded data removed]",
      "text/plain": [
       "<Figure size 720x576 with 2 Axes>"
      ]
     },
     "metadata": {
      "needs_background": "light"
     },
     "output_type": "display_data"
    }
   ],
   "source": [
    "# Heatmap, MAGNITUDE of correlation \n",
    "plt.figure(figsize=(10,8))\n",
    "sns.heatmap(noshow_conditions.corr(), cmap=\"Oranges\", vmin=0, vmax=1, center=0.5, annot=True, linewidths=2)\n",
    "plt.title('Correlation Heat Map of Conditions and No-Show in Brazil')\n",
    "plt.show()"
   ]
  },
  {
   "cell_type": "markdown",
   "id": "permanent-elite",
   "metadata": {},
   "source": [
    "## <font color='red'>No-Show results and followup</font>"
   ]
  },
  {
   "cell_type": "markdown",
   "id": "preliminary-campus",
   "metadata": {},
   "source": [
    "values are all between 0 and 1 except for handicap feature but doesn't seem to have much significant correlation to whether they showed or didn't show. \n",
    "- Diabetes patients are more likely to be a no-show.\n",
    "- SMS received seems to very slightly negatively affect commitments to appointments.\n",
    "  \n",
    "What other tests can we use for this aside from statistical significance?"
   ]
  },
  {
   "cell_type": "markdown",
   "id": "lesser-store",
   "metadata": {},
   "source": [
    "# Insurance\n",
    "No NaNs <br>\n",
    "No Duplicates"
   ]
  },
  {
   "cell_type": "markdown",
   "id": "golden-convergence",
   "metadata": {},
   "source": [
    " \n",
    "    Variable      Format      Description     \n",
    "       year            4      Year of Estimate\n",
    "       version         8      Release Version \n",
    "                                 Blank   : YEAR other than 2013, Only Version   \n",
    "                                 Original: 2013 only, Original Version          \n",
    "                                 Updated : 2013 only, Updated Version (May 2016)\n",
    "       statefips       2      Unique FIPS code for each state                   \n",
    "       countyfips      3      Unique FIPS code for each county within a state   \n",
    "       geocat          2      Geography category             \n",
    "                                40 - State geographic identifier \n",
    "                                50 - County geographic identifier\n",
    "       agecat          1      Age category        \n",
    "                                0 - Under 65 years\n",
    "                                1 - 18 to 64 years\n",
    "                                2 - 40 to 64 years\n",
    "                                3 - 50 to 64 years\n",
    "                                4 - Under 19 years\n",
    "                                5 - 21 to 64 years\n",
    "       racecat         1      Race category  \n",
    "                                0 - All races\n",
    "                                Only state estimates have racecat=1,2,3 values\n",
    "                                1 - White alone, not Hispanic\n",
    "                                2 - Black alone, not Hispanic\n",
    "                                3 - Hispanic (any race)      \n",
    "       sexcat          1      Sex category    \n",
    "                                0 - Both sexes\n",
    "                                1 - Male      \n",
    "                                2 - Female    \n",
    "       iprcat          1      Income category \n",
    "                                0 - All income levels          \n",
    "                                1 - At or below 200% of poverty\n",
    "                                2 - At or below 250% of poverty\n",
    "                                3 - At or below 138% of poverty\n",
    "                                4 - At or below 400% of poverty\n",
    "                                5 - Between 138% - 400%  of poverty\n",
    "      NIPR             8      Number in demographic group for <income category>\n",
    "         nipr_moe      8           MOE  for NIPR\n",
    "      NUI              8      Number uninsured  \n",
    "         nui_moe       8           MOE  for NUI \n",
    "      NIC              8      Number insured    \n",
    "         nic_moe       8           MOE  for NIC \n",
    "      PCTUI            5.1    Percent uninsured in demographic group for <income category>\n",
    "         pctui_moe     5.1         MOE  for PCTUI                                 \n",
    "      PCTIC            5.1    Percent insured in demographic group for <income category>  \n",
    "         pctic_moe     5.1         MOE  for PCTIC                                 \n",
    "      PCTELIG          5.1    Percent uninsured in demographic group for all income levels\n",
    "         pctelig_moe   5.1         MOE  for PCTELIG                                \n",
    "      PCTLIIC          5.1    Percent insured in demographic group for all income levels  \n",
    "         pctliic_moe   5.1         MOE  for PCTLIIC                                \n",
    "      state_name       70     State Name\n",
    "      county_name      45     County Name\n",
    " \n",
    "  PRIMARY KEY: year version statefips countyfips agecat racecat sexcat iprcat         \n",
    " \n",
    "  Note 1:  A margin of error (MOE) is the difference between an estimate and its upper\n",
    "  or lower confidence bounds. Confidence bounds can be created by adding the margin   \n",
    "  of error to the estimate (for an upper bound) and subtracting the margin of error   \n",
    "  from the estimate (for a lower bound). All published margins of error for the Small \n",
    "  Area Health Insurance Estimates program are based on a 90 percent confidence level. \n",
    " \n",
    "  Note 2:  The number in a demographic group is the number of people in the poverty   \n",
    "  universe in that age, sex, and race/Hispanic origin group.                          \n",
    " \n",
    "  Note 3:  Values for Kalawao, HI (15-005) should be considered N/A or missing.       \n",
    " \n",
    "  Note 4:  MOEs of zero should be assumed to be <1 for counts and <0.1 for percentages.\n",
    " \n",
    "  General Note:  Details may not sum to totals because of rounding.  "
   ]
  },
  {
   "cell_type": "code",
   "execution_count": 13,
   "id": "dietary-champion",
   "metadata": {
    "ExecuteTime": {
     "end_time": "2021-03-26T12:51:38.982369Z",
     "start_time": "2021-03-26T12:51:38.482371Z"
    },
    "scrolled": true
   },
   "outputs": [
    {
     "data": {
      "text/html": [
       "<div>\n",
       "<style scoped>\n",
       "    .dataframe tbody tr th:only-of-type {\n",
       "        vertical-align: middle;\n",
       "    }\n",
       "\n",
       "    .dataframe tbody tr th {\n",
       "        vertical-align: top;\n",
       "    }\n",
       "\n",
       "    .dataframe thead th {\n",
       "        text-align: right;\n",
       "    }\n",
       "</style>\n",
       "<table border=\"1\" class=\"dataframe\">\n",
       "  <thead>\n",
       "    <tr style=\"text-align: right;\">\n",
       "      <th></th>\n",
       "      <th>year</th>\n",
       "      <th>statefips</th>\n",
       "      <th>countyfips</th>\n",
       "      <th>agecat</th>\n",
       "      <th>racecat</th>\n",
       "      <th>sexcat</th>\n",
       "      <th>iprcat</th>\n",
       "      <th>NIPR</th>\n",
       "      <th>NUI</th>\n",
       "      <th>NIC</th>\n",
       "      <th>PCTUI</th>\n",
       "      <th>PCTIC</th>\n",
       "      <th>PCTELIG</th>\n",
       "      <th>PCTLIIC</th>\n",
       "      <th>state_name</th>\n",
       "      <th>county_name</th>\n",
       "    </tr>\n",
       "  </thead>\n",
       "  <tbody>\n",
       "    <tr>\n",
       "      <th>0</th>\n",
       "      <td>2018</td>\n",
       "      <td>1</td>\n",
       "      <td>1</td>\n",
       "      <td>0</td>\n",
       "      <td>0</td>\n",
       "      <td>0</td>\n",
       "      <td>0</td>\n",
       "      <td>46709</td>\n",
       "      <td>4693</td>\n",
       "      <td>42016</td>\n",
       "      <td>10.0</td>\n",
       "      <td>90.0</td>\n",
       "      <td>10.0</td>\n",
       "      <td>90.0</td>\n",
       "      <td>Alabama                                       ...</td>\n",
       "      <td>Autauga County</td>\n",
       "    </tr>\n",
       "    <tr>\n",
       "      <th>1</th>\n",
       "      <td>2018</td>\n",
       "      <td>1</td>\n",
       "      <td>1</td>\n",
       "      <td>0</td>\n",
       "      <td>0</td>\n",
       "      <td>0</td>\n",
       "      <td>1</td>\n",
       "      <td>14248</td>\n",
       "      <td>2660</td>\n",
       "      <td>11588</td>\n",
       "      <td>18.7</td>\n",
       "      <td>81.3</td>\n",
       "      <td>5.7</td>\n",
       "      <td>24.8</td>\n",
       "      <td>Alabama                                       ...</td>\n",
       "      <td>Autauga County</td>\n",
       "    </tr>\n",
       "  </tbody>\n",
       "</table>\n",
       "</div>"
      ],
      "text/plain": [
       "   year  statefips  countyfips  agecat  racecat  sexcat  iprcat   NIPR   NUI  \\\n",
       "0  2018          1           1       0        0       0       0  46709  4693   \n",
       "1  2018          1           1       0        0       0       1  14248  2660   \n",
       "\n",
       "     NIC  PCTUI  PCTIC  PCTELIG  PCTLIIC  \\\n",
       "0  42016   10.0   90.0     10.0     90.0   \n",
       "1  11588   18.7   81.3      5.7     24.8   \n",
       "\n",
       "                                          state_name  \\\n",
       "0  Alabama                                       ...   \n",
       "1  Alabama                                       ...   \n",
       "\n",
       "                                     county_name  \n",
       "0  Autauga County                                 \n",
       "1  Autauga County                                 "
      ]
     },
     "metadata": {},
     "output_type": "display_data"
    },
    {
     "data": {
      "text/html": [
       "<div>\n",
       "<style scoped>\n",
       "    .dataframe tbody tr th:only-of-type {\n",
       "        vertical-align: middle;\n",
       "    }\n",
       "\n",
       "    .dataframe tbody tr th {\n",
       "        vertical-align: top;\n",
       "    }\n",
       "\n",
       "    .dataframe thead th {\n",
       "        text-align: right;\n",
       "    }\n",
       "</style>\n",
       "<table border=\"1\" class=\"dataframe\">\n",
       "  <thead>\n",
       "    <tr style=\"text-align: right;\">\n",
       "      <th></th>\n",
       "      <th>count</th>\n",
       "      <th>mean</th>\n",
       "      <th>std</th>\n",
       "      <th>min</th>\n",
       "      <th>25%</th>\n",
       "      <th>50%</th>\n",
       "      <th>75%</th>\n",
       "      <th>max</th>\n",
       "    </tr>\n",
       "  </thead>\n",
       "  <tbody>\n",
       "    <tr>\n",
       "      <th>year</th>\n",
       "      <td>301532.0</td>\n",
       "      <td>2018.000000</td>\n",
       "      <td>0.000000</td>\n",
       "      <td>2018.0</td>\n",
       "      <td>2018.0</td>\n",
       "      <td>2018.0</td>\n",
       "      <td>2018.0</td>\n",
       "      <td>2018.0</td>\n",
       "    </tr>\n",
       "    <tr>\n",
       "      <th>statefips</th>\n",
       "      <td>301532.0</td>\n",
       "      <td>30.284706</td>\n",
       "      <td>15.141872</td>\n",
       "      <td>1.0</td>\n",
       "      <td>18.0</td>\n",
       "      <td>29.0</td>\n",
       "      <td>45.0</td>\n",
       "      <td>56.0</td>\n",
       "    </tr>\n",
       "    <tr>\n",
       "      <th>countyfips</th>\n",
       "      <td>301532.0</td>\n",
       "      <td>103.601648</td>\n",
       "      <td>107.688186</td>\n",
       "      <td>1.0</td>\n",
       "      <td>35.0</td>\n",
       "      <td>79.0</td>\n",
       "      <td>133.0</td>\n",
       "      <td>840.0</td>\n",
       "    </tr>\n",
       "    <tr>\n",
       "      <th>agecat</th>\n",
       "      <td>301532.0</td>\n",
       "      <td>2.312498</td>\n",
       "      <td>1.721885</td>\n",
       "      <td>0.0</td>\n",
       "      <td>1.0</td>\n",
       "      <td>2.0</td>\n",
       "      <td>4.0</td>\n",
       "      <td>5.0</td>\n",
       "    </tr>\n",
       "    <tr>\n",
       "      <th>racecat</th>\n",
       "      <td>301532.0</td>\n",
       "      <td>0.000000</td>\n",
       "      <td>0.000000</td>\n",
       "      <td>0.0</td>\n",
       "      <td>0.0</td>\n",
       "      <td>0.0</td>\n",
       "      <td>0.0</td>\n",
       "      <td>0.0</td>\n",
       "    </tr>\n",
       "    <tr>\n",
       "      <th>sexcat</th>\n",
       "      <td>301532.0</td>\n",
       "      <td>0.937486</td>\n",
       "      <td>0.826795</td>\n",
       "      <td>0.0</td>\n",
       "      <td>0.0</td>\n",
       "      <td>1.0</td>\n",
       "      <td>2.0</td>\n",
       "      <td>2.0</td>\n",
       "    </tr>\n",
       "    <tr>\n",
       "      <th>iprcat</th>\n",
       "      <td>301532.0</td>\n",
       "      <td>2.500007</td>\n",
       "      <td>1.707834</td>\n",
       "      <td>0.0</td>\n",
       "      <td>1.0</td>\n",
       "      <td>2.5</td>\n",
       "      <td>4.0</td>\n",
       "      <td>5.0</td>\n",
       "    </tr>\n",
       "    <tr>\n",
       "      <th>NIPR</th>\n",
       "      <td>301532.0</td>\n",
       "      <td>15729.066258</td>\n",
       "      <td>72107.306434</td>\n",
       "      <td>1.0</td>\n",
       "      <td>1102.0</td>\n",
       "      <td>3134.0</td>\n",
       "      <td>9318.0</td>\n",
       "      <td>8577977.0</td>\n",
       "    </tr>\n",
       "    <tr>\n",
       "      <th>NUI</th>\n",
       "      <td>301532.0</td>\n",
       "      <td>2341.458290</td>\n",
       "      <td>11949.645875</td>\n",
       "      <td>0.0</td>\n",
       "      <td>154.0</td>\n",
       "      <td>444.0</td>\n",
       "      <td>1338.0</td>\n",
       "      <td>935213.0</td>\n",
       "    </tr>\n",
       "    <tr>\n",
       "      <th>NIC</th>\n",
       "      <td>301532.0</td>\n",
       "      <td>13387.607969</td>\n",
       "      <td>61736.334755</td>\n",
       "      <td>1.0</td>\n",
       "      <td>906.0</td>\n",
       "      <td>2620.0</td>\n",
       "      <td>7875.0</td>\n",
       "      <td>7703359.0</td>\n",
       "    </tr>\n",
       "    <tr>\n",
       "      <th>PCTUI</th>\n",
       "      <td>301532.0</td>\n",
       "      <td>16.470679</td>\n",
       "      <td>8.606334</td>\n",
       "      <td>0.0</td>\n",
       "      <td>10.0</td>\n",
       "      <td>14.6</td>\n",
       "      <td>21.4</td>\n",
       "      <td>64.6</td>\n",
       "    </tr>\n",
       "    <tr>\n",
       "      <th>PCTIC</th>\n",
       "      <td>301532.0</td>\n",
       "      <td>83.529321</td>\n",
       "      <td>8.606334</td>\n",
       "      <td>35.4</td>\n",
       "      <td>78.6</td>\n",
       "      <td>85.4</td>\n",
       "      <td>90.0</td>\n",
       "      <td>100.0</td>\n",
       "    </tr>\n",
       "    <tr>\n",
       "      <th>PCTELIG</th>\n",
       "      <td>301532.0</td>\n",
       "      <td>7.488956</td>\n",
       "      <td>4.874800</td>\n",
       "      <td>0.0</td>\n",
       "      <td>3.9</td>\n",
       "      <td>6.3</td>\n",
       "      <td>9.8</td>\n",
       "      <td>44.2</td>\n",
       "    </tr>\n",
       "    <tr>\n",
       "      <th>PCTLIIC</th>\n",
       "      <td>301532.0</td>\n",
       "      <td>42.352092</td>\n",
       "      <td>25.014967</td>\n",
       "      <td>1.1</td>\n",
       "      <td>23.3</td>\n",
       "      <td>36.5</td>\n",
       "      <td>54.9</td>\n",
       "      <td>99.2</td>\n",
       "    </tr>\n",
       "  </tbody>\n",
       "</table>\n",
       "</div>"
      ],
      "text/plain": [
       "               count          mean           std     min     25%     50%  \\\n",
       "year        301532.0   2018.000000      0.000000  2018.0  2018.0  2018.0   \n",
       "statefips   301532.0     30.284706     15.141872     1.0    18.0    29.0   \n",
       "countyfips  301532.0    103.601648    107.688186     1.0    35.0    79.0   \n",
       "agecat      301532.0      2.312498      1.721885     0.0     1.0     2.0   \n",
       "racecat     301532.0      0.000000      0.000000     0.0     0.0     0.0   \n",
       "sexcat      301532.0      0.937486      0.826795     0.0     0.0     1.0   \n",
       "iprcat      301532.0      2.500007      1.707834     0.0     1.0     2.5   \n",
       "NIPR        301532.0  15729.066258  72107.306434     1.0  1102.0  3134.0   \n",
       "NUI         301532.0   2341.458290  11949.645875     0.0   154.0   444.0   \n",
       "NIC         301532.0  13387.607969  61736.334755     1.0   906.0  2620.0   \n",
       "PCTUI       301532.0     16.470679      8.606334     0.0    10.0    14.6   \n",
       "PCTIC       301532.0     83.529321      8.606334    35.4    78.6    85.4   \n",
       "PCTELIG     301532.0      7.488956      4.874800     0.0     3.9     6.3   \n",
       "PCTLIIC     301532.0     42.352092     25.014967     1.1    23.3    36.5   \n",
       "\n",
       "               75%        max  \n",
       "year        2018.0     2018.0  \n",
       "statefips     45.0       56.0  \n",
       "countyfips   133.0      840.0  \n",
       "agecat         4.0        5.0  \n",
       "racecat        0.0        0.0  \n",
       "sexcat         2.0        2.0  \n",
       "iprcat         4.0        5.0  \n",
       "NIPR        9318.0  8577977.0  \n",
       "NUI         1338.0   935213.0  \n",
       "NIC         7875.0  7703359.0  \n",
       "PCTUI         21.4       64.6  \n",
       "PCTIC         90.0      100.0  \n",
       "PCTELIG        9.8       44.2  \n",
       "PCTLIIC       54.9       99.2  "
      ]
     },
     "execution_count": 13,
     "metadata": {},
     "output_type": "execute_result"
    }
   ],
   "source": [
    "insurance_df = pd.read_csv('data/health_insurance.csv')\n",
    "display(insurance_df.head(2))\n",
    "insurance_df.describe().T"
   ]
  },
  {
   "cell_type": "code",
   "execution_count": 14,
   "id": "aggressive-defendant",
   "metadata": {
    "ExecuteTime": {
     "end_time": "2021-03-26T12:51:38.999370Z",
     "start_time": "2021-03-26T12:51:38.983373Z"
    },
    "scrolled": true
   },
   "outputs": [
    {
     "data": {
      "text/html": [
       "<div>\n",
       "<style scoped>\n",
       "    .dataframe tbody tr th:only-of-type {\n",
       "        vertical-align: middle;\n",
       "    }\n",
       "\n",
       "    .dataframe tbody tr th {\n",
       "        vertical-align: top;\n",
       "    }\n",
       "\n",
       "    .dataframe thead th {\n",
       "        text-align: right;\n",
       "    }\n",
       "</style>\n",
       "<table border=\"1\" class=\"dataframe\">\n",
       "  <thead>\n",
       "    <tr style=\"text-align: right;\">\n",
       "      <th></th>\n",
       "      <th>agecat</th>\n",
       "      <th>racecat</th>\n",
       "      <th>iprcat</th>\n",
       "      <th>PCTUI</th>\n",
       "      <th>PCTIC</th>\n",
       "      <th>PCTELIG</th>\n",
       "      <th>PCTLIIC</th>\n",
       "    </tr>\n",
       "  </thead>\n",
       "  <tbody>\n",
       "    <tr>\n",
       "      <th>0</th>\n",
       "      <td>0</td>\n",
       "      <td>0</td>\n",
       "      <td>0</td>\n",
       "      <td>10.0</td>\n",
       "      <td>90.0</td>\n",
       "      <td>10.0</td>\n",
       "      <td>90.0</td>\n",
       "    </tr>\n",
       "    <tr>\n",
       "      <th>1</th>\n",
       "      <td>0</td>\n",
       "      <td>0</td>\n",
       "      <td>1</td>\n",
       "      <td>18.7</td>\n",
       "      <td>81.3</td>\n",
       "      <td>5.7</td>\n",
       "      <td>24.8</td>\n",
       "    </tr>\n",
       "    <tr>\n",
       "      <th>2</th>\n",
       "      <td>0</td>\n",
       "      <td>0</td>\n",
       "      <td>2</td>\n",
       "      <td>17.3</td>\n",
       "      <td>82.7</td>\n",
       "      <td>6.8</td>\n",
       "      <td>32.4</td>\n",
       "    </tr>\n",
       "    <tr>\n",
       "      <th>3</th>\n",
       "      <td>0</td>\n",
       "      <td>0</td>\n",
       "      <td>3</td>\n",
       "      <td>20.0</td>\n",
       "      <td>80.0</td>\n",
       "      <td>4.0</td>\n",
       "      <td>16.2</td>\n",
       "    </tr>\n",
       "    <tr>\n",
       "      <th>4</th>\n",
       "      <td>0</td>\n",
       "      <td>0</td>\n",
       "      <td>4</td>\n",
       "      <td>13.6</td>\n",
       "      <td>86.4</td>\n",
       "      <td>8.7</td>\n",
       "      <td>55.3</td>\n",
       "    </tr>\n",
       "    <tr>\n",
       "      <th>...</th>\n",
       "      <td>...</td>\n",
       "      <td>...</td>\n",
       "      <td>...</td>\n",
       "      <td>...</td>\n",
       "      <td>...</td>\n",
       "      <td>...</td>\n",
       "      <td>...</td>\n",
       "    </tr>\n",
       "    <tr>\n",
       "      <th>301527</th>\n",
       "      <td>5</td>\n",
       "      <td>0</td>\n",
       "      <td>1</td>\n",
       "      <td>23.4</td>\n",
       "      <td>76.6</td>\n",
       "      <td>5.9</td>\n",
       "      <td>19.2</td>\n",
       "    </tr>\n",
       "    <tr>\n",
       "      <th>301528</th>\n",
       "      <td>5</td>\n",
       "      <td>0</td>\n",
       "      <td>2</td>\n",
       "      <td>22.3</td>\n",
       "      <td>77.7</td>\n",
       "      <td>7.4</td>\n",
       "      <td>25.8</td>\n",
       "    </tr>\n",
       "    <tr>\n",
       "      <th>301529</th>\n",
       "      <td>5</td>\n",
       "      <td>0</td>\n",
       "      <td>3</td>\n",
       "      <td>25.0</td>\n",
       "      <td>75.0</td>\n",
       "      <td>4.2</td>\n",
       "      <td>12.5</td>\n",
       "    </tr>\n",
       "    <tr>\n",
       "      <th>301530</th>\n",
       "      <td>5</td>\n",
       "      <td>0</td>\n",
       "      <td>4</td>\n",
       "      <td>18.2</td>\n",
       "      <td>81.8</td>\n",
       "      <td>9.9</td>\n",
       "      <td>44.7</td>\n",
       "    </tr>\n",
       "    <tr>\n",
       "      <th>301531</th>\n",
       "      <td>5</td>\n",
       "      <td>0</td>\n",
       "      <td>5</td>\n",
       "      <td>15.2</td>\n",
       "      <td>84.8</td>\n",
       "      <td>5.8</td>\n",
       "      <td>32.3</td>\n",
       "    </tr>\n",
       "  </tbody>\n",
       "</table>\n",
       "<p>301532 rows × 7 columns</p>\n",
       "</div>"
      ],
      "text/plain": [
       "        agecat  racecat  iprcat  PCTUI  PCTIC  PCTELIG  PCTLIIC\n",
       "0            0        0       0   10.0   90.0     10.0     90.0\n",
       "1            0        0       1   18.7   81.3      5.7     24.8\n",
       "2            0        0       2   17.3   82.7      6.8     32.4\n",
       "3            0        0       3   20.0   80.0      4.0     16.2\n",
       "4            0        0       4   13.6   86.4      8.7     55.3\n",
       "...        ...      ...     ...    ...    ...      ...      ...\n",
       "301527       5        0       1   23.4   76.6      5.9     19.2\n",
       "301528       5        0       2   22.3   77.7      7.4     25.8\n",
       "301529       5        0       3   25.0   75.0      4.2     12.5\n",
       "301530       5        0       4   18.2   81.8      9.9     44.7\n",
       "301531       5        0       5   15.2   84.8      5.8     32.3\n",
       "\n",
       "[301532 rows x 7 columns]"
      ]
     },
     "execution_count": 14,
     "metadata": {},
     "output_type": "execute_result"
    }
   ],
   "source": [
    "insurance_short = insurance_df.drop(['year', 'statefips', 'countyfips', 'sexcat', 'NIPR', 'NUI', 'NIC', 'state_name', 'county_name'], axis=1)\n",
    "insurance_short"
   ]
  },
  {
   "cell_type": "code",
   "execution_count": 15,
   "id": "centered-moderator",
   "metadata": {
    "ExecuteTime": {
     "end_time": "2021-03-26T12:51:39.026872Z",
     "start_time": "2021-03-26T12:51:39.000373Z"
    },
    "scrolled": true
   },
   "outputs": [
    {
     "data": {
      "text/html": [
       "<div>\n",
       "<style scoped>\n",
       "    .dataframe tbody tr th:only-of-type {\n",
       "        vertical-align: middle;\n",
       "    }\n",
       "\n",
       "    .dataframe tbody tr th {\n",
       "        vertical-align: top;\n",
       "    }\n",
       "\n",
       "    .dataframe thead th {\n",
       "        text-align: right;\n",
       "    }\n",
       "</style>\n",
       "<table border=\"1\" class=\"dataframe\">\n",
       "  <thead>\n",
       "    <tr style=\"text-align: right;\">\n",
       "      <th></th>\n",
       "      <th>agecat</th>\n",
       "      <th>racecat</th>\n",
       "      <th>PCTUI</th>\n",
       "      <th>PCTIC</th>\n",
       "      <th>PCTELIG</th>\n",
       "      <th>PCTLIIC</th>\n",
       "    </tr>\n",
       "    <tr>\n",
       "      <th>iprcat</th>\n",
       "      <th></th>\n",
       "      <th></th>\n",
       "      <th></th>\n",
       "      <th></th>\n",
       "      <th></th>\n",
       "      <th></th>\n",
       "    </tr>\n",
       "  </thead>\n",
       "  <tbody>\n",
       "    <tr>\n",
       "      <th>0</th>\n",
       "      <td>2.312500</td>\n",
       "      <td>0.0</td>\n",
       "      <td>11.645652</td>\n",
       "      <td>88.354348</td>\n",
       "      <td>11.645652</td>\n",
       "      <td>88.354395</td>\n",
       "    </tr>\n",
       "    <tr>\n",
       "      <th>1</th>\n",
       "      <td>2.312493</td>\n",
       "      <td>0.0</td>\n",
       "      <td>19.487452</td>\n",
       "      <td>80.512548</td>\n",
       "      <td>6.127244</td>\n",
       "      <td>25.627381</td>\n",
       "    </tr>\n",
       "    <tr>\n",
       "      <th>2</th>\n",
       "      <td>2.312500</td>\n",
       "      <td>0.0</td>\n",
       "      <td>18.518278</td>\n",
       "      <td>81.481722</td>\n",
       "      <td>7.446484</td>\n",
       "      <td>32.898265</td>\n",
       "    </tr>\n",
       "    <tr>\n",
       "      <th>3</th>\n",
       "      <td>2.312493</td>\n",
       "      <td>0.0</td>\n",
       "      <td>20.547624</td>\n",
       "      <td>79.452376</td>\n",
       "      <td>4.149938</td>\n",
       "      <td>16.394351</td>\n",
       "    </tr>\n",
       "    <tr>\n",
       "      <th>4</th>\n",
       "      <td>2.312500</td>\n",
       "      <td>0.0</td>\n",
       "      <td>15.421995</td>\n",
       "      <td>84.578005</td>\n",
       "      <td>9.856964</td>\n",
       "      <td>53.615146</td>\n",
       "    </tr>\n",
       "    <tr>\n",
       "      <th>5</th>\n",
       "      <td>2.312500</td>\n",
       "      <td>0.0</td>\n",
       "      <td>13.203357</td>\n",
       "      <td>86.796643</td>\n",
       "      <td>5.707267</td>\n",
       "      <td>37.221317</td>\n",
       "    </tr>\n",
       "  </tbody>\n",
       "</table>\n",
       "</div>"
      ],
      "text/plain": [
       "          agecat  racecat      PCTUI      PCTIC    PCTELIG    PCTLIIC\n",
       "iprcat                                                               \n",
       "0       2.312500      0.0  11.645652  88.354348  11.645652  88.354395\n",
       "1       2.312493      0.0  19.487452  80.512548   6.127244  25.627381\n",
       "2       2.312500      0.0  18.518278  81.481722   7.446484  32.898265\n",
       "3       2.312493      0.0  20.547624  79.452376   4.149938  16.394351\n",
       "4       2.312500      0.0  15.421995  84.578005   9.856964  53.615146\n",
       "5       2.312500      0.0  13.203357  86.796643   5.707267  37.221317"
      ]
     },
     "execution_count": 15,
     "metadata": {},
     "output_type": "execute_result"
    }
   ],
   "source": [
    "insurance_short.groupby('iprcat').mean()"
   ]
  },
  {
   "cell_type": "markdown",
   "id": "electric-edinburgh",
   "metadata": {},
   "source": [
    "       iprcat          1      Income category \n",
    "                                0 - All income levels          \n",
    "                                1 - At or below 200% of poverty\n",
    "                                2 - At or below 250% of poverty\n",
    "                                3 - At or below 138% of poverty\n",
    "                                4 - At or below 400% of poverty\n",
    "                                5 - Between 138% - 400%  of poverty"
   ]
  },
  {
   "cell_type": "code",
   "execution_count": 16,
   "id": "forbidden-transmission",
   "metadata": {
    "ExecuteTime": {
     "end_time": "2021-03-26T12:51:39.042372Z",
     "start_time": "2021-03-26T12:51:39.027369Z"
    },
    "scrolled": false
   },
   "outputs": [
    {
     "data": {
      "text/html": [
       "<div>\n",
       "<style scoped>\n",
       "    .dataframe tbody tr th:only-of-type {\n",
       "        vertical-align: middle;\n",
       "    }\n",
       "\n",
       "    .dataframe tbody tr th {\n",
       "        vertical-align: top;\n",
       "    }\n",
       "\n",
       "    .dataframe thead th {\n",
       "        text-align: right;\n",
       "    }\n",
       "</style>\n",
       "<table border=\"1\" class=\"dataframe\">\n",
       "  <thead>\n",
       "    <tr style=\"text-align: right;\">\n",
       "      <th></th>\n",
       "      <th>PCTUI</th>\n",
       "      <th>PCTIC</th>\n",
       "    </tr>\n",
       "    <tr>\n",
       "      <th>iprcat</th>\n",
       "      <th></th>\n",
       "      <th></th>\n",
       "    </tr>\n",
       "  </thead>\n",
       "  <tbody>\n",
       "    <tr>\n",
       "      <th>0</th>\n",
       "      <td>11.645652</td>\n",
       "      <td>88.354348</td>\n",
       "    </tr>\n",
       "    <tr>\n",
       "      <th>1</th>\n",
       "      <td>19.487452</td>\n",
       "      <td>80.512548</td>\n",
       "    </tr>\n",
       "    <tr>\n",
       "      <th>2</th>\n",
       "      <td>18.518278</td>\n",
       "      <td>81.481722</td>\n",
       "    </tr>\n",
       "    <tr>\n",
       "      <th>3</th>\n",
       "      <td>20.547624</td>\n",
       "      <td>79.452376</td>\n",
       "    </tr>\n",
       "    <tr>\n",
       "      <th>4</th>\n",
       "      <td>15.421995</td>\n",
       "      <td>84.578005</td>\n",
       "    </tr>\n",
       "    <tr>\n",
       "      <th>5</th>\n",
       "      <td>13.203357</td>\n",
       "      <td>86.796643</td>\n",
       "    </tr>\n",
       "  </tbody>\n",
       "</table>\n",
       "</div>"
      ],
      "text/plain": [
       "            PCTUI      PCTIC\n",
       "iprcat                      \n",
       "0       11.645652  88.354348\n",
       "1       19.487452  80.512548\n",
       "2       18.518278  81.481722\n",
       "3       20.547624  79.452376\n",
       "4       15.421995  84.578005\n",
       "5       13.203357  86.796643"
      ]
     },
     "execution_count": 16,
     "metadata": {},
     "output_type": "execute_result"
    }
   ],
   "source": [
    "ins_chart = insurance_short[['iprcat', 'PCTUI', 'PCTIC']]\n",
    "ins_chart_iprcat_grouped = ins_chart.groupby('iprcat').mean()\n",
    "ins_chart_iprcat_grouped"
   ]
  },
  {
   "cell_type": "code",
   "execution_count": 17,
   "id": "twelve-restaurant",
   "metadata": {
    "ExecuteTime": {
     "end_time": "2021-03-26T12:51:39.045374Z",
     "start_time": "2021-03-26T12:51:39.043372Z"
    }
   },
   "outputs": [],
   "source": [
    "iprcats = {}"
   ]
  },
  {
   "cell_type": "code",
   "execution_count": 19,
   "id": "monetary-attitude",
   "metadata": {
    "ExecuteTime": {
     "end_time": "2021-03-26T12:51:39.196874Z",
     "start_time": "2021-03-26T12:51:39.195370Z"
    }
   },
   "outputs": [],
   "source": [
    "# sns.set()\n",
    "# ins_chart.set_index('iprcat').T.plot(kind='bar', stacked=True)"
   ]
  },
  {
   "cell_type": "markdown",
   "id": "internal-editing",
   "metadata": {},
   "source": [
    "Across all income levels: 11.6% uninsured.  88% insured\n",
    "\n",
    " - (4) At or below 400% of poverty: 15.4% uninsured. 84.5% insured. \n",
    " - (5) Between 138% and 400% of poverty: 13.2% uninsured. 86% uninsured.  Accounts for 5.7% of all uninsured and 37.2% of all insured.\n",
    " - (3) At or Below 138% of poverty: 20.5% uninsured. 79.4% uninsured.  Accounts for 4.1% of all uninsured and 16% of all insured.\n",
    "  \n",
    "  \n",
    "This means that 1.8% of uninsured comes from incomes more than 400% of poverty."
   ]
  },
  {
   "cell_type": "markdown",
   "id": "english-greenhouse",
   "metadata": {},
   "source": [
    "# Hospital Capacity"
   ]
  },
  {
   "cell_type": "code",
   "execution_count": 20,
   "id": "hazardous-window",
   "metadata": {
    "ExecuteTime": {
     "end_time": "2021-03-26T12:51:39.203872Z",
     "start_time": "2021-03-26T12:51:39.197371Z"
    },
    "scrolled": false
   },
   "outputs": [],
   "source": [
    "# beds_df = pd.read_csv('data/hospital_capacity.csv')\n",
    "# beds_df.head()"
   ]
  },
  {
   "cell_type": "markdown",
   "id": "useful-variation",
   "metadata": {},
   "source": [
    "# Nurses / Midwives"
   ]
  },
  {
   "cell_type": "code",
   "execution_count": 21,
   "id": "settled-bennett",
   "metadata": {
    "ExecuteTime": {
     "end_time": "2021-03-26T12:51:39.210869Z",
     "start_time": "2021-03-26T12:51:39.204871Z"
    },
    "scrolled": true
   },
   "outputs": [],
   "source": [
    "# nurses_df = pd.read_csv('data/nurses_midwives.csv')\n",
    "# nurses_df"
   ]
  },
  {
   "cell_type": "markdown",
   "id": "international-toilet",
   "metadata": {},
   "source": [
    "# Demographics"
   ]
  },
  {
   "cell_type": "code",
   "execution_count": null,
   "id": "spectacular-contest",
   "metadata": {},
   "outputs": [],
   "source": []
  },
  {
   "cell_type": "markdown",
   "id": "committed-reduction",
   "metadata": {},
   "source": [
    "# Jobs"
   ]
  },
  {
   "cell_type": "code",
   "execution_count": 22,
   "id": "subsequent-harbor",
   "metadata": {
    "ExecuteTime": {
     "end_time": "2021-03-26T12:51:39.215869Z",
     "start_time": "2021-03-26T12:51:39.211370Z"
    },
    "scrolled": true
   },
   "outputs": [],
   "source": [
    "# job_df = pd.read_csv('data/emed_careers_eu.csv')\n",
    "# job_df"
   ]
  },
  {
   "cell_type": "code",
   "execution_count": 23,
   "id": "bearing-writer",
   "metadata": {
    "ExecuteTime": {
     "end_time": "2021-03-26T12:51:39.220373Z",
     "start_time": "2021-03-26T12:51:39.218369Z"
    },
    "scrolled": true
   },
   "outputs": [],
   "source": [
    "# job_df.loc[1, 'job_description']"
   ]
  },
  {
   "cell_type": "markdown",
   "id": "proprietary-civilian",
   "metadata": {},
   "source": [
    "# HCAHPS"
   ]
  },
  {
   "cell_type": "code",
   "execution_count": 24,
   "id": "negative-heating",
   "metadata": {
    "ExecuteTime": {
     "end_time": "2021-03-26T12:51:39.225869Z",
     "start_time": "2021-03-26T12:51:39.221871Z"
    },
    "scrolled": true
   },
   "outputs": [],
   "source": [
    "# hcahps_df = pd.read_csv('data/hcahps_state_clean_answer_pct.csv')\n",
    "# hcahps_df.describe().T"
   ]
  },
  {
   "cell_type": "markdown",
   "id": "sticky-terrorism",
   "metadata": {},
   "source": []
  },
  {
   "cell_type": "code",
   "execution_count": 25,
   "id": "chemical-communication",
   "metadata": {
    "ExecuteTime": {
     "end_time": "2021-03-26T12:51:39.229871Z",
     "start_time": "2021-03-26T12:51:39.226873Z"
    },
    "scrolled": false
   },
   "outputs": [],
   "source": [
    "# qhp_ind = pd.read_csv('newdata/QHP landscape individual/QHP_Landscape_Individual_Market_Medical.csv')\n",
    "# pd.set_option('display.max_columns', None)\n",
    "# qhp_ind.head()"
   ]
  },
  {
   "cell_type": "markdown",
   "id": "removed-component",
   "metadata": {},
   "source": [
    "# Plan attr\n",
    "from https://www.cms.gov/CCIIO/Resources/Data-Resources/marketplace-puf <br>\n",
    "\n",
    "also considered https://data.healthcare.gov/dataset/QHP-Landscape-Individual-Market-Medical/b8in-sz6k"
   ]
  },
  {
   "cell_type": "markdown",
   "id": "adapted-estonia",
   "metadata": {},
   "source": [
    "Variable Name: IssuerId\n",
    "Variable Definition: Five-digit numeric code that identifies the issuer organization in the\n",
    "Health Insurance Oversight System (HIOS)\n",
    "\n",
    "Variable Name: ServiceAreaId\n",
    "Variable Definition: Identifier for a service area\n",
    "\n",
    "Variable Name: IssuerMarketplaceMarketingName\n",
    "Variable Definition: Marketplace Marketing name of insurance company\n",
    "\n"
   ]
  },
  {
   "cell_type": "markdown",
   "id": "assigned-ceramic",
   "metadata": {},
   "source": [
    "find fips -> search plan attr\n",
    "\n",
    "concat plan_attr_df with "
   ]
  },
  {
   "cell_type": "code",
   "execution_count": 26,
   "id": "illegal-fabric",
   "metadata": {
    "ExecuteTime": {
     "end_time": "2021-03-26T12:51:39.640372Z",
     "start_time": "2021-03-26T12:51:39.230370Z"
    },
    "scrolled": false
   },
   "outputs": [
    {
     "name": "stderr",
     "output_type": "stream",
     "text": [
      "C:\\Users\\ikhwan\\.conda\\envs\\bigdata_ml\\lib\\site-packages\\IPython\\core\\interactiveshell.py:3165: DtypeWarning: Columns (79,80,81,85,86,87,88,89,90,146,147) have mixed types.Specify dtype option on import or set low_memory=False.\n",
      "  has_raised = await self.run_ast_nodes(code_ast.body, cell_name,\n"
     ]
    },
    {
     "data": {
      "text/html": [
       "<div>\n",
       "<style scoped>\n",
       "    .dataframe tbody tr th:only-of-type {\n",
       "        vertical-align: middle;\n",
       "    }\n",
       "\n",
       "    .dataframe tbody tr th {\n",
       "        vertical-align: top;\n",
       "    }\n",
       "\n",
       "    .dataframe thead th {\n",
       "        text-align: right;\n",
       "    }\n",
       "</style>\n",
       "<table border=\"1\" class=\"dataframe\">\n",
       "  <thead>\n",
       "    <tr style=\"text-align: right;\">\n",
       "      <th></th>\n",
       "      <th>BusinessYear</th>\n",
       "      <th>StateCode</th>\n",
       "      <th>IssuerId</th>\n",
       "      <th>IssuerMarketPlaceMarketingName</th>\n",
       "      <th>SourceName</th>\n",
       "      <th>ImportDate</th>\n",
       "      <th>MarketCoverage</th>\n",
       "      <th>DentalOnlyPlan</th>\n",
       "      <th>StandardComponentId</th>\n",
       "      <th>PlanMarketingName</th>\n",
       "      <th>HIOSProductId</th>\n",
       "      <th>NetworkId</th>\n",
       "      <th>ServiceAreaId</th>\n",
       "      <th>FormularyId</th>\n",
       "      <th>IsNewPlan</th>\n",
       "      <th>PlanType</th>\n",
       "      <th>MetalLevel</th>\n",
       "      <th>UniquePlanDesign</th>\n",
       "      <th>QHPNonQHPTypeId</th>\n",
       "      <th>IsNoticeRequiredForPregnancy</th>\n",
       "      <th>IsReferralRequiredForSpecialist</th>\n",
       "      <th>SpecialistRequiringReferral</th>\n",
       "      <th>PlanLevelExclusions</th>\n",
       "      <th>IndianPlanVariationEstimatedAdvancedPaymentAmountPerEnrollee</th>\n",
       "      <th>CompositeRatingOffered</th>\n",
       "      <th>ChildOnlyOffering</th>\n",
       "      <th>ChildOnlyPlanId</th>\n",
       "      <th>WellnessProgramOffered</th>\n",
       "      <th>DiseaseManagementProgramsOffered</th>\n",
       "      <th>EHBPercentTotalPremium</th>\n",
       "      <th>EHBPediatricDentalApportionmentQuantity</th>\n",
       "      <th>IsGuaranteedRate</th>\n",
       "      <th>PlanEffectiveDate</th>\n",
       "      <th>PlanExpirationDate</th>\n",
       "      <th>OutOfCountryCoverage</th>\n",
       "      <th>OutOfCountryCoverageDescription</th>\n",
       "      <th>OutOfServiceAreaCoverage</th>\n",
       "      <th>OutOfServiceAreaCoverageDescription</th>\n",
       "      <th>NationalNetwork</th>\n",
       "      <th>URLForEnrollmentPayment</th>\n",
       "      <th>FormularyURL</th>\n",
       "      <th>PlanId</th>\n",
       "      <th>PlanVariantMarketingName</th>\n",
       "      <th>CSRVariationType</th>\n",
       "      <th>IssuerActuarialValue</th>\n",
       "      <th>AVCalculatorOutputNumber</th>\n",
       "      <th>MedicalDrugDeductiblesIntegrated</th>\n",
       "      <th>MedicalDrugMaximumOutofPocketIntegrated</th>\n",
       "      <th>MultipleInNetworkTiers</th>\n",
       "      <th>FirstTierUtilization</th>\n",
       "      <th>SecondTierUtilization</th>\n",
       "      <th>SBCHavingaBabyDeductible</th>\n",
       "      <th>SBCHavingaBabyCopayment</th>\n",
       "      <th>SBCHavingaBabyCoinsurance</th>\n",
       "      <th>SBCHavingaBabyLimit</th>\n",
       "      <th>SBCHavingDiabetesDeductible</th>\n",
       "      <th>SBCHavingDiabetesCopayment</th>\n",
       "      <th>SBCHavingDiabetesCoinsurance</th>\n",
       "      <th>SBCHavingDiabetesLimit</th>\n",
       "      <th>SBCHavingSimplefractureDeductible</th>\n",
       "      <th>SBCHavingSimplefractureCopayment</th>\n",
       "      <th>SBCHavingSimplefractureCoinsurance</th>\n",
       "      <th>SBCHavingSimplefractureLimit</th>\n",
       "      <th>SpecialtyDrugMaximumCoinsurance</th>\n",
       "      <th>InpatientCopaymentMaximumDays</th>\n",
       "      <th>BeginPrimaryCareCostSharingAfterNumberOfVisits</th>\n",
       "      <th>BeginPrimaryCareDeductibleCoinsuranceAfterNumberOfCopays</th>\n",
       "      <th>MEHBInnTier1IndividualMOOP</th>\n",
       "      <th>MEHBInnTier1FamilyPerPersonMOOP</th>\n",
       "      <th>MEHBInnTier1FamilyPerGroupMOOP</th>\n",
       "      <th>MEHBInnTier2IndividualMOOP</th>\n",
       "      <th>MEHBInnTier2FamilyPerPersonMOOP</th>\n",
       "      <th>MEHBInnTier2FamilyPerGroupMOOP</th>\n",
       "      <th>MEHBOutOfNetIndividualMOOP</th>\n",
       "      <th>MEHBOutOfNetFamilyPerPersonMOOP</th>\n",
       "      <th>MEHBOutOfNetFamilyPerGroupMOOP</th>\n",
       "      <th>MEHBCombInnOonIndividualMOOP</th>\n",
       "      <th>MEHBCombInnOonFamilyPerPersonMOOP</th>\n",
       "      <th>MEHBCombInnOonFamilyPerGroupMOOP</th>\n",
       "      <th>DEHBInnTier1IndividualMOOP</th>\n",
       "      <th>DEHBInnTier1FamilyPerPersonMOOP</th>\n",
       "      <th>DEHBInnTier1FamilyPerGroupMOOP</th>\n",
       "      <th>DEHBInnTier2IndividualMOOP</th>\n",
       "      <th>DEHBInnTier2FamilyPerPersonMOOP</th>\n",
       "      <th>DEHBInnTier2FamilyPerGroupMOOP</th>\n",
       "      <th>DEHBOutOfNetIndividualMOOP</th>\n",
       "      <th>DEHBOutOfNetFamilyPerPersonMOOP</th>\n",
       "      <th>DEHBOutOfNetFamilyPerGroupMOOP</th>\n",
       "      <th>DEHBCombInnOonIndividualMOOP</th>\n",
       "      <th>DEHBCombInnOonFamilyPerPersonMOOP</th>\n",
       "      <th>DEHBCombInnOonFamilyPerGroupMOOP</th>\n",
       "      <th>TEHBInnTier1IndividualMOOP</th>\n",
       "      <th>TEHBInnTier1FamilyPerPersonMOOP</th>\n",
       "      <th>TEHBInnTier1FamilyPerGroupMOOP</th>\n",
       "      <th>TEHBInnTier2IndividualMOOP</th>\n",
       "      <th>TEHBInnTier2FamilyPerPersonMOOP</th>\n",
       "      <th>TEHBInnTier2FamilyPerGroupMOOP</th>\n",
       "      <th>TEHBOutOfNetIndividualMOOP</th>\n",
       "      <th>TEHBOutOfNetFamilyPerPersonMOOP</th>\n",
       "      <th>TEHBOutOfNetFamilyPerGroupMOOP</th>\n",
       "      <th>TEHBCombInnOonIndividualMOOP</th>\n",
       "      <th>TEHBCombInnOonFamilyPerPersonMOOP</th>\n",
       "      <th>TEHBCombInnOonFamilyPerGroupMOOP</th>\n",
       "      <th>MEHBDedInnTier1Individual</th>\n",
       "      <th>MEHBDedInnTier1FamilyPerPerson</th>\n",
       "      <th>MEHBDedInnTier1FamilyPerGroup</th>\n",
       "      <th>MEHBDedInnTier1Coinsurance</th>\n",
       "      <th>MEHBDedInnTier2Individual</th>\n",
       "      <th>MEHBDedInnTier2FamilyPerPerson</th>\n",
       "      <th>MEHBDedInnTier2FamilyPerGroup</th>\n",
       "      <th>MEHBDedInnTier2Coinsurance</th>\n",
       "      <th>MEHBDedOutOfNetIndividual</th>\n",
       "      <th>MEHBDedOutOfNetFamilyPerPerson</th>\n",
       "      <th>MEHBDedOutOfNetFamilyPerGroup</th>\n",
       "      <th>MEHBDedCombInnOonIndividual</th>\n",
       "      <th>MEHBDedCombInnOonFamilyPerPerson</th>\n",
       "      <th>MEHBDedCombInnOonFamilyPerGroup</th>\n",
       "      <th>DEHBDedInnTier1Individual</th>\n",
       "      <th>DEHBDedInnTier1FamilyPerPerson</th>\n",
       "      <th>DEHBDedInnTier1FamilyPerGroup</th>\n",
       "      <th>DEHBDedInnTier1Coinsurance</th>\n",
       "      <th>DEHBDedInnTier2Individual</th>\n",
       "      <th>DEHBDedInnTier2FamilyPerPerson</th>\n",
       "      <th>DEHBDedInnTier2FamilyPerGroup</th>\n",
       "      <th>DEHBDedInnTier2Coinsurance</th>\n",
       "      <th>DEHBDedOutOfNetIndividual</th>\n",
       "      <th>DEHBDedOutOfNetFamilyPerPerson</th>\n",
       "      <th>DEHBDedOutOfNetFamilyPerGroup</th>\n",
       "      <th>DEHBDedCombInnOonIndividual</th>\n",
       "      <th>DEHBDedCombInnOonFamilyPerPerson</th>\n",
       "      <th>DEHBDedCombInnOonFamilyPerGroup</th>\n",
       "      <th>TEHBDedInnTier1Individual</th>\n",
       "      <th>TEHBDedInnTier1FamilyPerPerson</th>\n",
       "      <th>TEHBDedInnTier1FamilyPerGroup</th>\n",
       "      <th>TEHBDedInnTier1Coinsurance</th>\n",
       "      <th>TEHBDedInnTier2Individual</th>\n",
       "      <th>TEHBDedInnTier2FamilyPerPerson</th>\n",
       "      <th>TEHBDedInnTier2FamilyPerGroup</th>\n",
       "      <th>TEHBDedInnTier2Coinsurance</th>\n",
       "      <th>TEHBDedOutOfNetIndividual</th>\n",
       "      <th>TEHBDedOutOfNetFamilyPerPerson</th>\n",
       "      <th>TEHBDedOutOfNetFamilyPerGroup</th>\n",
       "      <th>TEHBDedCombInnOonIndividual</th>\n",
       "      <th>TEHBDedCombInnOonFamilyPerPerson</th>\n",
       "      <th>TEHBDedCombInnOonFamilyPerGroup</th>\n",
       "      <th>IsHSAEligible</th>\n",
       "      <th>HSAOrHRAEmployerContribution</th>\n",
       "      <th>HSAOrHRAEmployerContributionAmount</th>\n",
       "      <th>URLForSummaryofBenefitsCoverage</th>\n",
       "      <th>PlanBrochure</th>\n",
       "    </tr>\n",
       "  </thead>\n",
       "  <tbody>\n",
       "    <tr>\n",
       "      <th>0</th>\n",
       "      <td>2021</td>\n",
       "      <td>AK</td>\n",
       "      <td>21989</td>\n",
       "      <td>Delta Dental of Alaska</td>\n",
       "      <td>HIOS</td>\n",
       "      <td>7/31/2020 3:20</td>\n",
       "      <td>Individual</td>\n",
       "      <td>Yes</td>\n",
       "      <td>21989AK0070001</td>\n",
       "      <td>Delta Dental Premier Healthy Smiles</td>\n",
       "      <td>21989AK007</td>\n",
       "      <td>AKN001</td>\n",
       "      <td>AKS001</td>\n",
       "      <td>NaN</td>\n",
       "      <td>Existing</td>\n",
       "      <td>Indemnity</td>\n",
       "      <td>Low</td>\n",
       "      <td>NaN</td>\n",
       "      <td>Off the Exchange</td>\n",
       "      <td>NaN</td>\n",
       "      <td>NaN</td>\n",
       "      <td>NaN</td>\n",
       "      <td>NaN</td>\n",
       "      <td>NaN</td>\n",
       "      <td>No</td>\n",
       "      <td>Allows Adult and Child-Only</td>\n",
       "      <td>NaN</td>\n",
       "      <td>NaN</td>\n",
       "      <td>NaN</td>\n",
       "      <td>NaN</td>\n",
       "      <td>1.0</td>\n",
       "      <td>Guaranteed Rate</td>\n",
       "      <td>1/1/2021</td>\n",
       "      <td>12/31/2021</td>\n",
       "      <td>Yes</td>\n",
       "      <td>Providers are treated as out-of-network.</td>\n",
       "      <td>Yes</td>\n",
       "      <td>National Network</td>\n",
       "      <td>Yes</td>\n",
       "      <td></td>\n",
       "      <td>NaN</td>\n",
       "      <td>21989AK0070001-00</td>\n",
       "      <td>Delta Dental Premier Healthy Smiles</td>\n",
       "      <td>Standard Low Off Exchange Plan</td>\n",
       "      <td>NaN</td>\n",
       "      <td>NaN</td>\n",
       "      <td>NaN</td>\n",
       "      <td>NaN</td>\n",
       "      <td>No</td>\n",
       "      <td>100%</td>\n",
       "      <td>NaN</td>\n",
       "      <td>NaN</td>\n",
       "      <td>NaN</td>\n",
       "      <td>NaN</td>\n",
       "      <td>NaN</td>\n",
       "      <td>NaN</td>\n",
       "      <td>NaN</td>\n",
       "      <td>NaN</td>\n",
       "      <td>NaN</td>\n",
       "      <td>NaN</td>\n",
       "      <td>NaN</td>\n",
       "      <td>NaN</td>\n",
       "      <td>NaN</td>\n",
       "      <td>NaN</td>\n",
       "      <td>0</td>\n",
       "      <td>0</td>\n",
       "      <td>0</td>\n",
       "      <td>Not Applicable</td>\n",
       "      <td>per person not applicable</td>\n",
       "      <td>per group not applicable</td>\n",
       "      <td>NaN</td>\n",
       "      <td>NaN</td>\n",
       "      <td>NaN</td>\n",
       "      <td>Not Applicable</td>\n",
       "      <td>per person not applicable</td>\n",
       "      <td>per group not applicable</td>\n",
       "      <td>$350</td>\n",
       "      <td>$350 per person</td>\n",
       "      <td>$700 per group</td>\n",
       "      <td>NaN</td>\n",
       "      <td>NaN</td>\n",
       "      <td>NaN</td>\n",
       "      <td>NaN</td>\n",
       "      <td>NaN</td>\n",
       "      <td>NaN</td>\n",
       "      <td>NaN</td>\n",
       "      <td>NaN</td>\n",
       "      <td>NaN</td>\n",
       "      <td>NaN</td>\n",
       "      <td>NaN</td>\n",
       "      <td>NaN</td>\n",
       "      <td>NaN</td>\n",
       "      <td>NaN</td>\n",
       "      <td>NaN</td>\n",
       "      <td>NaN</td>\n",
       "      <td>NaN</td>\n",
       "      <td>NaN</td>\n",
       "      <td>NaN</td>\n",
       "      <td>NaN</td>\n",
       "      <td>NaN</td>\n",
       "      <td>NaN</td>\n",
       "      <td>NaN</td>\n",
       "      <td>NaN</td>\n",
       "      <td>Not Applicable</td>\n",
       "      <td>per person not applicable</td>\n",
       "      <td>per group not applicable</td>\n",
       "      <td>NaN</td>\n",
       "      <td>NaN</td>\n",
       "      <td>NaN</td>\n",
       "      <td>NaN</td>\n",
       "      <td>NaN</td>\n",
       "      <td>Not Applicable</td>\n",
       "      <td>per person not applicable</td>\n",
       "      <td>per group not applicable</td>\n",
       "      <td>$0</td>\n",
       "      <td>$0 per person</td>\n",
       "      <td>$0 per group</td>\n",
       "      <td>NaN</td>\n",
       "      <td>NaN</td>\n",
       "      <td>NaN</td>\n",
       "      <td>NaN</td>\n",
       "      <td>NaN</td>\n",
       "      <td>NaN</td>\n",
       "      <td>NaN</td>\n",
       "      <td>NaN</td>\n",
       "      <td>NaN</td>\n",
       "      <td>NaN</td>\n",
       "      <td>NaN</td>\n",
       "      <td>NaN</td>\n",
       "      <td>NaN</td>\n",
       "      <td>NaN</td>\n",
       "      <td>NaN</td>\n",
       "      <td>NaN</td>\n",
       "      <td>NaN</td>\n",
       "      <td>NaN</td>\n",
       "      <td>NaN</td>\n",
       "      <td>NaN</td>\n",
       "      <td>NaN</td>\n",
       "      <td>NaN</td>\n",
       "      <td>NaN</td>\n",
       "      <td>NaN</td>\n",
       "      <td>NaN</td>\n",
       "      <td>NaN</td>\n",
       "      <td>NaN</td>\n",
       "      <td>NaN</td>\n",
       "      <td>NaN</td>\n",
       "      <td>NaN</td>\n",
       "      <td>NaN</td>\n",
       "      <td></td>\n",
       "      <td>https://www.deltadentalak.com/deltadentalak/-/...</td>\n",
       "    </tr>\n",
       "    <tr>\n",
       "      <th>1</th>\n",
       "      <td>2021</td>\n",
       "      <td>AK</td>\n",
       "      <td>21989</td>\n",
       "      <td>Delta Dental of Alaska</td>\n",
       "      <td>HIOS</td>\n",
       "      <td>7/31/2020 3:20</td>\n",
       "      <td>SHOP (Small Group)</td>\n",
       "      <td>Yes</td>\n",
       "      <td>21989AK0080001</td>\n",
       "      <td>Delta Dental Premier 1000, 100*/80/50, 50</td>\n",
       "      <td>21989AK008</td>\n",
       "      <td>AKN001</td>\n",
       "      <td>AKS001</td>\n",
       "      <td>NaN</td>\n",
       "      <td>Existing</td>\n",
       "      <td>Indemnity</td>\n",
       "      <td>High</td>\n",
       "      <td>NaN</td>\n",
       "      <td>Off the Exchange</td>\n",
       "      <td>NaN</td>\n",
       "      <td>NaN</td>\n",
       "      <td>NaN</td>\n",
       "      <td>NaN</td>\n",
       "      <td>NaN</td>\n",
       "      <td>No</td>\n",
       "      <td>Allows Adult and Child-Only</td>\n",
       "      <td>NaN</td>\n",
       "      <td>NaN</td>\n",
       "      <td>NaN</td>\n",
       "      <td>NaN</td>\n",
       "      <td>1.0</td>\n",
       "      <td>Estimated Rate</td>\n",
       "      <td>1/1/2020</td>\n",
       "      <td>NaN</td>\n",
       "      <td>Yes</td>\n",
       "      <td>Providers treated as out-of-network.</td>\n",
       "      <td>Yes</td>\n",
       "      <td>National Network</td>\n",
       "      <td>Yes</td>\n",
       "      <td></td>\n",
       "      <td>NaN</td>\n",
       "      <td>21989AK0080001-00</td>\n",
       "      <td>Delta Dental Premier 1000, 100*/80/50, 50</td>\n",
       "      <td>Standard High Off Exchange Plan</td>\n",
       "      <td>NaN</td>\n",
       "      <td>NaN</td>\n",
       "      <td>NaN</td>\n",
       "      <td>NaN</td>\n",
       "      <td>No</td>\n",
       "      <td>100%</td>\n",
       "      <td>NaN</td>\n",
       "      <td>NaN</td>\n",
       "      <td>NaN</td>\n",
       "      <td>NaN</td>\n",
       "      <td>NaN</td>\n",
       "      <td>NaN</td>\n",
       "      <td>NaN</td>\n",
       "      <td>NaN</td>\n",
       "      <td>NaN</td>\n",
       "      <td>NaN</td>\n",
       "      <td>NaN</td>\n",
       "      <td>NaN</td>\n",
       "      <td>NaN</td>\n",
       "      <td>NaN</td>\n",
       "      <td>0</td>\n",
       "      <td>0</td>\n",
       "      <td>0</td>\n",
       "      <td>Not Applicable</td>\n",
       "      <td>per person not applicable</td>\n",
       "      <td>per group not applicable</td>\n",
       "      <td>NaN</td>\n",
       "      <td>NaN</td>\n",
       "      <td>NaN</td>\n",
       "      <td>Not Applicable</td>\n",
       "      <td>per person not applicable</td>\n",
       "      <td>per group not applicable</td>\n",
       "      <td>$350</td>\n",
       "      <td>$350 per person</td>\n",
       "      <td>$700 per group</td>\n",
       "      <td>NaN</td>\n",
       "      <td>NaN</td>\n",
       "      <td>NaN</td>\n",
       "      <td>NaN</td>\n",
       "      <td>NaN</td>\n",
       "      <td>NaN</td>\n",
       "      <td>NaN</td>\n",
       "      <td>NaN</td>\n",
       "      <td>NaN</td>\n",
       "      <td>NaN</td>\n",
       "      <td>NaN</td>\n",
       "      <td>NaN</td>\n",
       "      <td>NaN</td>\n",
       "      <td>NaN</td>\n",
       "      <td>NaN</td>\n",
       "      <td>NaN</td>\n",
       "      <td>NaN</td>\n",
       "      <td>NaN</td>\n",
       "      <td>NaN</td>\n",
       "      <td>NaN</td>\n",
       "      <td>NaN</td>\n",
       "      <td>NaN</td>\n",
       "      <td>NaN</td>\n",
       "      <td>NaN</td>\n",
       "      <td>Not Applicable</td>\n",
       "      <td>per person not applicable</td>\n",
       "      <td>per group not applicable</td>\n",
       "      <td>NaN</td>\n",
       "      <td>NaN</td>\n",
       "      <td>NaN</td>\n",
       "      <td>NaN</td>\n",
       "      <td>NaN</td>\n",
       "      <td>Not Applicable</td>\n",
       "      <td>per person not applicable</td>\n",
       "      <td>per group not applicable</td>\n",
       "      <td>$50</td>\n",
       "      <td>$50 per person</td>\n",
       "      <td>$150 per group</td>\n",
       "      <td>NaN</td>\n",
       "      <td>NaN</td>\n",
       "      <td>NaN</td>\n",
       "      <td>NaN</td>\n",
       "      <td>NaN</td>\n",
       "      <td>NaN</td>\n",
       "      <td>NaN</td>\n",
       "      <td>NaN</td>\n",
       "      <td>NaN</td>\n",
       "      <td>NaN</td>\n",
       "      <td>NaN</td>\n",
       "      <td>NaN</td>\n",
       "      <td>NaN</td>\n",
       "      <td>NaN</td>\n",
       "      <td>NaN</td>\n",
       "      <td>NaN</td>\n",
       "      <td>NaN</td>\n",
       "      <td>NaN</td>\n",
       "      <td>NaN</td>\n",
       "      <td>NaN</td>\n",
       "      <td>NaN</td>\n",
       "      <td>NaN</td>\n",
       "      <td>NaN</td>\n",
       "      <td>NaN</td>\n",
       "      <td>NaN</td>\n",
       "      <td>NaN</td>\n",
       "      <td>NaN</td>\n",
       "      <td>NaN</td>\n",
       "      <td>NaN</td>\n",
       "      <td>NaN</td>\n",
       "      <td>NaN</td>\n",
       "      <td></td>\n",
       "      <td>https://www.deltadentalak.com/pdfs/ben_sum/AK/...</td>\n",
       "    </tr>\n",
       "    <tr>\n",
       "      <th>2</th>\n",
       "      <td>2021</td>\n",
       "      <td>AK</td>\n",
       "      <td>21989</td>\n",
       "      <td>Delta Dental of Alaska</td>\n",
       "      <td>HIOS</td>\n",
       "      <td>7/31/2020 3:20</td>\n",
       "      <td>SHOP (Small Group)</td>\n",
       "      <td>Yes</td>\n",
       "      <td>21989AK0080002</td>\n",
       "      <td>Delta Dental Premier 1500, 100*/80/50, 50</td>\n",
       "      <td>21989AK008</td>\n",
       "      <td>AKN001</td>\n",
       "      <td>AKS001</td>\n",
       "      <td>NaN</td>\n",
       "      <td>Existing</td>\n",
       "      <td>Indemnity</td>\n",
       "      <td>High</td>\n",
       "      <td>NaN</td>\n",
       "      <td>Off the Exchange</td>\n",
       "      <td>NaN</td>\n",
       "      <td>NaN</td>\n",
       "      <td>NaN</td>\n",
       "      <td>NaN</td>\n",
       "      <td>NaN</td>\n",
       "      <td>No</td>\n",
       "      <td>Allows Adult and Child-Only</td>\n",
       "      <td>NaN</td>\n",
       "      <td>NaN</td>\n",
       "      <td>NaN</td>\n",
       "      <td>NaN</td>\n",
       "      <td>1.0</td>\n",
       "      <td>Estimated Rate</td>\n",
       "      <td>1/1/2020</td>\n",
       "      <td>NaN</td>\n",
       "      <td>Yes</td>\n",
       "      <td>Providers treated as out-of-network.</td>\n",
       "      <td>Yes</td>\n",
       "      <td>National Network</td>\n",
       "      <td>Yes</td>\n",
       "      <td></td>\n",
       "      <td>NaN</td>\n",
       "      <td>21989AK0080002-00</td>\n",
       "      <td>Delta Dental Premier 1500, 100*/80/50, 50</td>\n",
       "      <td>Standard High Off Exchange Plan</td>\n",
       "      <td>NaN</td>\n",
       "      <td>NaN</td>\n",
       "      <td>NaN</td>\n",
       "      <td>NaN</td>\n",
       "      <td>No</td>\n",
       "      <td>100%</td>\n",
       "      <td>NaN</td>\n",
       "      <td>NaN</td>\n",
       "      <td>NaN</td>\n",
       "      <td>NaN</td>\n",
       "      <td>NaN</td>\n",
       "      <td>NaN</td>\n",
       "      <td>NaN</td>\n",
       "      <td>NaN</td>\n",
       "      <td>NaN</td>\n",
       "      <td>NaN</td>\n",
       "      <td>NaN</td>\n",
       "      <td>NaN</td>\n",
       "      <td>NaN</td>\n",
       "      <td>NaN</td>\n",
       "      <td>0</td>\n",
       "      <td>0</td>\n",
       "      <td>0</td>\n",
       "      <td>Not Applicable</td>\n",
       "      <td>per person not applicable</td>\n",
       "      <td>per group not applicable</td>\n",
       "      <td>NaN</td>\n",
       "      <td>NaN</td>\n",
       "      <td>NaN</td>\n",
       "      <td>Not Applicable</td>\n",
       "      <td>per person not applicable</td>\n",
       "      <td>per group not applicable</td>\n",
       "      <td>$350</td>\n",
       "      <td>$350 per person</td>\n",
       "      <td>$700 per group</td>\n",
       "      <td>NaN</td>\n",
       "      <td>NaN</td>\n",
       "      <td>NaN</td>\n",
       "      <td>NaN</td>\n",
       "      <td>NaN</td>\n",
       "      <td>NaN</td>\n",
       "      <td>NaN</td>\n",
       "      <td>NaN</td>\n",
       "      <td>NaN</td>\n",
       "      <td>NaN</td>\n",
       "      <td>NaN</td>\n",
       "      <td>NaN</td>\n",
       "      <td>NaN</td>\n",
       "      <td>NaN</td>\n",
       "      <td>NaN</td>\n",
       "      <td>NaN</td>\n",
       "      <td>NaN</td>\n",
       "      <td>NaN</td>\n",
       "      <td>NaN</td>\n",
       "      <td>NaN</td>\n",
       "      <td>NaN</td>\n",
       "      <td>NaN</td>\n",
       "      <td>NaN</td>\n",
       "      <td>NaN</td>\n",
       "      <td>Not Applicable</td>\n",
       "      <td>per person not applicable</td>\n",
       "      <td>per group not applicable</td>\n",
       "      <td>NaN</td>\n",
       "      <td>NaN</td>\n",
       "      <td>NaN</td>\n",
       "      <td>NaN</td>\n",
       "      <td>NaN</td>\n",
       "      <td>Not Applicable</td>\n",
       "      <td>per person not applicable</td>\n",
       "      <td>per group not applicable</td>\n",
       "      <td>$50</td>\n",
       "      <td>$50 per person</td>\n",
       "      <td>$150 per group</td>\n",
       "      <td>NaN</td>\n",
       "      <td>NaN</td>\n",
       "      <td>NaN</td>\n",
       "      <td>NaN</td>\n",
       "      <td>NaN</td>\n",
       "      <td>NaN</td>\n",
       "      <td>NaN</td>\n",
       "      <td>NaN</td>\n",
       "      <td>NaN</td>\n",
       "      <td>NaN</td>\n",
       "      <td>NaN</td>\n",
       "      <td>NaN</td>\n",
       "      <td>NaN</td>\n",
       "      <td>NaN</td>\n",
       "      <td>NaN</td>\n",
       "      <td>NaN</td>\n",
       "      <td>NaN</td>\n",
       "      <td>NaN</td>\n",
       "      <td>NaN</td>\n",
       "      <td>NaN</td>\n",
       "      <td>NaN</td>\n",
       "      <td>NaN</td>\n",
       "      <td>NaN</td>\n",
       "      <td>NaN</td>\n",
       "      <td>NaN</td>\n",
       "      <td>NaN</td>\n",
       "      <td>NaN</td>\n",
       "      <td>NaN</td>\n",
       "      <td>NaN</td>\n",
       "      <td>NaN</td>\n",
       "      <td>NaN</td>\n",
       "      <td></td>\n",
       "      <td>https://www.deltadentalak.com/pdfs/ben_sum/AK/...</td>\n",
       "    </tr>\n",
       "    <tr>\n",
       "      <th>3</th>\n",
       "      <td>2021</td>\n",
       "      <td>AK</td>\n",
       "      <td>21989</td>\n",
       "      <td>Delta Dental of Alaska</td>\n",
       "      <td>HIOS</td>\n",
       "      <td>7/31/2020 3:20</td>\n",
       "      <td>SHOP (Small Group)</td>\n",
       "      <td>Yes</td>\n",
       "      <td>21989AK0080003</td>\n",
       "      <td>Delta Dental Premier 2000, 100*/80/50, 50</td>\n",
       "      <td>21989AK008</td>\n",
       "      <td>AKN001</td>\n",
       "      <td>AKS001</td>\n",
       "      <td>NaN</td>\n",
       "      <td>Existing</td>\n",
       "      <td>Indemnity</td>\n",
       "      <td>High</td>\n",
       "      <td>NaN</td>\n",
       "      <td>Off the Exchange</td>\n",
       "      <td>NaN</td>\n",
       "      <td>NaN</td>\n",
       "      <td>NaN</td>\n",
       "      <td>NaN</td>\n",
       "      <td>NaN</td>\n",
       "      <td>No</td>\n",
       "      <td>Allows Adult and Child-Only</td>\n",
       "      <td>NaN</td>\n",
       "      <td>NaN</td>\n",
       "      <td>NaN</td>\n",
       "      <td>NaN</td>\n",
       "      <td>1.0</td>\n",
       "      <td>Estimated Rate</td>\n",
       "      <td>1/1/2020</td>\n",
       "      <td>NaN</td>\n",
       "      <td>Yes</td>\n",
       "      <td>Providers treated as out-of-network.</td>\n",
       "      <td>Yes</td>\n",
       "      <td>National Network</td>\n",
       "      <td>Yes</td>\n",
       "      <td></td>\n",
       "      <td>NaN</td>\n",
       "      <td>21989AK0080003-00</td>\n",
       "      <td>Delta Dental Premier 2000, 100*/80/50, 50</td>\n",
       "      <td>Standard High Off Exchange Plan</td>\n",
       "      <td>NaN</td>\n",
       "      <td>NaN</td>\n",
       "      <td>NaN</td>\n",
       "      <td>NaN</td>\n",
       "      <td>No</td>\n",
       "      <td>100%</td>\n",
       "      <td>NaN</td>\n",
       "      <td>NaN</td>\n",
       "      <td>NaN</td>\n",
       "      <td>NaN</td>\n",
       "      <td>NaN</td>\n",
       "      <td>NaN</td>\n",
       "      <td>NaN</td>\n",
       "      <td>NaN</td>\n",
       "      <td>NaN</td>\n",
       "      <td>NaN</td>\n",
       "      <td>NaN</td>\n",
       "      <td>NaN</td>\n",
       "      <td>NaN</td>\n",
       "      <td>NaN</td>\n",
       "      <td>0</td>\n",
       "      <td>0</td>\n",
       "      <td>0</td>\n",
       "      <td>Not Applicable</td>\n",
       "      <td>per person not applicable</td>\n",
       "      <td>per group not applicable</td>\n",
       "      <td>NaN</td>\n",
       "      <td>NaN</td>\n",
       "      <td>NaN</td>\n",
       "      <td>Not Applicable</td>\n",
       "      <td>per person not applicable</td>\n",
       "      <td>per group not applicable</td>\n",
       "      <td>$350</td>\n",
       "      <td>$350 per person</td>\n",
       "      <td>$700 per group</td>\n",
       "      <td>NaN</td>\n",
       "      <td>NaN</td>\n",
       "      <td>NaN</td>\n",
       "      <td>NaN</td>\n",
       "      <td>NaN</td>\n",
       "      <td>NaN</td>\n",
       "      <td>NaN</td>\n",
       "      <td>NaN</td>\n",
       "      <td>NaN</td>\n",
       "      <td>NaN</td>\n",
       "      <td>NaN</td>\n",
       "      <td>NaN</td>\n",
       "      <td>NaN</td>\n",
       "      <td>NaN</td>\n",
       "      <td>NaN</td>\n",
       "      <td>NaN</td>\n",
       "      <td>NaN</td>\n",
       "      <td>NaN</td>\n",
       "      <td>NaN</td>\n",
       "      <td>NaN</td>\n",
       "      <td>NaN</td>\n",
       "      <td>NaN</td>\n",
       "      <td>NaN</td>\n",
       "      <td>NaN</td>\n",
       "      <td>Not Applicable</td>\n",
       "      <td>per person not applicable</td>\n",
       "      <td>per group not applicable</td>\n",
       "      <td>NaN</td>\n",
       "      <td>NaN</td>\n",
       "      <td>NaN</td>\n",
       "      <td>NaN</td>\n",
       "      <td>NaN</td>\n",
       "      <td>Not Applicable</td>\n",
       "      <td>per person not applicable</td>\n",
       "      <td>per group not applicable</td>\n",
       "      <td>$50</td>\n",
       "      <td>$50 per person</td>\n",
       "      <td>$150 per group</td>\n",
       "      <td>NaN</td>\n",
       "      <td>NaN</td>\n",
       "      <td>NaN</td>\n",
       "      <td>NaN</td>\n",
       "      <td>NaN</td>\n",
       "      <td>NaN</td>\n",
       "      <td>NaN</td>\n",
       "      <td>NaN</td>\n",
       "      <td>NaN</td>\n",
       "      <td>NaN</td>\n",
       "      <td>NaN</td>\n",
       "      <td>NaN</td>\n",
       "      <td>NaN</td>\n",
       "      <td>NaN</td>\n",
       "      <td>NaN</td>\n",
       "      <td>NaN</td>\n",
       "      <td>NaN</td>\n",
       "      <td>NaN</td>\n",
       "      <td>NaN</td>\n",
       "      <td>NaN</td>\n",
       "      <td>NaN</td>\n",
       "      <td>NaN</td>\n",
       "      <td>NaN</td>\n",
       "      <td>NaN</td>\n",
       "      <td>NaN</td>\n",
       "      <td>NaN</td>\n",
       "      <td>NaN</td>\n",
       "      <td>NaN</td>\n",
       "      <td>NaN</td>\n",
       "      <td>NaN</td>\n",
       "      <td>NaN</td>\n",
       "      <td></td>\n",
       "      <td>https://www.deltadentalak.com/pdfs/ben_sum/AK/...</td>\n",
       "    </tr>\n",
       "    <tr>\n",
       "      <th>4</th>\n",
       "      <td>2021</td>\n",
       "      <td>AK</td>\n",
       "      <td>21989</td>\n",
       "      <td>Delta Dental of Alaska</td>\n",
       "      <td>HIOS</td>\n",
       "      <td>7/31/2020 3:20</td>\n",
       "      <td>Individual</td>\n",
       "      <td>Yes</td>\n",
       "      <td>21989AK0030001</td>\n",
       "      <td>Delta Dental Premier Plan</td>\n",
       "      <td>21989AK003</td>\n",
       "      <td>AKN001</td>\n",
       "      <td>AKS001</td>\n",
       "      <td>NaN</td>\n",
       "      <td>Existing</td>\n",
       "      <td>Indemnity</td>\n",
       "      <td>Low</td>\n",
       "      <td>NaN</td>\n",
       "      <td>Both</td>\n",
       "      <td>NaN</td>\n",
       "      <td>NaN</td>\n",
       "      <td>NaN</td>\n",
       "      <td>NaN</td>\n",
       "      <td>NaN</td>\n",
       "      <td>No</td>\n",
       "      <td>Allows Adult and Child-Only</td>\n",
       "      <td>NaN</td>\n",
       "      <td>NaN</td>\n",
       "      <td>NaN</td>\n",
       "      <td>NaN</td>\n",
       "      <td>1.0</td>\n",
       "      <td>Guaranteed Rate</td>\n",
       "      <td>1/1/2021</td>\n",
       "      <td>12/31/2021</td>\n",
       "      <td>Yes</td>\n",
       "      <td>providers treated as out of network</td>\n",
       "      <td>Yes</td>\n",
       "      <td>national network</td>\n",
       "      <td>Yes</td>\n",
       "      <td></td>\n",
       "      <td>NaN</td>\n",
       "      <td>21989AK0030001-00</td>\n",
       "      <td>Delta Dental Premier Plan</td>\n",
       "      <td>Standard Low Off Exchange Plan</td>\n",
       "      <td>NaN</td>\n",
       "      <td>NaN</td>\n",
       "      <td>NaN</td>\n",
       "      <td>NaN</td>\n",
       "      <td>No</td>\n",
       "      <td>100%</td>\n",
       "      <td>NaN</td>\n",
       "      <td>NaN</td>\n",
       "      <td>NaN</td>\n",
       "      <td>NaN</td>\n",
       "      <td>NaN</td>\n",
       "      <td>NaN</td>\n",
       "      <td>NaN</td>\n",
       "      <td>NaN</td>\n",
       "      <td>NaN</td>\n",
       "      <td>NaN</td>\n",
       "      <td>NaN</td>\n",
       "      <td>NaN</td>\n",
       "      <td>NaN</td>\n",
       "      <td>NaN</td>\n",
       "      <td>0</td>\n",
       "      <td>0</td>\n",
       "      <td>0</td>\n",
       "      <td>Not Applicable</td>\n",
       "      <td>per person not applicable</td>\n",
       "      <td>per group not applicable</td>\n",
       "      <td>NaN</td>\n",
       "      <td>NaN</td>\n",
       "      <td>NaN</td>\n",
       "      <td>Not Applicable</td>\n",
       "      <td>per person not applicable</td>\n",
       "      <td>per group not applicable</td>\n",
       "      <td>$350</td>\n",
       "      <td>$350 per person</td>\n",
       "      <td>$700 per group</td>\n",
       "      <td>NaN</td>\n",
       "      <td>NaN</td>\n",
       "      <td>NaN</td>\n",
       "      <td>NaN</td>\n",
       "      <td>NaN</td>\n",
       "      <td>NaN</td>\n",
       "      <td>NaN</td>\n",
       "      <td>NaN</td>\n",
       "      <td>NaN</td>\n",
       "      <td>NaN</td>\n",
       "      <td>NaN</td>\n",
       "      <td>NaN</td>\n",
       "      <td>NaN</td>\n",
       "      <td>NaN</td>\n",
       "      <td>NaN</td>\n",
       "      <td>NaN</td>\n",
       "      <td>NaN</td>\n",
       "      <td>NaN</td>\n",
       "      <td>NaN</td>\n",
       "      <td>NaN</td>\n",
       "      <td>NaN</td>\n",
       "      <td>NaN</td>\n",
       "      <td>NaN</td>\n",
       "      <td>NaN</td>\n",
       "      <td>Not Applicable</td>\n",
       "      <td>per person not applicable</td>\n",
       "      <td>per group not applicable</td>\n",
       "      <td>NaN</td>\n",
       "      <td>NaN</td>\n",
       "      <td>NaN</td>\n",
       "      <td>NaN</td>\n",
       "      <td>NaN</td>\n",
       "      <td>Not Applicable</td>\n",
       "      <td>per person not applicable</td>\n",
       "      <td>per group not applicable</td>\n",
       "      <td>$0</td>\n",
       "      <td>$0 per person</td>\n",
       "      <td>$0 per group</td>\n",
       "      <td>NaN</td>\n",
       "      <td>NaN</td>\n",
       "      <td>NaN</td>\n",
       "      <td>NaN</td>\n",
       "      <td>NaN</td>\n",
       "      <td>NaN</td>\n",
       "      <td>NaN</td>\n",
       "      <td>NaN</td>\n",
       "      <td>NaN</td>\n",
       "      <td>NaN</td>\n",
       "      <td>NaN</td>\n",
       "      <td>NaN</td>\n",
       "      <td>NaN</td>\n",
       "      <td>NaN</td>\n",
       "      <td>NaN</td>\n",
       "      <td>NaN</td>\n",
       "      <td>NaN</td>\n",
       "      <td>NaN</td>\n",
       "      <td>NaN</td>\n",
       "      <td>NaN</td>\n",
       "      <td>NaN</td>\n",
       "      <td>NaN</td>\n",
       "      <td>NaN</td>\n",
       "      <td>NaN</td>\n",
       "      <td>NaN</td>\n",
       "      <td>NaN</td>\n",
       "      <td>NaN</td>\n",
       "      <td>NaN</td>\n",
       "      <td>NaN</td>\n",
       "      <td>NaN</td>\n",
       "      <td>NaN</td>\n",
       "      <td></td>\n",
       "      <td>https://www.deltadentalak.com/deltadentalak/-/...</td>\n",
       "    </tr>\n",
       "  </tbody>\n",
       "</table>\n",
       "</div>"
      ],
      "text/plain": [
       "   BusinessYear StateCode  IssuerId IssuerMarketPlaceMarketingName SourceName  \\\n",
       "0          2021        AK     21989         Delta Dental of Alaska       HIOS   \n",
       "1          2021        AK     21989         Delta Dental of Alaska       HIOS   \n",
       "2          2021        AK     21989         Delta Dental of Alaska       HIOS   \n",
       "3          2021        AK     21989         Delta Dental of Alaska       HIOS   \n",
       "4          2021        AK     21989         Delta Dental of Alaska       HIOS   \n",
       "\n",
       "       ImportDate      MarketCoverage DentalOnlyPlan StandardComponentId  \\\n",
       "0  7/31/2020 3:20          Individual            Yes      21989AK0070001   \n",
       "1  7/31/2020 3:20  SHOP (Small Group)            Yes      21989AK0080001   \n",
       "2  7/31/2020 3:20  SHOP (Small Group)            Yes      21989AK0080002   \n",
       "3  7/31/2020 3:20  SHOP (Small Group)            Yes      21989AK0080003   \n",
       "4  7/31/2020 3:20          Individual            Yes      21989AK0030001   \n",
       "\n",
       "                           PlanMarketingName HIOSProductId NetworkId  \\\n",
       "0        Delta Dental Premier Healthy Smiles    21989AK007    AKN001   \n",
       "1  Delta Dental Premier 1000, 100*/80/50, 50    21989AK008    AKN001   \n",
       "2  Delta Dental Premier 1500, 100*/80/50, 50    21989AK008    AKN001   \n",
       "3  Delta Dental Premier 2000, 100*/80/50, 50    21989AK008    AKN001   \n",
       "4                  Delta Dental Premier Plan    21989AK003    AKN001   \n",
       "\n",
       "  ServiceAreaId FormularyId IsNewPlan   PlanType MetalLevel UniquePlanDesign  \\\n",
       "0        AKS001         NaN  Existing  Indemnity        Low              NaN   \n",
       "1        AKS001         NaN  Existing  Indemnity       High              NaN   \n",
       "2        AKS001         NaN  Existing  Indemnity       High              NaN   \n",
       "3        AKS001         NaN  Existing  Indemnity       High              NaN   \n",
       "4        AKS001         NaN  Existing  Indemnity        Low              NaN   \n",
       "\n",
       "    QHPNonQHPTypeId IsNoticeRequiredForPregnancy  \\\n",
       "0  Off the Exchange                          NaN   \n",
       "1  Off the Exchange                          NaN   \n",
       "2  Off the Exchange                          NaN   \n",
       "3  Off the Exchange                          NaN   \n",
       "4              Both                          NaN   \n",
       "\n",
       "  IsReferralRequiredForSpecialist SpecialistRequiringReferral  \\\n",
       "0                             NaN                         NaN   \n",
       "1                             NaN                         NaN   \n",
       "2                             NaN                         NaN   \n",
       "3                             NaN                         NaN   \n",
       "4                             NaN                         NaN   \n",
       "\n",
       "  PlanLevelExclusions  \\\n",
       "0                 NaN   \n",
       "1                 NaN   \n",
       "2                 NaN   \n",
       "3                 NaN   \n",
       "4                 NaN   \n",
       "\n",
       "  IndianPlanVariationEstimatedAdvancedPaymentAmountPerEnrollee  \\\n",
       "0                                                NaN             \n",
       "1                                                NaN             \n",
       "2                                                NaN             \n",
       "3                                                NaN             \n",
       "4                                                NaN             \n",
       "\n",
       "  CompositeRatingOffered            ChildOnlyOffering  ChildOnlyPlanId  \\\n",
       "0                     No  Allows Adult and Child-Only              NaN   \n",
       "1                     No  Allows Adult and Child-Only              NaN   \n",
       "2                     No  Allows Adult and Child-Only              NaN   \n",
       "3                     No  Allows Adult and Child-Only              NaN   \n",
       "4                     No  Allows Adult and Child-Only              NaN   \n",
       "\n",
       "  WellnessProgramOffered DiseaseManagementProgramsOffered  \\\n",
       "0                    NaN                              NaN   \n",
       "1                    NaN                              NaN   \n",
       "2                    NaN                              NaN   \n",
       "3                    NaN                              NaN   \n",
       "4                    NaN                              NaN   \n",
       "\n",
       "   EHBPercentTotalPremium  EHBPediatricDentalApportionmentQuantity  \\\n",
       "0                     NaN                                      1.0   \n",
       "1                     NaN                                      1.0   \n",
       "2                     NaN                                      1.0   \n",
       "3                     NaN                                      1.0   \n",
       "4                     NaN                                      1.0   \n",
       "\n",
       "  IsGuaranteedRate PlanEffectiveDate PlanExpirationDate OutOfCountryCoverage  \\\n",
       "0  Guaranteed Rate          1/1/2021         12/31/2021                  Yes   \n",
       "1   Estimated Rate          1/1/2020                NaN                  Yes   \n",
       "2   Estimated Rate          1/1/2020                NaN                  Yes   \n",
       "3   Estimated Rate          1/1/2020                NaN                  Yes   \n",
       "4  Guaranteed Rate          1/1/2021         12/31/2021                  Yes   \n",
       "\n",
       "            OutOfCountryCoverageDescription OutOfServiceAreaCoverage  \\\n",
       "0  Providers are treated as out-of-network.                      Yes   \n",
       "1      Providers treated as out-of-network.                      Yes   \n",
       "2      Providers treated as out-of-network.                      Yes   \n",
       "3      Providers treated as out-of-network.                      Yes   \n",
       "4       providers treated as out of network                      Yes   \n",
       "\n",
       "  OutOfServiceAreaCoverageDescription NationalNetwork URLForEnrollmentPayment  \\\n",
       "0                    National Network             Yes                           \n",
       "1                    National Network             Yes                           \n",
       "2                    National Network             Yes                           \n",
       "3                    National Network             Yes                           \n",
       "4                    national network             Yes                           \n",
       "\n",
       "  FormularyURL             PlanId                   PlanVariantMarketingName  \\\n",
       "0          NaN  21989AK0070001-00        Delta Dental Premier Healthy Smiles   \n",
       "1          NaN  21989AK0080001-00  Delta Dental Premier 1000, 100*/80/50, 50   \n",
       "2          NaN  21989AK0080002-00  Delta Dental Premier 1500, 100*/80/50, 50   \n",
       "3          NaN  21989AK0080003-00  Delta Dental Premier 2000, 100*/80/50, 50   \n",
       "4          NaN  21989AK0030001-00                  Delta Dental Premier Plan   \n",
       "\n",
       "                  CSRVariationType IssuerActuarialValue  \\\n",
       "0   Standard Low Off Exchange Plan                  NaN   \n",
       "1  Standard High Off Exchange Plan                  NaN   \n",
       "2  Standard High Off Exchange Plan                  NaN   \n",
       "3  Standard High Off Exchange Plan                  NaN   \n",
       "4   Standard Low Off Exchange Plan                  NaN   \n",
       "\n",
       "   AVCalculatorOutputNumber MedicalDrugDeductiblesIntegrated  \\\n",
       "0                       NaN                              NaN   \n",
       "1                       NaN                              NaN   \n",
       "2                       NaN                              NaN   \n",
       "3                       NaN                              NaN   \n",
       "4                       NaN                              NaN   \n",
       "\n",
       "  MedicalDrugMaximumOutofPocketIntegrated MultipleInNetworkTiers  \\\n",
       "0                                     NaN                     No   \n",
       "1                                     NaN                     No   \n",
       "2                                     NaN                     No   \n",
       "3                                     NaN                     No   \n",
       "4                                     NaN                     No   \n",
       "\n",
       "  FirstTierUtilization SecondTierUtilization SBCHavingaBabyDeductible  \\\n",
       "0                 100%                   NaN                      NaN   \n",
       "1                 100%                   NaN                      NaN   \n",
       "2                 100%                   NaN                      NaN   \n",
       "3                 100%                   NaN                      NaN   \n",
       "4                 100%                   NaN                      NaN   \n",
       "\n",
       "  SBCHavingaBabyCopayment SBCHavingaBabyCoinsurance SBCHavingaBabyLimit  \\\n",
       "0                     NaN                       NaN                 NaN   \n",
       "1                     NaN                       NaN                 NaN   \n",
       "2                     NaN                       NaN                 NaN   \n",
       "3                     NaN                       NaN                 NaN   \n",
       "4                     NaN                       NaN                 NaN   \n",
       "\n",
       "  SBCHavingDiabetesDeductible SBCHavingDiabetesCopayment  \\\n",
       "0                         NaN                        NaN   \n",
       "1                         NaN                        NaN   \n",
       "2                         NaN                        NaN   \n",
       "3                         NaN                        NaN   \n",
       "4                         NaN                        NaN   \n",
       "\n",
       "  SBCHavingDiabetesCoinsurance SBCHavingDiabetesLimit  \\\n",
       "0                          NaN                    NaN   \n",
       "1                          NaN                    NaN   \n",
       "2                          NaN                    NaN   \n",
       "3                          NaN                    NaN   \n",
       "4                          NaN                    NaN   \n",
       "\n",
       "  SBCHavingSimplefractureDeductible SBCHavingSimplefractureCopayment  \\\n",
       "0                               NaN                              NaN   \n",
       "1                               NaN                              NaN   \n",
       "2                               NaN                              NaN   \n",
       "3                               NaN                              NaN   \n",
       "4                               NaN                              NaN   \n",
       "\n",
       "  SBCHavingSimplefractureCoinsurance SBCHavingSimplefractureLimit  \\\n",
       "0                                NaN                          NaN   \n",
       "1                                NaN                          NaN   \n",
       "2                                NaN                          NaN   \n",
       "3                                NaN                          NaN   \n",
       "4                                NaN                          NaN   \n",
       "\n",
       "  SpecialtyDrugMaximumCoinsurance  InpatientCopaymentMaximumDays  \\\n",
       "0                             NaN                              0   \n",
       "1                             NaN                              0   \n",
       "2                             NaN                              0   \n",
       "3                             NaN                              0   \n",
       "4                             NaN                              0   \n",
       "\n",
       "   BeginPrimaryCareCostSharingAfterNumberOfVisits  \\\n",
       "0                                               0   \n",
       "1                                               0   \n",
       "2                                               0   \n",
       "3                                               0   \n",
       "4                                               0   \n",
       "\n",
       "   BeginPrimaryCareDeductibleCoinsuranceAfterNumberOfCopays  \\\n",
       "0                                                  0          \n",
       "1                                                  0          \n",
       "2                                                  0          \n",
       "3                                                  0          \n",
       "4                                                  0          \n",
       "\n",
       "  MEHBInnTier1IndividualMOOP MEHBInnTier1FamilyPerPersonMOOP  \\\n",
       "0             Not Applicable       per person not applicable   \n",
       "1             Not Applicable       per person not applicable   \n",
       "2             Not Applicable       per person not applicable   \n",
       "3             Not Applicable       per person not applicable   \n",
       "4             Not Applicable       per person not applicable   \n",
       "\n",
       "  MEHBInnTier1FamilyPerGroupMOOP MEHBInnTier2IndividualMOOP  \\\n",
       "0       per group not applicable                        NaN   \n",
       "1       per group not applicable                        NaN   \n",
       "2       per group not applicable                        NaN   \n",
       "3       per group not applicable                        NaN   \n",
       "4       per group not applicable                        NaN   \n",
       "\n",
       "  MEHBInnTier2FamilyPerPersonMOOP MEHBInnTier2FamilyPerGroupMOOP  \\\n",
       "0                             NaN                            NaN   \n",
       "1                             NaN                            NaN   \n",
       "2                             NaN                            NaN   \n",
       "3                             NaN                            NaN   \n",
       "4                             NaN                            NaN   \n",
       "\n",
       "  MEHBOutOfNetIndividualMOOP MEHBOutOfNetFamilyPerPersonMOOP  \\\n",
       "0             Not Applicable       per person not applicable   \n",
       "1             Not Applicable       per person not applicable   \n",
       "2             Not Applicable       per person not applicable   \n",
       "3             Not Applicable       per person not applicable   \n",
       "4             Not Applicable       per person not applicable   \n",
       "\n",
       "  MEHBOutOfNetFamilyPerGroupMOOP MEHBCombInnOonIndividualMOOP  \\\n",
       "0       per group not applicable                        $350    \n",
       "1       per group not applicable                        $350    \n",
       "2       per group not applicable                        $350    \n",
       "3       per group not applicable                        $350    \n",
       "4       per group not applicable                        $350    \n",
       "\n",
       "  MEHBCombInnOonFamilyPerPersonMOOP MEHBCombInnOonFamilyPerGroupMOOP  \\\n",
       "0                   $350 per person                   $700 per group   \n",
       "1                   $350 per person                   $700 per group   \n",
       "2                   $350 per person                   $700 per group   \n",
       "3                   $350 per person                   $700 per group   \n",
       "4                   $350 per person                   $700 per group   \n",
       "\n",
       "  DEHBInnTier1IndividualMOOP DEHBInnTier1FamilyPerPersonMOOP  \\\n",
       "0                        NaN                             NaN   \n",
       "1                        NaN                             NaN   \n",
       "2                        NaN                             NaN   \n",
       "3                        NaN                             NaN   \n",
       "4                        NaN                             NaN   \n",
       "\n",
       "  DEHBInnTier1FamilyPerGroupMOOP  DEHBInnTier2IndividualMOOP  \\\n",
       "0                            NaN                         NaN   \n",
       "1                            NaN                         NaN   \n",
       "2                            NaN                         NaN   \n",
       "3                            NaN                         NaN   \n",
       "4                            NaN                         NaN   \n",
       "\n",
       "   DEHBInnTier2FamilyPerPersonMOOP  DEHBInnTier2FamilyPerGroupMOOP  \\\n",
       "0                              NaN                             NaN   \n",
       "1                              NaN                             NaN   \n",
       "2                              NaN                             NaN   \n",
       "3                              NaN                             NaN   \n",
       "4                              NaN                             NaN   \n",
       "\n",
       "  DEHBOutOfNetIndividualMOOP DEHBOutOfNetFamilyPerPersonMOOP  \\\n",
       "0                        NaN                             NaN   \n",
       "1                        NaN                             NaN   \n",
       "2                        NaN                             NaN   \n",
       "3                        NaN                             NaN   \n",
       "4                        NaN                             NaN   \n",
       "\n",
       "  DEHBOutOfNetFamilyPerGroupMOOP DEHBCombInnOonIndividualMOOP  \\\n",
       "0                            NaN                          NaN   \n",
       "1                            NaN                          NaN   \n",
       "2                            NaN                          NaN   \n",
       "3                            NaN                          NaN   \n",
       "4                            NaN                          NaN   \n",
       "\n",
       "  DEHBCombInnOonFamilyPerPersonMOOP DEHBCombInnOonFamilyPerGroupMOOP  \\\n",
       "0                               NaN                              NaN   \n",
       "1                               NaN                              NaN   \n",
       "2                               NaN                              NaN   \n",
       "3                               NaN                              NaN   \n",
       "4                               NaN                              NaN   \n",
       "\n",
       "  TEHBInnTier1IndividualMOOP TEHBInnTier1FamilyPerPersonMOOP  \\\n",
       "0                        NaN                             NaN   \n",
       "1                        NaN                             NaN   \n",
       "2                        NaN                             NaN   \n",
       "3                        NaN                             NaN   \n",
       "4                        NaN                             NaN   \n",
       "\n",
       "  TEHBInnTier1FamilyPerGroupMOOP TEHBInnTier2IndividualMOOP  \\\n",
       "0                            NaN                        NaN   \n",
       "1                            NaN                        NaN   \n",
       "2                            NaN                        NaN   \n",
       "3                            NaN                        NaN   \n",
       "4                            NaN                        NaN   \n",
       "\n",
       "  TEHBInnTier2FamilyPerPersonMOOP TEHBInnTier2FamilyPerGroupMOOP  \\\n",
       "0                             NaN                            NaN   \n",
       "1                             NaN                            NaN   \n",
       "2                             NaN                            NaN   \n",
       "3                             NaN                            NaN   \n",
       "4                             NaN                            NaN   \n",
       "\n",
       "  TEHBOutOfNetIndividualMOOP TEHBOutOfNetFamilyPerPersonMOOP  \\\n",
       "0                        NaN                             NaN   \n",
       "1                        NaN                             NaN   \n",
       "2                        NaN                             NaN   \n",
       "3                        NaN                             NaN   \n",
       "4                        NaN                             NaN   \n",
       "\n",
       "  TEHBOutOfNetFamilyPerGroupMOOP TEHBCombInnOonIndividualMOOP  \\\n",
       "0                            NaN                          NaN   \n",
       "1                            NaN                          NaN   \n",
       "2                            NaN                          NaN   \n",
       "3                            NaN                          NaN   \n",
       "4                            NaN                          NaN   \n",
       "\n",
       "  TEHBCombInnOonFamilyPerPersonMOOP TEHBCombInnOonFamilyPerGroupMOOP  \\\n",
       "0                               NaN                              NaN   \n",
       "1                               NaN                              NaN   \n",
       "2                               NaN                              NaN   \n",
       "3                               NaN                              NaN   \n",
       "4                               NaN                              NaN   \n",
       "\n",
       "  MEHBDedInnTier1Individual MEHBDedInnTier1FamilyPerPerson  \\\n",
       "0            Not Applicable      per person not applicable   \n",
       "1            Not Applicable      per person not applicable   \n",
       "2            Not Applicable      per person not applicable   \n",
       "3            Not Applicable      per person not applicable   \n",
       "4            Not Applicable      per person not applicable   \n",
       "\n",
       "  MEHBDedInnTier1FamilyPerGroup MEHBDedInnTier1Coinsurance  \\\n",
       "0      per group not applicable                        NaN   \n",
       "1      per group not applicable                        NaN   \n",
       "2      per group not applicable                        NaN   \n",
       "3      per group not applicable                        NaN   \n",
       "4      per group not applicable                        NaN   \n",
       "\n",
       "  MEHBDedInnTier2Individual MEHBDedInnTier2FamilyPerPerson  \\\n",
       "0                       NaN                            NaN   \n",
       "1                       NaN                            NaN   \n",
       "2                       NaN                            NaN   \n",
       "3                       NaN                            NaN   \n",
       "4                       NaN                            NaN   \n",
       "\n",
       "  MEHBDedInnTier2FamilyPerGroup MEHBDedInnTier2Coinsurance  \\\n",
       "0                           NaN                        NaN   \n",
       "1                           NaN                        NaN   \n",
       "2                           NaN                        NaN   \n",
       "3                           NaN                        NaN   \n",
       "4                           NaN                        NaN   \n",
       "\n",
       "  MEHBDedOutOfNetIndividual MEHBDedOutOfNetFamilyPerPerson  \\\n",
       "0            Not Applicable      per person not applicable   \n",
       "1            Not Applicable      per person not applicable   \n",
       "2            Not Applicable      per person not applicable   \n",
       "3            Not Applicable      per person not applicable   \n",
       "4            Not Applicable      per person not applicable   \n",
       "\n",
       "  MEHBDedOutOfNetFamilyPerGroup MEHBDedCombInnOonIndividual  \\\n",
       "0      per group not applicable                         $0    \n",
       "1      per group not applicable                        $50    \n",
       "2      per group not applicable                        $50    \n",
       "3      per group not applicable                        $50    \n",
       "4      per group not applicable                         $0    \n",
       "\n",
       "  MEHBDedCombInnOonFamilyPerPerson MEHBDedCombInnOonFamilyPerGroup  \\\n",
       "0                    $0 per person                    $0 per group   \n",
       "1                   $50 per person                  $150 per group   \n",
       "2                   $50 per person                  $150 per group   \n",
       "3                   $50 per person                  $150 per group   \n",
       "4                    $0 per person                    $0 per group   \n",
       "\n",
       "  DEHBDedInnTier1Individual DEHBDedInnTier1FamilyPerPerson  \\\n",
       "0                       NaN                            NaN   \n",
       "1                       NaN                            NaN   \n",
       "2                       NaN                            NaN   \n",
       "3                       NaN                            NaN   \n",
       "4                       NaN                            NaN   \n",
       "\n",
       "  DEHBDedInnTier1FamilyPerGroup DEHBDedInnTier1Coinsurance  \\\n",
       "0                           NaN                        NaN   \n",
       "1                           NaN                        NaN   \n",
       "2                           NaN                        NaN   \n",
       "3                           NaN                        NaN   \n",
       "4                           NaN                        NaN   \n",
       "\n",
       "  DEHBDedInnTier2Individual DEHBDedInnTier2FamilyPerPerson  \\\n",
       "0                       NaN                            NaN   \n",
       "1                       NaN                            NaN   \n",
       "2                       NaN                            NaN   \n",
       "3                       NaN                            NaN   \n",
       "4                       NaN                            NaN   \n",
       "\n",
       "  DEHBDedInnTier2FamilyPerGroup DEHBDedInnTier2Coinsurance  \\\n",
       "0                           NaN                        NaN   \n",
       "1                           NaN                        NaN   \n",
       "2                           NaN                        NaN   \n",
       "3                           NaN                        NaN   \n",
       "4                           NaN                        NaN   \n",
       "\n",
       "  DEHBDedOutOfNetIndividual DEHBDedOutOfNetFamilyPerPerson  \\\n",
       "0                       NaN                            NaN   \n",
       "1                       NaN                            NaN   \n",
       "2                       NaN                            NaN   \n",
       "3                       NaN                            NaN   \n",
       "4                       NaN                            NaN   \n",
       "\n",
       "  DEHBDedOutOfNetFamilyPerGroup DEHBDedCombInnOonIndividual  \\\n",
       "0                           NaN                         NaN   \n",
       "1                           NaN                         NaN   \n",
       "2                           NaN                         NaN   \n",
       "3                           NaN                         NaN   \n",
       "4                           NaN                         NaN   \n",
       "\n",
       "  DEHBDedCombInnOonFamilyPerPerson DEHBDedCombInnOonFamilyPerGroup  \\\n",
       "0                              NaN                             NaN   \n",
       "1                              NaN                             NaN   \n",
       "2                              NaN                             NaN   \n",
       "3                              NaN                             NaN   \n",
       "4                              NaN                             NaN   \n",
       "\n",
       "  TEHBDedInnTier1Individual TEHBDedInnTier1FamilyPerPerson  \\\n",
       "0                       NaN                            NaN   \n",
       "1                       NaN                            NaN   \n",
       "2                       NaN                            NaN   \n",
       "3                       NaN                            NaN   \n",
       "4                       NaN                            NaN   \n",
       "\n",
       "  TEHBDedInnTier1FamilyPerGroup TEHBDedInnTier1Coinsurance  \\\n",
       "0                           NaN                        NaN   \n",
       "1                           NaN                        NaN   \n",
       "2                           NaN                        NaN   \n",
       "3                           NaN                        NaN   \n",
       "4                           NaN                        NaN   \n",
       "\n",
       "  TEHBDedInnTier2Individual TEHBDedInnTier2FamilyPerPerson  \\\n",
       "0                       NaN                            NaN   \n",
       "1                       NaN                            NaN   \n",
       "2                       NaN                            NaN   \n",
       "3                       NaN                            NaN   \n",
       "4                       NaN                            NaN   \n",
       "\n",
       "  TEHBDedInnTier2FamilyPerGroup TEHBDedInnTier2Coinsurance  \\\n",
       "0                           NaN                        NaN   \n",
       "1                           NaN                        NaN   \n",
       "2                           NaN                        NaN   \n",
       "3                           NaN                        NaN   \n",
       "4                           NaN                        NaN   \n",
       "\n",
       "  TEHBDedOutOfNetIndividual TEHBDedOutOfNetFamilyPerPerson  \\\n",
       "0                       NaN                            NaN   \n",
       "1                       NaN                            NaN   \n",
       "2                       NaN                            NaN   \n",
       "3                       NaN                            NaN   \n",
       "4                       NaN                            NaN   \n",
       "\n",
       "  TEHBDedOutOfNetFamilyPerGroup TEHBDedCombInnOonIndividual  \\\n",
       "0                           NaN                         NaN   \n",
       "1                           NaN                         NaN   \n",
       "2                           NaN                         NaN   \n",
       "3                           NaN                         NaN   \n",
       "4                           NaN                         NaN   \n",
       "\n",
       "  TEHBDedCombInnOonFamilyPerPerson TEHBDedCombInnOonFamilyPerGroup  \\\n",
       "0                              NaN                             NaN   \n",
       "1                              NaN                             NaN   \n",
       "2                              NaN                             NaN   \n",
       "3                              NaN                             NaN   \n",
       "4                              NaN                             NaN   \n",
       "\n",
       "  IsHSAEligible HSAOrHRAEmployerContribution  \\\n",
       "0           NaN                          NaN   \n",
       "1           NaN                          NaN   \n",
       "2           NaN                          NaN   \n",
       "3           NaN                          NaN   \n",
       "4           NaN                          NaN   \n",
       "\n",
       "  HSAOrHRAEmployerContributionAmount URLForSummaryofBenefitsCoverage  \\\n",
       "0                                NaN                                   \n",
       "1                                NaN                                   \n",
       "2                                NaN                                   \n",
       "3                                NaN                                   \n",
       "4                                NaN                                   \n",
       "\n",
       "                                        PlanBrochure  \n",
       "0  https://www.deltadentalak.com/deltadentalak/-/...  \n",
       "1  https://www.deltadentalak.com/pdfs/ben_sum/AK/...  \n",
       "2  https://www.deltadentalak.com/pdfs/ben_sum/AK/...  \n",
       "3  https://www.deltadentalak.com/pdfs/ben_sum/AK/...  \n",
       "4  https://www.deltadentalak.com/deltadentalak/-/...  "
      ]
     },
     "execution_count": 26,
     "metadata": {},
     "output_type": "execute_result"
    }
   ],
   "source": [
    "plan_attr_df = pd.read_csv('newdata/2021 exchange PUF/Plan_Attributes_PUF.csv')\n",
    "plan_attr_df.head()"
   ]
  },
  {
   "cell_type": "code",
   "execution_count": 27,
   "id": "documented-pakistan",
   "metadata": {
    "ExecuteTime": {
     "end_time": "2021-03-26T12:51:39.643869Z",
     "start_time": "2021-03-26T12:51:39.640873Z"
    }
   },
   "outputs": [
    {
     "name": "stdout",
     "output_type": "stream",
     "text": [
      "(20236, 150)\n"
     ]
    }
   ],
   "source": [
    "print(plan_attr_df.shape)"
   ]
  },
  {
   "cell_type": "code",
   "execution_count": 28,
   "id": "stretch-think",
   "metadata": {
    "ExecuteTime": {
     "end_time": "2021-03-26T12:51:39.648869Z",
     "start_time": "2021-03-26T12:51:39.644370Z"
    }
   },
   "outputs": [],
   "source": [
    "columns_list = ['StateCode', 'IssuerId', 'StandardComponentId', 'IssuerMarketPlaceMarketingName', 'DentalOnlyPlan', 'NetworkId', 'MetalLevel', 'TEHBDedInnTier1Individual', 'TEHBDedOutOfNetIndividual', 'TEHBDedCombInnOonIndividual', 'OutOfCountryCoverage', 'OutOfServiceAreaCoverage', 'MarketCoverage']"
   ]
  },
  {
   "cell_type": "code",
   "execution_count": 29,
   "id": "spiritual-heath",
   "metadata": {
    "ExecuteTime": {
     "end_time": "2021-03-26T12:51:39.663369Z",
     "start_time": "2021-03-26T12:51:39.649371Z"
    },
    "scrolled": true
   },
   "outputs": [
    {
     "data": {
      "text/html": [
       "<div>\n",
       "<style scoped>\n",
       "    .dataframe tbody tr th:only-of-type {\n",
       "        vertical-align: middle;\n",
       "    }\n",
       "\n",
       "    .dataframe tbody tr th {\n",
       "        vertical-align: top;\n",
       "    }\n",
       "\n",
       "    .dataframe thead th {\n",
       "        text-align: right;\n",
       "    }\n",
       "</style>\n",
       "<table border=\"1\" class=\"dataframe\">\n",
       "  <thead>\n",
       "    <tr style=\"text-align: right;\">\n",
       "      <th></th>\n",
       "      <th>StateCode</th>\n",
       "      <th>IssuerId</th>\n",
       "      <th>StandardComponentId</th>\n",
       "      <th>IssuerMarketPlaceMarketingName</th>\n",
       "      <th>DentalOnlyPlan</th>\n",
       "      <th>NetworkId</th>\n",
       "      <th>MetalLevel</th>\n",
       "      <th>TEHBDedInnTier1Individual</th>\n",
       "      <th>TEHBDedOutOfNetIndividual</th>\n",
       "      <th>TEHBDedCombInnOonIndividual</th>\n",
       "      <th>OutOfCountryCoverage</th>\n",
       "      <th>OutOfServiceAreaCoverage</th>\n",
       "      <th>MarketCoverage</th>\n",
       "    </tr>\n",
       "  </thead>\n",
       "  <tbody>\n",
       "    <tr>\n",
       "      <th>0</th>\n",
       "      <td>AK</td>\n",
       "      <td>21989</td>\n",
       "      <td>21989AK0070001</td>\n",
       "      <td>Delta Dental of Alaska</td>\n",
       "      <td>Yes</td>\n",
       "      <td>AKN001</td>\n",
       "      <td>Low</td>\n",
       "      <td>NaN</td>\n",
       "      <td>NaN</td>\n",
       "      <td>NaN</td>\n",
       "      <td>Yes</td>\n",
       "      <td>Yes</td>\n",
       "      <td>Individual</td>\n",
       "    </tr>\n",
       "    <tr>\n",
       "      <th>1</th>\n",
       "      <td>AK</td>\n",
       "      <td>21989</td>\n",
       "      <td>21989AK0080001</td>\n",
       "      <td>Delta Dental of Alaska</td>\n",
       "      <td>Yes</td>\n",
       "      <td>AKN001</td>\n",
       "      <td>High</td>\n",
       "      <td>NaN</td>\n",
       "      <td>NaN</td>\n",
       "      <td>NaN</td>\n",
       "      <td>Yes</td>\n",
       "      <td>Yes</td>\n",
       "      <td>SHOP (Small Group)</td>\n",
       "    </tr>\n",
       "    <tr>\n",
       "      <th>2</th>\n",
       "      <td>AK</td>\n",
       "      <td>21989</td>\n",
       "      <td>21989AK0080002</td>\n",
       "      <td>Delta Dental of Alaska</td>\n",
       "      <td>Yes</td>\n",
       "      <td>AKN001</td>\n",
       "      <td>High</td>\n",
       "      <td>NaN</td>\n",
       "      <td>NaN</td>\n",
       "      <td>NaN</td>\n",
       "      <td>Yes</td>\n",
       "      <td>Yes</td>\n",
       "      <td>SHOP (Small Group)</td>\n",
       "    </tr>\n",
       "    <tr>\n",
       "      <th>3</th>\n",
       "      <td>AK</td>\n",
       "      <td>21989</td>\n",
       "      <td>21989AK0080003</td>\n",
       "      <td>Delta Dental of Alaska</td>\n",
       "      <td>Yes</td>\n",
       "      <td>AKN001</td>\n",
       "      <td>High</td>\n",
       "      <td>NaN</td>\n",
       "      <td>NaN</td>\n",
       "      <td>NaN</td>\n",
       "      <td>Yes</td>\n",
       "      <td>Yes</td>\n",
       "      <td>SHOP (Small Group)</td>\n",
       "    </tr>\n",
       "    <tr>\n",
       "      <th>4</th>\n",
       "      <td>AK</td>\n",
       "      <td>21989</td>\n",
       "      <td>21989AK0030001</td>\n",
       "      <td>Delta Dental of Alaska</td>\n",
       "      <td>Yes</td>\n",
       "      <td>AKN001</td>\n",
       "      <td>Low</td>\n",
       "      <td>NaN</td>\n",
       "      <td>NaN</td>\n",
       "      <td>NaN</td>\n",
       "      <td>Yes</td>\n",
       "      <td>Yes</td>\n",
       "      <td>Individual</td>\n",
       "    </tr>\n",
       "    <tr>\n",
       "      <th>...</th>\n",
       "      <td>...</td>\n",
       "      <td>...</td>\n",
       "      <td>...</td>\n",
       "      <td>...</td>\n",
       "      <td>...</td>\n",
       "      <td>...</td>\n",
       "      <td>...</td>\n",
       "      <td>...</td>\n",
       "      <td>...</td>\n",
       "      <td>...</td>\n",
       "      <td>...</td>\n",
       "      <td>...</td>\n",
       "      <td>...</td>\n",
       "    </tr>\n",
       "    <tr>\n",
       "      <th>20231</th>\n",
       "      <td>OH</td>\n",
       "      <td>28162</td>\n",
       "      <td>28162OH0090059</td>\n",
       "      <td>AultCare Insurance Company</td>\n",
       "      <td>No</td>\n",
       "      <td>OHN001</td>\n",
       "      <td>Silver</td>\n",
       "      <td>$4,250</td>\n",
       "      <td>$12,750</td>\n",
       "      <td>Not Applicable</td>\n",
       "      <td>Yes</td>\n",
       "      <td>Yes</td>\n",
       "      <td>SHOP (Small Group)</td>\n",
       "    </tr>\n",
       "    <tr>\n",
       "      <th>20232</th>\n",
       "      <td>OH</td>\n",
       "      <td>28162</td>\n",
       "      <td>28162OH0090060</td>\n",
       "      <td>AultCare Insurance Company</td>\n",
       "      <td>No</td>\n",
       "      <td>OHN001</td>\n",
       "      <td>Silver</td>\n",
       "      <td>NaN</td>\n",
       "      <td>NaN</td>\n",
       "      <td>NaN</td>\n",
       "      <td>Yes</td>\n",
       "      <td>Yes</td>\n",
       "      <td>SHOP (Small Group)</td>\n",
       "    </tr>\n",
       "    <tr>\n",
       "      <th>20233</th>\n",
       "      <td>OH</td>\n",
       "      <td>28162</td>\n",
       "      <td>28162OH0090060</td>\n",
       "      <td>AultCare Insurance Company</td>\n",
       "      <td>No</td>\n",
       "      <td>OHN001</td>\n",
       "      <td>Silver</td>\n",
       "      <td>NaN</td>\n",
       "      <td>NaN</td>\n",
       "      <td>NaN</td>\n",
       "      <td>Yes</td>\n",
       "      <td>Yes</td>\n",
       "      <td>SHOP (Small Group)</td>\n",
       "    </tr>\n",
       "    <tr>\n",
       "      <th>20234</th>\n",
       "      <td>OH</td>\n",
       "      <td>28162</td>\n",
       "      <td>28162OH0090062</td>\n",
       "      <td>AultCare Insurance Company</td>\n",
       "      <td>No</td>\n",
       "      <td>OHN001</td>\n",
       "      <td>Expanded Bronze</td>\n",
       "      <td>$6,850</td>\n",
       "      <td>$20,550</td>\n",
       "      <td>Not Applicable</td>\n",
       "      <td>Yes</td>\n",
       "      <td>Yes</td>\n",
       "      <td>SHOP (Small Group)</td>\n",
       "    </tr>\n",
       "    <tr>\n",
       "      <th>20235</th>\n",
       "      <td>OH</td>\n",
       "      <td>28162</td>\n",
       "      <td>28162OH0090062</td>\n",
       "      <td>AultCare Insurance Company</td>\n",
       "      <td>No</td>\n",
       "      <td>OHN001</td>\n",
       "      <td>Expanded Bronze</td>\n",
       "      <td>$6,850</td>\n",
       "      <td>$20,550</td>\n",
       "      <td>Not Applicable</td>\n",
       "      <td>Yes</td>\n",
       "      <td>Yes</td>\n",
       "      <td>SHOP (Small Group)</td>\n",
       "    </tr>\n",
       "  </tbody>\n",
       "</table>\n",
       "<p>20236 rows × 13 columns</p>\n",
       "</div>"
      ],
      "text/plain": [
       "      StateCode  IssuerId StandardComponentId IssuerMarketPlaceMarketingName  \\\n",
       "0            AK     21989      21989AK0070001         Delta Dental of Alaska   \n",
       "1            AK     21989      21989AK0080001         Delta Dental of Alaska   \n",
       "2            AK     21989      21989AK0080002         Delta Dental of Alaska   \n",
       "3            AK     21989      21989AK0080003         Delta Dental of Alaska   \n",
       "4            AK     21989      21989AK0030001         Delta Dental of Alaska   \n",
       "...         ...       ...                 ...                            ...   \n",
       "20231        OH     28162      28162OH0090059     AultCare Insurance Company   \n",
       "20232        OH     28162      28162OH0090060     AultCare Insurance Company   \n",
       "20233        OH     28162      28162OH0090060     AultCare Insurance Company   \n",
       "20234        OH     28162      28162OH0090062     AultCare Insurance Company   \n",
       "20235        OH     28162      28162OH0090062     AultCare Insurance Company   \n",
       "\n",
       "      DentalOnlyPlan NetworkId       MetalLevel TEHBDedInnTier1Individual  \\\n",
       "0                Yes    AKN001              Low                       NaN   \n",
       "1                Yes    AKN001             High                       NaN   \n",
       "2                Yes    AKN001             High                       NaN   \n",
       "3                Yes    AKN001             High                       NaN   \n",
       "4                Yes    AKN001              Low                       NaN   \n",
       "...              ...       ...              ...                       ...   \n",
       "20231             No    OHN001           Silver                   $4,250    \n",
       "20232             No    OHN001           Silver                       NaN   \n",
       "20233             No    OHN001           Silver                       NaN   \n",
       "20234             No    OHN001  Expanded Bronze                   $6,850    \n",
       "20235             No    OHN001  Expanded Bronze                   $6,850    \n",
       "\n",
       "      TEHBDedOutOfNetIndividual TEHBDedCombInnOonIndividual  \\\n",
       "0                           NaN                         NaN   \n",
       "1                           NaN                         NaN   \n",
       "2                           NaN                         NaN   \n",
       "3                           NaN                         NaN   \n",
       "4                           NaN                         NaN   \n",
       "...                         ...                         ...   \n",
       "20231                  $12,750               Not Applicable   \n",
       "20232                       NaN                         NaN   \n",
       "20233                       NaN                         NaN   \n",
       "20234                  $20,550               Not Applicable   \n",
       "20235                  $20,550               Not Applicable   \n",
       "\n",
       "      OutOfCountryCoverage OutOfServiceAreaCoverage      MarketCoverage  \n",
       "0                      Yes                      Yes          Individual  \n",
       "1                      Yes                      Yes  SHOP (Small Group)  \n",
       "2                      Yes                      Yes  SHOP (Small Group)  \n",
       "3                      Yes                      Yes  SHOP (Small Group)  \n",
       "4                      Yes                      Yes          Individual  \n",
       "...                    ...                      ...                 ...  \n",
       "20231                  Yes                      Yes  SHOP (Small Group)  \n",
       "20232                  Yes                      Yes  SHOP (Small Group)  \n",
       "20233                  Yes                      Yes  SHOP (Small Group)  \n",
       "20234                  Yes                      Yes  SHOP (Small Group)  \n",
       "20235                  Yes                      Yes  SHOP (Small Group)  \n",
       "\n",
       "[20236 rows x 13 columns]"
      ]
     },
     "execution_count": 29,
     "metadata": {},
     "output_type": "execute_result"
    }
   ],
   "source": [
    "plan_attr_short = plan_attr_df[columns_list]\n",
    "plan_attr_short"
   ]
  },
  {
   "cell_type": "code",
   "execution_count": 30,
   "id": "congressional-potter",
   "metadata": {
    "ExecuteTime": {
     "end_time": "2021-03-26T12:51:39.675869Z",
     "start_time": "2021-03-26T12:51:39.663869Z"
    },
    "scrolled": true
   },
   "outputs": [
    {
     "data": {
      "text/plain": [
       "StateCode                            0\n",
       "IssuerId                             0\n",
       "StandardComponentId                  0\n",
       "IssuerMarketPlaceMarketingName       0\n",
       "DentalOnlyPlan                       0\n",
       "NetworkId                            0\n",
       "MetalLevel                           0\n",
       "TEHBDedInnTier1Individual         5187\n",
       "TEHBDedOutOfNetIndividual         5187\n",
       "TEHBDedCombInnOonIndividual       5187\n",
       "OutOfCountryCoverage                 0\n",
       "OutOfServiceAreaCoverage             0\n",
       "MarketCoverage                       0\n",
       "dtype: int64"
      ]
     },
     "execution_count": 30,
     "metadata": {},
     "output_type": "execute_result"
    }
   ],
   "source": [
    "plan_attr_short.isna().sum()"
   ]
  },
  {
   "cell_type": "code",
   "execution_count": 31,
   "id": "coral-fraud",
   "metadata": {
    "ExecuteTime": {
     "end_time": "2021-03-26T12:51:39.687369Z",
     "start_time": "2021-03-26T12:51:39.676870Z"
    }
   },
   "outputs": [],
   "source": [
    "plan_attr_short = plan_attr_short.dropna()"
   ]
  },
  {
   "cell_type": "code",
   "execution_count": 32,
   "id": "wired-browse",
   "metadata": {
    "ExecuteTime": {
     "end_time": "2021-03-26T12:51:39.704373Z",
     "start_time": "2021-03-26T12:51:39.687869Z"
    }
   },
   "outputs": [
    {
     "data": {
      "text/plain": [
       "StateCode                         0\n",
       "IssuerId                          0\n",
       "StandardComponentId               0\n",
       "IssuerMarketPlaceMarketingName    0\n",
       "DentalOnlyPlan                    0\n",
       "NetworkId                         0\n",
       "MetalLevel                        0\n",
       "TEHBDedInnTier1Individual         0\n",
       "TEHBDedOutOfNetIndividual         0\n",
       "TEHBDedCombInnOonIndividual       0\n",
       "OutOfCountryCoverage              0\n",
       "OutOfServiceAreaCoverage          0\n",
       "MarketCoverage                    0\n",
       "dtype: int64"
      ]
     },
     "execution_count": 32,
     "metadata": {},
     "output_type": "execute_result"
    }
   ],
   "source": [
    "plan_attr_short.isna().sum()"
   ]
  },
  {
   "cell_type": "markdown",
   "id": "herbal-porcelain",
   "metadata": {},
   "source": [
    "# service area"
   ]
  },
  {
   "cell_type": "code",
   "execution_count": 33,
   "id": "comparable-latter",
   "metadata": {
    "ExecuteTime": {
     "end_time": "2021-03-26T12:51:39.736869Z",
     "start_time": "2021-03-26T12:51:39.704869Z"
    },
    "scrolled": false
   },
   "outputs": [
    {
     "data": {
      "text/html": [
       "<div>\n",
       "<style scoped>\n",
       "    .dataframe tbody tr th:only-of-type {\n",
       "        vertical-align: middle;\n",
       "    }\n",
       "\n",
       "    .dataframe tbody tr th {\n",
       "        vertical-align: top;\n",
       "    }\n",
       "\n",
       "    .dataframe thead th {\n",
       "        text-align: right;\n",
       "    }\n",
       "</style>\n",
       "<table border=\"1\" class=\"dataframe\">\n",
       "  <thead>\n",
       "    <tr style=\"text-align: right;\">\n",
       "      <th></th>\n",
       "      <th>BusinessYear</th>\n",
       "      <th>StateCode</th>\n",
       "      <th>IssuerId</th>\n",
       "      <th>SourceName</th>\n",
       "      <th>ImportDate</th>\n",
       "      <th>ServiceAreaId</th>\n",
       "      <th>ServiceAreaName</th>\n",
       "      <th>CoverEntireState</th>\n",
       "      <th>County</th>\n",
       "      <th>PartialCounty</th>\n",
       "      <th>ZipCodes</th>\n",
       "      <th>PartialCountyJustification</th>\n",
       "      <th>MarketCoverage</th>\n",
       "      <th>DentalOnlyPlan</th>\n",
       "    </tr>\n",
       "  </thead>\n",
       "  <tbody>\n",
       "    <tr>\n",
       "      <th>0</th>\n",
       "      <td>2021</td>\n",
       "      <td>AK</td>\n",
       "      <td>21989</td>\n",
       "      <td>HIOS</td>\n",
       "      <td>2020-07-31 03:20:18</td>\n",
       "      <td>AKS001</td>\n",
       "      <td>Alaska Premier</td>\n",
       "      <td>Yes</td>\n",
       "      <td>NaN</td>\n",
       "      <td>NaN</td>\n",
       "      <td>NaN</td>\n",
       "      <td>NaN</td>\n",
       "      <td>Individual</td>\n",
       "      <td>Yes</td>\n",
       "    </tr>\n",
       "    <tr>\n",
       "      <th>1</th>\n",
       "      <td>2021</td>\n",
       "      <td>AK</td>\n",
       "      <td>21989</td>\n",
       "      <td>HIOS</td>\n",
       "      <td>2020-07-31 03:20:18</td>\n",
       "      <td>AKS001</td>\n",
       "      <td>Alaska Premier</td>\n",
       "      <td>Yes</td>\n",
       "      <td>NaN</td>\n",
       "      <td>NaN</td>\n",
       "      <td>NaN</td>\n",
       "      <td>NaN</td>\n",
       "      <td>SHOP (Small Group)</td>\n",
       "      <td>Yes</td>\n",
       "    </tr>\n",
       "    <tr>\n",
       "      <th>2</th>\n",
       "      <td>2021</td>\n",
       "      <td>AK</td>\n",
       "      <td>21989</td>\n",
       "      <td>HIOS</td>\n",
       "      <td>2020-07-31 03:20:18</td>\n",
       "      <td>AKS002</td>\n",
       "      <td>Alaska PPO</td>\n",
       "      <td>No</td>\n",
       "      <td>2020.0</td>\n",
       "      <td>No</td>\n",
       "      <td>NaN</td>\n",
       "      <td>NaN</td>\n",
       "      <td>Individual</td>\n",
       "      <td>Yes</td>\n",
       "    </tr>\n",
       "    <tr>\n",
       "      <th>3</th>\n",
       "      <td>2021</td>\n",
       "      <td>AK</td>\n",
       "      <td>21989</td>\n",
       "      <td>HIOS</td>\n",
       "      <td>2020-07-31 03:20:18</td>\n",
       "      <td>AKS002</td>\n",
       "      <td>Alaska PPO</td>\n",
       "      <td>No</td>\n",
       "      <td>2020.0</td>\n",
       "      <td>No</td>\n",
       "      <td>NaN</td>\n",
       "      <td>NaN</td>\n",
       "      <td>SHOP (Small Group)</td>\n",
       "      <td>Yes</td>\n",
       "    </tr>\n",
       "    <tr>\n",
       "      <th>4</th>\n",
       "      <td>2021</td>\n",
       "      <td>AK</td>\n",
       "      <td>21989</td>\n",
       "      <td>HIOS</td>\n",
       "      <td>2020-07-31 03:20:18</td>\n",
       "      <td>AKS002</td>\n",
       "      <td>Alaska PPO</td>\n",
       "      <td>No</td>\n",
       "      <td>2090.0</td>\n",
       "      <td>No</td>\n",
       "      <td>NaN</td>\n",
       "      <td>NaN</td>\n",
       "      <td>SHOP (Small Group)</td>\n",
       "      <td>Yes</td>\n",
       "    </tr>\n",
       "  </tbody>\n",
       "</table>\n",
       "</div>"
      ],
      "text/plain": [
       "   BusinessYear StateCode  IssuerId SourceName           ImportDate  \\\n",
       "0          2021        AK     21989       HIOS  2020-07-31 03:20:18   \n",
       "1          2021        AK     21989       HIOS  2020-07-31 03:20:18   \n",
       "2          2021        AK     21989       HIOS  2020-07-31 03:20:18   \n",
       "3          2021        AK     21989       HIOS  2020-07-31 03:20:18   \n",
       "4          2021        AK     21989       HIOS  2020-07-31 03:20:18   \n",
       "\n",
       "  ServiceAreaId ServiceAreaName CoverEntireState  County PartialCounty  \\\n",
       "0        AKS001  Alaska Premier              Yes     NaN           NaN   \n",
       "1        AKS001  Alaska Premier              Yes     NaN           NaN   \n",
       "2        AKS002      Alaska PPO               No  2020.0            No   \n",
       "3        AKS002      Alaska PPO               No  2020.0            No   \n",
       "4        AKS002      Alaska PPO               No  2090.0            No   \n",
       "\n",
       "  ZipCodes PartialCountyJustification      MarketCoverage DentalOnlyPlan  \n",
       "0      NaN                        NaN          Individual            Yes  \n",
       "1      NaN                        NaN  SHOP (Small Group)            Yes  \n",
       "2      NaN                        NaN          Individual            Yes  \n",
       "3      NaN                        NaN  SHOP (Small Group)            Yes  \n",
       "4      NaN                        NaN  SHOP (Small Group)            Yes  "
      ]
     },
     "execution_count": 33,
     "metadata": {},
     "output_type": "execute_result"
    }
   ],
   "source": [
    "service_area = pd.read_csv('newdata/2021 exchange PUF/Service_Area_PUF.csv')\n",
    "service_area.head()"
   ]
  },
  {
   "cell_type": "code",
   "execution_count": 34,
   "id": "received-writer",
   "metadata": {
    "ExecuteTime": {
     "end_time": "2021-03-26T12:51:39.739871Z",
     "start_time": "2021-03-26T12:51:39.737873Z"
    }
   },
   "outputs": [],
   "source": [
    "service_columns_list = ['IssuerId', 'County']"
   ]
  },
  {
   "cell_type": "code",
   "execution_count": 35,
   "id": "generic-fortune",
   "metadata": {
    "ExecuteTime": {
     "end_time": "2021-03-26T12:51:39.752872Z",
     "start_time": "2021-03-26T12:51:39.740872Z"
    },
    "scrolled": true
   },
   "outputs": [
    {
     "data": {
      "text/html": [
       "<div>\n",
       "<style scoped>\n",
       "    .dataframe tbody tr th:only-of-type {\n",
       "        vertical-align: middle;\n",
       "    }\n",
       "\n",
       "    .dataframe tbody tr th {\n",
       "        vertical-align: top;\n",
       "    }\n",
       "\n",
       "    .dataframe thead th {\n",
       "        text-align: right;\n",
       "    }\n",
       "</style>\n",
       "<table border=\"1\" class=\"dataframe\">\n",
       "  <thead>\n",
       "    <tr style=\"text-align: right;\">\n",
       "      <th></th>\n",
       "      <th>IssuerId</th>\n",
       "      <th>County</th>\n",
       "    </tr>\n",
       "  </thead>\n",
       "  <tbody>\n",
       "    <tr>\n",
       "      <th>0</th>\n",
       "      <td>21989</td>\n",
       "      <td>NaN</td>\n",
       "    </tr>\n",
       "    <tr>\n",
       "      <th>1</th>\n",
       "      <td>21989</td>\n",
       "      <td>NaN</td>\n",
       "    </tr>\n",
       "    <tr>\n",
       "      <th>2</th>\n",
       "      <td>21989</td>\n",
       "      <td>2020.0</td>\n",
       "    </tr>\n",
       "    <tr>\n",
       "      <th>3</th>\n",
       "      <td>21989</td>\n",
       "      <td>2020.0</td>\n",
       "    </tr>\n",
       "    <tr>\n",
       "      <th>4</th>\n",
       "      <td>21989</td>\n",
       "      <td>2090.0</td>\n",
       "    </tr>\n",
       "    <tr>\n",
       "      <th>...</th>\n",
       "      <td>...</td>\n",
       "      <td>...</td>\n",
       "    </tr>\n",
       "    <tr>\n",
       "      <th>11316</th>\n",
       "      <td>97762</td>\n",
       "      <td>NaN</td>\n",
       "    </tr>\n",
       "    <tr>\n",
       "      <th>11317</th>\n",
       "      <td>31274</td>\n",
       "      <td>NaN</td>\n",
       "    </tr>\n",
       "    <tr>\n",
       "      <th>11318</th>\n",
       "      <td>50328</td>\n",
       "      <td>NaN</td>\n",
       "    </tr>\n",
       "    <tr>\n",
       "      <th>11319</th>\n",
       "      <td>76526</td>\n",
       "      <td>NaN</td>\n",
       "    </tr>\n",
       "    <tr>\n",
       "      <th>11320</th>\n",
       "      <td>94562</td>\n",
       "      <td>NaN</td>\n",
       "    </tr>\n",
       "  </tbody>\n",
       "</table>\n",
       "<p>11321 rows × 2 columns</p>\n",
       "</div>"
      ],
      "text/plain": [
       "       IssuerId  County\n",
       "0         21989     NaN\n",
       "1         21989     NaN\n",
       "2         21989  2020.0\n",
       "3         21989  2020.0\n",
       "4         21989  2090.0\n",
       "...         ...     ...\n",
       "11316     97762     NaN\n",
       "11317     31274     NaN\n",
       "11318     50328     NaN\n",
       "11319     76526     NaN\n",
       "11320     94562     NaN\n",
       "\n",
       "[11321 rows x 2 columns]"
      ]
     },
     "execution_count": 35,
     "metadata": {},
     "output_type": "execute_result"
    }
   ],
   "source": [
    "service_area_short = service_area[service_columns_list]\n",
    "service_area_short"
   ]
  },
  {
   "cell_type": "code",
   "execution_count": 36,
   "id": "sophisticated-heater",
   "metadata": {
    "ExecuteTime": {
     "end_time": "2021-03-26T12:51:39.762369Z",
     "start_time": "2021-03-26T12:51:39.753372Z"
    }
   },
   "outputs": [
    {
     "data": {
      "text/plain": [
       "IssuerId      0\n",
       "County      282\n",
       "dtype: int64"
      ]
     },
     "execution_count": 36,
     "metadata": {},
     "output_type": "execute_result"
    }
   ],
   "source": [
    "service_area_short.isna().sum()"
   ]
  },
  {
   "cell_type": "markdown",
   "id": "promotional-village",
   "metadata": {},
   "source": [
    "## join tables"
   ]
  },
  {
   "cell_type": "code",
   "execution_count": 37,
   "id": "indie-jacob",
   "metadata": {
    "ExecuteTime": {
     "end_time": "2021-03-26T12:51:39.767369Z",
     "start_time": "2021-03-26T12:51:39.762869Z"
    }
   },
   "outputs": [
    {
     "name": "stdout",
     "output_type": "stream",
     "text": [
      "(15049, 13)\n",
      "(11321, 2)\n"
     ]
    }
   ],
   "source": [
    "print(plan_attr_short.shape)\n",
    "print(service_area_short.shape)"
   ]
  },
  {
   "cell_type": "code",
   "execution_count": 38,
   "id": "representative-quebec",
   "metadata": {
    "ExecuteTime": {
     "end_time": "2021-03-26T12:51:40.105370Z",
     "start_time": "2021-03-26T12:51:39.767870Z"
    }
   },
   "outputs": [],
   "source": [
    "full_plan_df = pd.merge(plan_attr_short, service_area_short, how='left', on='IssuerId', )"
   ]
  },
  {
   "cell_type": "code",
   "execution_count": 39,
   "id": "abandoned-tissue",
   "metadata": {
    "ExecuteTime": {
     "end_time": "2021-03-26T12:51:40.109873Z",
     "start_time": "2021-03-26T12:51:40.106370Z"
    },
    "scrolled": true
   },
   "outputs": [
    {
     "data": {
      "text/plain": [
       "(1013086, 14)"
      ]
     },
     "execution_count": 39,
     "metadata": {},
     "output_type": "execute_result"
    }
   ],
   "source": [
    "full_plan_df.shape"
   ]
  },
  {
   "cell_type": "code",
   "execution_count": 40,
   "id": "popular-transport",
   "metadata": {
    "ExecuteTime": {
     "end_time": "2021-03-26T12:51:40.121372Z",
     "start_time": "2021-03-26T12:51:40.110370Z"
    },
    "scrolled": true
   },
   "outputs": [
    {
     "data": {
      "text/html": [
       "<div>\n",
       "<style scoped>\n",
       "    .dataframe tbody tr th:only-of-type {\n",
       "        vertical-align: middle;\n",
       "    }\n",
       "\n",
       "    .dataframe tbody tr th {\n",
       "        vertical-align: top;\n",
       "    }\n",
       "\n",
       "    .dataframe thead th {\n",
       "        text-align: right;\n",
       "    }\n",
       "</style>\n",
       "<table border=\"1\" class=\"dataframe\">\n",
       "  <thead>\n",
       "    <tr style=\"text-align: right;\">\n",
       "      <th></th>\n",
       "      <th>StateCode</th>\n",
       "      <th>IssuerId</th>\n",
       "      <th>StandardComponentId</th>\n",
       "      <th>IssuerMarketPlaceMarketingName</th>\n",
       "      <th>DentalOnlyPlan</th>\n",
       "      <th>NetworkId</th>\n",
       "      <th>MetalLevel</th>\n",
       "      <th>TEHBDedInnTier1Individual</th>\n",
       "      <th>TEHBDedOutOfNetIndividual</th>\n",
       "      <th>TEHBDedCombInnOonIndividual</th>\n",
       "      <th>OutOfCountryCoverage</th>\n",
       "      <th>OutOfServiceAreaCoverage</th>\n",
       "      <th>MarketCoverage</th>\n",
       "      <th>County</th>\n",
       "    </tr>\n",
       "  </thead>\n",
       "  <tbody>\n",
       "    <tr>\n",
       "      <th>0</th>\n",
       "      <td>AK</td>\n",
       "      <td>38344</td>\n",
       "      <td>38344AK1060001</td>\n",
       "      <td>Premera Blue Cross Blue Shield of Alaska</td>\n",
       "      <td>No</td>\n",
       "      <td>AKN001</td>\n",
       "      <td>Gold</td>\n",
       "      <td>$1,500</td>\n",
       "      <td>$3,000</td>\n",
       "      <td>Not Applicable</td>\n",
       "      <td>Yes</td>\n",
       "      <td>Yes</td>\n",
       "      <td>Individual</td>\n",
       "      <td>NaN</td>\n",
       "    </tr>\n",
       "    <tr>\n",
       "      <th>1</th>\n",
       "      <td>AK</td>\n",
       "      <td>38344</td>\n",
       "      <td>38344AK1060001</td>\n",
       "      <td>Premera Blue Cross Blue Shield of Alaska</td>\n",
       "      <td>No</td>\n",
       "      <td>AKN001</td>\n",
       "      <td>Gold</td>\n",
       "      <td>$1,500</td>\n",
       "      <td>$3,000</td>\n",
       "      <td>Not Applicable</td>\n",
       "      <td>Yes</td>\n",
       "      <td>Yes</td>\n",
       "      <td>Individual</td>\n",
       "      <td>NaN</td>\n",
       "    </tr>\n",
       "    <tr>\n",
       "      <th>2</th>\n",
       "      <td>AK</td>\n",
       "      <td>38344</td>\n",
       "      <td>38344AK1060001</td>\n",
       "      <td>Premera Blue Cross Blue Shield of Alaska</td>\n",
       "      <td>No</td>\n",
       "      <td>AKN001</td>\n",
       "      <td>Gold</td>\n",
       "      <td>$1,500</td>\n",
       "      <td>$3,000</td>\n",
       "      <td>Not Applicable</td>\n",
       "      <td>Yes</td>\n",
       "      <td>Yes</td>\n",
       "      <td>Individual</td>\n",
       "      <td>NaN</td>\n",
       "    </tr>\n",
       "    <tr>\n",
       "      <th>3</th>\n",
       "      <td>AK</td>\n",
       "      <td>38344</td>\n",
       "      <td>38344AK1060001</td>\n",
       "      <td>Premera Blue Cross Blue Shield of Alaska</td>\n",
       "      <td>No</td>\n",
       "      <td>AKN001</td>\n",
       "      <td>Gold</td>\n",
       "      <td>$0</td>\n",
       "      <td>$0</td>\n",
       "      <td>$0</td>\n",
       "      <td>Yes</td>\n",
       "      <td>Yes</td>\n",
       "      <td>Individual</td>\n",
       "      <td>NaN</td>\n",
       "    </tr>\n",
       "    <tr>\n",
       "      <th>4</th>\n",
       "      <td>AK</td>\n",
       "      <td>38344</td>\n",
       "      <td>38344AK1060002</td>\n",
       "      <td>Premera Blue Cross Blue Shield of Alaska</td>\n",
       "      <td>No</td>\n",
       "      <td>AKN001</td>\n",
       "      <td>Silver</td>\n",
       "      <td>$4,500</td>\n",
       "      <td>$9,000</td>\n",
       "      <td>Not Applicable</td>\n",
       "      <td>Yes</td>\n",
       "      <td>Yes</td>\n",
       "      <td>Individual</td>\n",
       "      <td>NaN</td>\n",
       "    </tr>\n",
       "  </tbody>\n",
       "</table>\n",
       "</div>"
      ],
      "text/plain": [
       "  StateCode  IssuerId StandardComponentId  \\\n",
       "0        AK     38344      38344AK1060001   \n",
       "1        AK     38344      38344AK1060001   \n",
       "2        AK     38344      38344AK1060001   \n",
       "3        AK     38344      38344AK1060001   \n",
       "4        AK     38344      38344AK1060002   \n",
       "\n",
       "             IssuerMarketPlaceMarketingName DentalOnlyPlan NetworkId  \\\n",
       "0  Premera Blue Cross Blue Shield of Alaska             No    AKN001   \n",
       "1  Premera Blue Cross Blue Shield of Alaska             No    AKN001   \n",
       "2  Premera Blue Cross Blue Shield of Alaska             No    AKN001   \n",
       "3  Premera Blue Cross Blue Shield of Alaska             No    AKN001   \n",
       "4  Premera Blue Cross Blue Shield of Alaska             No    AKN001   \n",
       "\n",
       "  MetalLevel TEHBDedInnTier1Individual TEHBDedOutOfNetIndividual  \\\n",
       "0       Gold                   $1,500                    $3,000    \n",
       "1       Gold                   $1,500                    $3,000    \n",
       "2       Gold                   $1,500                    $3,000    \n",
       "3       Gold                       $0                        $0    \n",
       "4     Silver                   $4,500                    $9,000    \n",
       "\n",
       "  TEHBDedCombInnOonIndividual OutOfCountryCoverage OutOfServiceAreaCoverage  \\\n",
       "0              Not Applicable                  Yes                      Yes   \n",
       "1              Not Applicable                  Yes                      Yes   \n",
       "2              Not Applicable                  Yes                      Yes   \n",
       "3                         $0                   Yes                      Yes   \n",
       "4              Not Applicable                  Yes                      Yes   \n",
       "\n",
       "  MarketCoverage  County  \n",
       "0     Individual     NaN  \n",
       "1     Individual     NaN  \n",
       "2     Individual     NaN  \n",
       "3     Individual     NaN  \n",
       "4     Individual     NaN  "
      ]
     },
     "execution_count": 40,
     "metadata": {},
     "output_type": "execute_result"
    }
   ],
   "source": [
    "full_plan_df.head()"
   ]
  },
  {
   "cell_type": "code",
   "execution_count": 41,
   "id": "loving-kitty",
   "metadata": {
    "ExecuteTime": {
     "end_time": "2021-03-26T12:51:41.277869Z",
     "start_time": "2021-03-26T12:51:40.122371Z"
    },
    "scrolled": false
   },
   "outputs": [
    {
     "data": {
      "text/plain": [
       "0"
      ]
     },
     "execution_count": 41,
     "metadata": {},
     "output_type": "execute_result"
    }
   ],
   "source": [
    "full_plan_df = full_plan_df.drop_duplicates()\n",
    "full_plan_df.duplicated().sum()"
   ]
  },
  {
   "cell_type": "code",
   "execution_count": 42,
   "id": "everyday-player",
   "metadata": {
    "ExecuteTime": {
     "end_time": "2021-03-26T12:51:41.429869Z",
     "start_time": "2021-03-26T12:51:41.278371Z"
    },
    "scrolled": true
   },
   "outputs": [
    {
     "name": "stdout",
     "output_type": "stream",
     "text": [
      "StateCode\n",
      "0\n",
      "IssuerId\n",
      "0\n",
      "StandardComponentId\n",
      "0\n",
      "IssuerMarketPlaceMarketingName\n",
      "0\n",
      "DentalOnlyPlan\n",
      "0\n",
      "NetworkId\n",
      "0\n",
      "MetalLevel\n",
      "0\n",
      "TEHBDedInnTier1Individual\n",
      "0\n",
      "TEHBDedOutOfNetIndividual\n",
      "0\n",
      "TEHBDedCombInnOonIndividual\n",
      "0\n",
      "OutOfCountryCoverage\n",
      "0\n",
      "OutOfServiceAreaCoverage\n",
      "0\n",
      "MarketCoverage\n",
      "0\n",
      "County\n",
      "3429\n"
     ]
    }
   ],
   "source": [
    "for i in full_plan_df.columns:\n",
    "    print(i)\n",
    "    print(full_plan_df[i].isna().sum())"
   ]
  },
  {
   "cell_type": "code",
   "execution_count": 43,
   "id": "paperback-greenhouse",
   "metadata": {
    "ExecuteTime": {
     "end_time": "2021-03-26T12:51:41.491369Z",
     "start_time": "2021-03-26T12:51:41.430869Z"
    }
   },
   "outputs": [],
   "source": [
    "full_plan_df = full_plan_df[full_plan_df['County'].notna()]"
   ]
  },
  {
   "cell_type": "code",
   "execution_count": 44,
   "id": "previous-maldives",
   "metadata": {
    "ExecuteTime": {
     "end_time": "2021-03-26T12:51:41.494873Z",
     "start_time": "2021-03-26T12:51:41.492369Z"
    },
    "scrolled": true
   },
   "outputs": [
    {
     "data": {
      "text/plain": [
       "(496239, 14)"
      ]
     },
     "execution_count": 44,
     "metadata": {},
     "output_type": "execute_result"
    }
   ],
   "source": [
    "full_plan_df.shape"
   ]
  },
  {
   "cell_type": "code",
   "execution_count": 45,
   "id": "twelve-cheat",
   "metadata": {
    "ExecuteTime": {
     "end_time": "2021-03-26T12:51:41.500373Z",
     "start_time": "2021-03-26T12:51:41.495872Z"
    },
    "scrolled": true
   },
   "outputs": [
    {
     "data": {
      "text/plain": [
       "Index(['StateCode', 'IssuerId', 'StandardComponentId',\n",
       "       'IssuerMarketPlaceMarketingName', 'DentalOnlyPlan', 'NetworkId',\n",
       "       'MetalLevel', 'TEHBDedInnTier1Individual', 'TEHBDedOutOfNetIndividual',\n",
       "       'TEHBDedCombInnOonIndividual', 'OutOfCountryCoverage',\n",
       "       'OutOfServiceAreaCoverage', 'MarketCoverage', 'County'],\n",
       "      dtype='object')"
      ]
     },
     "execution_count": 45,
     "metadata": {},
     "output_type": "execute_result"
    }
   ],
   "source": [
    "full_plan_df.columns"
   ]
  },
  {
   "cell_type": "code",
   "execution_count": 46,
   "id": "thousand-logging",
   "metadata": {
    "ExecuteTime": {
     "end_time": "2021-03-26T12:51:41.646373Z",
     "start_time": "2021-03-26T12:51:41.501373Z"
    }
   },
   "outputs": [
    {
     "data": {
      "text/plain": [
       "StateCode                         0\n",
       "IssuerId                          0\n",
       "StandardComponentId               0\n",
       "IssuerMarketPlaceMarketingName    0\n",
       "DentalOnlyPlan                    0\n",
       "NetworkId                         0\n",
       "MetalLevel                        0\n",
       "TEHBDedInnTier1Individual         0\n",
       "TEHBDedOutOfNetIndividual         0\n",
       "TEHBDedCombInnOonIndividual       0\n",
       "OutOfCountryCoverage              0\n",
       "OutOfServiceAreaCoverage          0\n",
       "MarketCoverage                    0\n",
       "County                            0\n",
       "dtype: int64"
      ]
     },
     "execution_count": 46,
     "metadata": {},
     "output_type": "execute_result"
    }
   ],
   "source": [
    "full_plan_df.isna().sum()"
   ]
  },
  {
   "cell_type": "code",
   "execution_count": 47,
   "id": "pending-holmes",
   "metadata": {
    "ExecuteTime": {
     "end_time": "2021-03-26T12:51:41.649368Z",
     "start_time": "2021-03-26T12:51:41.646871Z"
    },
    "scrolled": false
   },
   "outputs": [],
   "source": [
    "# columns_list = full_plan_df_copy.loc[:,full_plan_df_copy.columns.str.contains('Coverage')].columns\n",
    "# columns_list"
   ]
  },
  {
   "cell_type": "code",
   "execution_count": 48,
   "id": "pharmaceutical-incidence",
   "metadata": {
    "ExecuteTime": {
     "end_time": "2021-03-26T12:51:41.653869Z",
     "start_time": "2021-03-26T12:51:41.649871Z"
    },
    "scrolled": false
   },
   "outputs": [],
   "source": [
    "# for i in columns_list:\n",
    "#     print(i)\n",
    "#     print(full_plan_df_copy[i].isna().sum())"
   ]
  },
  {
   "cell_type": "markdown",
   "id": "exact-committee",
   "metadata": {},
   "source": [
    "# Rate\n",
    "no nans <br>\n",
    "no duplicates"
   ]
  },
  {
   "cell_type": "code",
   "execution_count": 49,
   "id": "funny-competition",
   "metadata": {
    "ExecuteTime": {
     "end_time": "2021-03-26T12:51:44.291370Z",
     "start_time": "2021-03-26T12:51:41.654369Z"
    },
    "scrolled": true
   },
   "outputs": [
    {
     "data": {
      "text/html": [
       "<div>\n",
       "<style scoped>\n",
       "    .dataframe tbody tr th:only-of-type {\n",
       "        vertical-align: middle;\n",
       "    }\n",
       "\n",
       "    .dataframe tbody tr th {\n",
       "        vertical-align: top;\n",
       "    }\n",
       "\n",
       "    .dataframe thead th {\n",
       "        text-align: right;\n",
       "    }\n",
       "</style>\n",
       "<table border=\"1\" class=\"dataframe\">\n",
       "  <thead>\n",
       "    <tr style=\"text-align: right;\">\n",
       "      <th></th>\n",
       "      <th>BusinessYear</th>\n",
       "      <th>StateCode</th>\n",
       "      <th>IssuerId</th>\n",
       "      <th>SourceName</th>\n",
       "      <th>ImportDate</th>\n",
       "      <th>RateEffectiveDate</th>\n",
       "      <th>RateExpirationDate</th>\n",
       "      <th>PlanId</th>\n",
       "      <th>RatingAreaId</th>\n",
       "      <th>Tobacco</th>\n",
       "      <th>Age</th>\n",
       "      <th>IndividualRate</th>\n",
       "      <th>IndividualTobaccoRate</th>\n",
       "      <th>Couple</th>\n",
       "      <th>PrimarySubscriberAndOneDependent</th>\n",
       "      <th>PrimarySubscriberAndTwoDependents</th>\n",
       "      <th>PrimarySubscriberAndThreeOrMoreDependents</th>\n",
       "      <th>CoupleAndOneDependent</th>\n",
       "      <th>CoupleAndTwoDependents</th>\n",
       "      <th>CoupleAndThreeOrMoreDependents</th>\n",
       "    </tr>\n",
       "  </thead>\n",
       "  <tbody>\n",
       "    <tr>\n",
       "      <th>0</th>\n",
       "      <td>2021</td>\n",
       "      <td>AK</td>\n",
       "      <td>21989</td>\n",
       "      <td>HIOS</td>\n",
       "      <td>2020-07-31 03:20:18</td>\n",
       "      <td>2021-01-01</td>\n",
       "      <td>2021-03-31</td>\n",
       "      <td>21989AK0080001</td>\n",
       "      <td>Rating Area 1</td>\n",
       "      <td>NaN</td>\n",
       "      <td>Family Option</td>\n",
       "      <td>51.23</td>\n",
       "      <td>NaN</td>\n",
       "      <td>106.56</td>\n",
       "      <td>122.95</td>\n",
       "      <td>122.95</td>\n",
       "      <td>122.95</td>\n",
       "      <td>183.41</td>\n",
       "      <td>183.41</td>\n",
       "      <td>183.41</td>\n",
       "    </tr>\n",
       "    <tr>\n",
       "      <th>1</th>\n",
       "      <td>2021</td>\n",
       "      <td>AK</td>\n",
       "      <td>21989</td>\n",
       "      <td>HIOS</td>\n",
       "      <td>2020-07-31 03:20:18</td>\n",
       "      <td>2021-01-01</td>\n",
       "      <td>2021-03-31</td>\n",
       "      <td>21989AK0080001</td>\n",
       "      <td>Rating Area 2</td>\n",
       "      <td>NaN</td>\n",
       "      <td>Family Option</td>\n",
       "      <td>51.23</td>\n",
       "      <td>NaN</td>\n",
       "      <td>106.56</td>\n",
       "      <td>122.95</td>\n",
       "      <td>122.95</td>\n",
       "      <td>122.95</td>\n",
       "      <td>183.41</td>\n",
       "      <td>183.41</td>\n",
       "      <td>183.41</td>\n",
       "    </tr>\n",
       "    <tr>\n",
       "      <th>2</th>\n",
       "      <td>2021</td>\n",
       "      <td>AK</td>\n",
       "      <td>21989</td>\n",
       "      <td>HIOS</td>\n",
       "      <td>2020-07-31 03:20:18</td>\n",
       "      <td>2021-01-01</td>\n",
       "      <td>2021-03-31</td>\n",
       "      <td>21989AK0080001</td>\n",
       "      <td>Rating Area 3</td>\n",
       "      <td>NaN</td>\n",
       "      <td>Family Option</td>\n",
       "      <td>51.23</td>\n",
       "      <td>NaN</td>\n",
       "      <td>106.56</td>\n",
       "      <td>122.95</td>\n",
       "      <td>122.95</td>\n",
       "      <td>122.95</td>\n",
       "      <td>183.41</td>\n",
       "      <td>183.41</td>\n",
       "      <td>183.41</td>\n",
       "    </tr>\n",
       "    <tr>\n",
       "      <th>3</th>\n",
       "      <td>2021</td>\n",
       "      <td>AK</td>\n",
       "      <td>21989</td>\n",
       "      <td>HIOS</td>\n",
       "      <td>2020-07-31 03:20:18</td>\n",
       "      <td>2021-01-01</td>\n",
       "      <td>2021-03-31</td>\n",
       "      <td>21989AK0080002</td>\n",
       "      <td>Rating Area 1</td>\n",
       "      <td>NaN</td>\n",
       "      <td>Family Option</td>\n",
       "      <td>59.24</td>\n",
       "      <td>NaN</td>\n",
       "      <td>123.22</td>\n",
       "      <td>142.18</td>\n",
       "      <td>142.18</td>\n",
       "      <td>142.18</td>\n",
       "      <td>212.08</td>\n",
       "      <td>212.08</td>\n",
       "      <td>212.08</td>\n",
       "    </tr>\n",
       "    <tr>\n",
       "      <th>4</th>\n",
       "      <td>2021</td>\n",
       "      <td>AK</td>\n",
       "      <td>21989</td>\n",
       "      <td>HIOS</td>\n",
       "      <td>2020-07-31 03:20:18</td>\n",
       "      <td>2021-01-01</td>\n",
       "      <td>2021-03-31</td>\n",
       "      <td>21989AK0080002</td>\n",
       "      <td>Rating Area 2</td>\n",
       "      <td>NaN</td>\n",
       "      <td>Family Option</td>\n",
       "      <td>59.24</td>\n",
       "      <td>NaN</td>\n",
       "      <td>123.22</td>\n",
       "      <td>142.18</td>\n",
       "      <td>142.18</td>\n",
       "      <td>142.18</td>\n",
       "      <td>212.08</td>\n",
       "      <td>212.08</td>\n",
       "      <td>212.08</td>\n",
       "    </tr>\n",
       "  </tbody>\n",
       "</table>\n",
       "</div>"
      ],
      "text/plain": [
       "   BusinessYear StateCode  IssuerId SourceName           ImportDate  \\\n",
       "0          2021        AK     21989       HIOS  2020-07-31 03:20:18   \n",
       "1          2021        AK     21989       HIOS  2020-07-31 03:20:18   \n",
       "2          2021        AK     21989       HIOS  2020-07-31 03:20:18   \n",
       "3          2021        AK     21989       HIOS  2020-07-31 03:20:18   \n",
       "4          2021        AK     21989       HIOS  2020-07-31 03:20:18   \n",
       "\n",
       "  RateEffectiveDate RateExpirationDate          PlanId   RatingAreaId Tobacco  \\\n",
       "0        2021-01-01         2021-03-31  21989AK0080001  Rating Area 1     NaN   \n",
       "1        2021-01-01         2021-03-31  21989AK0080001  Rating Area 2     NaN   \n",
       "2        2021-01-01         2021-03-31  21989AK0080001  Rating Area 3     NaN   \n",
       "3        2021-01-01         2021-03-31  21989AK0080002  Rating Area 1     NaN   \n",
       "4        2021-01-01         2021-03-31  21989AK0080002  Rating Area 2     NaN   \n",
       "\n",
       "             Age  IndividualRate  IndividualTobaccoRate  Couple  \\\n",
       "0  Family Option           51.23                    NaN  106.56   \n",
       "1  Family Option           51.23                    NaN  106.56   \n",
       "2  Family Option           51.23                    NaN  106.56   \n",
       "3  Family Option           59.24                    NaN  123.22   \n",
       "4  Family Option           59.24                    NaN  123.22   \n",
       "\n",
       "   PrimarySubscriberAndOneDependent  PrimarySubscriberAndTwoDependents  \\\n",
       "0                            122.95                             122.95   \n",
       "1                            122.95                             122.95   \n",
       "2                            122.95                             122.95   \n",
       "3                            142.18                             142.18   \n",
       "4                            142.18                             142.18   \n",
       "\n",
       "   PrimarySubscriberAndThreeOrMoreDependents  CoupleAndOneDependent  \\\n",
       "0                                     122.95                 183.41   \n",
       "1                                     122.95                 183.41   \n",
       "2                                     122.95                 183.41   \n",
       "3                                     142.18                 212.08   \n",
       "4                                     142.18                 212.08   \n",
       "\n",
       "   CoupleAndTwoDependents  CoupleAndThreeOrMoreDependents  \n",
       "0                  183.41                          183.41  \n",
       "1                  183.41                          183.41  \n",
       "2                  183.41                          183.41  \n",
       "3                  212.08                          212.08  \n",
       "4                  212.08                          212.08  "
      ]
     },
     "execution_count": 49,
     "metadata": {},
     "output_type": "execute_result"
    }
   ],
   "source": [
    "rate_df = pd.read_csv('newdata/2021 exchange PUF/Rate_PUF.csv')\n",
    "rate_df.head()"
   ]
  },
  {
   "cell_type": "code",
   "execution_count": 50,
   "id": "ranking-range",
   "metadata": {
    "ExecuteTime": {
     "end_time": "2021-03-26T12:51:46.024869Z",
     "start_time": "2021-03-26T12:51:44.292371Z"
    }
   },
   "outputs": [],
   "source": [
    "rate_df['Age'] = rate_df[rate_df['Age'] != 'Family Option']"
   ]
  },
  {
   "cell_type": "code",
   "execution_count": 51,
   "id": "detailed-schedule",
   "metadata": {
    "ExecuteTime": {
     "end_time": "2021-03-26T12:51:47.816872Z",
     "start_time": "2021-03-26T12:51:46.025869Z"
    }
   },
   "outputs": [
    {
     "data": {
      "text/plain": [
       "861345"
      ]
     },
     "execution_count": 51,
     "metadata": {},
     "output_type": "execute_result"
    }
   ],
   "source": [
    "rate_df.duplicated().sum()"
   ]
  },
  {
   "cell_type": "code",
   "execution_count": 52,
   "id": "committed-thriller",
   "metadata": {
    "ExecuteTime": {
     "end_time": "2021-03-26T12:51:49.799869Z",
     "start_time": "2021-03-26T12:51:47.817873Z"
    },
    "scrolled": true
   },
   "outputs": [],
   "source": [
    "rate_df = rate_df.drop_duplicates()"
   ]
  },
  {
   "cell_type": "code",
   "execution_count": 53,
   "id": "female-transsexual",
   "metadata": {
    "ExecuteTime": {
     "end_time": "2021-03-26T12:51:50.101869Z",
     "start_time": "2021-03-26T12:51:49.800871Z"
    },
    "scrolled": true
   },
   "outputs": [
    {
     "data": {
      "text/plain": [
       "BusinessYear                                       0\n",
       "StateCode                                          0\n",
       "IssuerId                                           0\n",
       "SourceName                                         0\n",
       "ImportDate                                         0\n",
       "RateEffectiveDate                                  0\n",
       "RateExpirationDate                                 0\n",
       "PlanId                                             0\n",
       "RatingAreaId                                       0\n",
       "Tobacco                                         1182\n",
       "Age                                             1182\n",
       "IndividualRate                                     0\n",
       "IndividualTobaccoRate                         475913\n",
       "Couple                                       1276728\n",
       "PrimarySubscriberAndOneDependent             1276728\n",
       "PrimarySubscriberAndTwoDependents            1276728\n",
       "PrimarySubscriberAndThreeOrMoreDependents    1276728\n",
       "CoupleAndOneDependent                        1276728\n",
       "CoupleAndTwoDependents                       1276728\n",
       "CoupleAndThreeOrMoreDependents               1276728\n",
       "dtype: int64"
      ]
     },
     "execution_count": 53,
     "metadata": {},
     "output_type": "execute_result"
    }
   ],
   "source": [
    "rate_df.isna().sum()"
   ]
  },
  {
   "cell_type": "code",
   "execution_count": 54,
   "id": "dental-picnic",
   "metadata": {
    "ExecuteTime": {
     "end_time": "2021-03-26T12:51:50.114869Z",
     "start_time": "2021-03-26T12:51:50.102373Z"
    }
   },
   "outputs": [],
   "source": [
    "rate_df2 = rate_df[['PlanId', 'IndividualRate']]"
   ]
  },
  {
   "cell_type": "code",
   "execution_count": 55,
   "id": "smooth-malaysia",
   "metadata": {
    "ExecuteTime": {
     "end_time": "2021-03-26T12:51:50.205874Z",
     "start_time": "2021-03-26T12:51:50.115870Z"
    },
    "scrolled": true
   },
   "outputs": [
    {
     "data": {
      "text/html": [
       "<div>\n",
       "<style scoped>\n",
       "    .dataframe tbody tr th:only-of-type {\n",
       "        vertical-align: middle;\n",
       "    }\n",
       "\n",
       "    .dataframe tbody tr th {\n",
       "        vertical-align: top;\n",
       "    }\n",
       "\n",
       "    .dataframe thead th {\n",
       "        text-align: right;\n",
       "    }\n",
       "</style>\n",
       "<table border=\"1\" class=\"dataframe\">\n",
       "  <thead>\n",
       "    <tr style=\"text-align: right;\">\n",
       "      <th></th>\n",
       "      <th>PlanId</th>\n",
       "      <th>IndividualRate</th>\n",
       "    </tr>\n",
       "  </thead>\n",
       "  <tbody>\n",
       "    <tr>\n",
       "      <th>0</th>\n",
       "      <td>21989AK0080001</td>\n",
       "      <td>51.23</td>\n",
       "    </tr>\n",
       "    <tr>\n",
       "      <th>1</th>\n",
       "      <td>21989AK0080001</td>\n",
       "      <td>51.23</td>\n",
       "    </tr>\n",
       "  </tbody>\n",
       "</table>\n",
       "</div>"
      ],
      "text/plain": [
       "           PlanId  IndividualRate\n",
       "0  21989AK0080001           51.23\n",
       "1  21989AK0080001           51.23"
      ]
     },
     "execution_count": 55,
     "metadata": {},
     "output_type": "execute_result"
    }
   ],
   "source": [
    "rate_df2 = rate_df2.dropna()\n",
    "rate_df2.head(2)"
   ]
  },
  {
   "cell_type": "code",
   "execution_count": 56,
   "id": "integral-benefit",
   "metadata": {
    "ExecuteTime": {
     "end_time": "2021-03-26T12:51:50.209873Z",
     "start_time": "2021-03-26T12:51:50.207371Z"
    }
   },
   "outputs": [
    {
     "data": {
      "text/plain": [
       "(1277910, 2)"
      ]
     },
     "execution_count": 56,
     "metadata": {},
     "output_type": "execute_result"
    }
   ],
   "source": [
    "rate_df2.shape"
   ]
  },
  {
   "cell_type": "code",
   "execution_count": 57,
   "id": "purple-burner",
   "metadata": {
    "ExecuteTime": {
     "end_time": "2021-03-26T12:51:50.300371Z",
     "start_time": "2021-03-26T12:51:50.210873Z"
    }
   },
   "outputs": [],
   "source": [
    "rate_df2 = rate_df2.groupby('PlanId').mean()"
   ]
  },
  {
   "cell_type": "code",
   "execution_count": 58,
   "id": "individual-chess",
   "metadata": {
    "ExecuteTime": {
     "end_time": "2021-03-26T12:51:50.307871Z",
     "start_time": "2021-03-26T12:51:50.301369Z"
    }
   },
   "outputs": [
    {
     "data": {
      "text/html": [
       "<div>\n",
       "<style scoped>\n",
       "    .dataframe tbody tr th:only-of-type {\n",
       "        vertical-align: middle;\n",
       "    }\n",
       "\n",
       "    .dataframe tbody tr th {\n",
       "        vertical-align: top;\n",
       "    }\n",
       "\n",
       "    .dataframe thead th {\n",
       "        text-align: right;\n",
       "    }\n",
       "</style>\n",
       "<table border=\"1\" class=\"dataframe\">\n",
       "  <thead>\n",
       "    <tr style=\"text-align: right;\">\n",
       "      <th></th>\n",
       "      <th>IndividualRate</th>\n",
       "    </tr>\n",
       "    <tr>\n",
       "      <th>PlanId</th>\n",
       "      <th></th>\n",
       "    </tr>\n",
       "  </thead>\n",
       "  <tbody>\n",
       "    <tr>\n",
       "      <th>10046HI0020003</th>\n",
       "      <td>44.366000</td>\n",
       "    </tr>\n",
       "    <tr>\n",
       "      <th>10046HI0020004</th>\n",
       "      <td>39.530000</td>\n",
       "    </tr>\n",
       "    <tr>\n",
       "      <th>10046HI0020005</th>\n",
       "      <td>35.716000</td>\n",
       "    </tr>\n",
       "    <tr>\n",
       "      <th>10046HI0020006</th>\n",
       "      <td>29.344000</td>\n",
       "    </tr>\n",
       "    <tr>\n",
       "      <th>10091OR0680001</th>\n",
       "      <td>338.785714</td>\n",
       "    </tr>\n",
       "    <tr>\n",
       "      <th>...</th>\n",
       "      <td>...</td>\n",
       "    </tr>\n",
       "    <tr>\n",
       "      <th>99969OH0080239</th>\n",
       "      <td>484.021667</td>\n",
       "    </tr>\n",
       "    <tr>\n",
       "      <th>99969OH0080240</th>\n",
       "      <td>451.692696</td>\n",
       "    </tr>\n",
       "    <tr>\n",
       "      <th>99969OH0080241</th>\n",
       "      <td>434.390637</td>\n",
       "    </tr>\n",
       "    <tr>\n",
       "      <th>99969OH0080242</th>\n",
       "      <td>503.600686</td>\n",
       "    </tr>\n",
       "    <tr>\n",
       "      <th>99969OH0080243</th>\n",
       "      <td>272.290931</td>\n",
       "    </tr>\n",
       "  </tbody>\n",
       "</table>\n",
       "<p>4997 rows × 1 columns</p>\n",
       "</div>"
      ],
      "text/plain": [
       "                IndividualRate\n",
       "PlanId                        \n",
       "10046HI0020003       44.366000\n",
       "10046HI0020004       39.530000\n",
       "10046HI0020005       35.716000\n",
       "10046HI0020006       29.344000\n",
       "10091OR0680001      338.785714\n",
       "...                        ...\n",
       "99969OH0080239      484.021667\n",
       "99969OH0080240      451.692696\n",
       "99969OH0080241      434.390637\n",
       "99969OH0080242      503.600686\n",
       "99969OH0080243      272.290931\n",
       "\n",
       "[4997 rows x 1 columns]"
      ]
     },
     "execution_count": 58,
     "metadata": {},
     "output_type": "execute_result"
    }
   ],
   "source": [
    "rate_df2.shape\n",
    "rate_df2"
   ]
  },
  {
   "cell_type": "code",
   "execution_count": 59,
   "id": "secondary-rates",
   "metadata": {
    "ExecuteTime": {
     "end_time": "2021-03-26T12:51:50.311873Z",
     "start_time": "2021-03-26T12:51:50.308872Z"
    },
    "scrolled": true
   },
   "outputs": [
    {
     "name": "stdout",
     "output_type": "stream",
     "text": [
      "(496239, 14)\n",
      "(4997, 1)\n"
     ]
    }
   ],
   "source": [
    "print(full_plan_df.shape)\n",
    "print(rate_df2.shape)"
   ]
  },
  {
   "cell_type": "code",
   "execution_count": 60,
   "id": "welsh-implement",
   "metadata": {
    "ExecuteTime": {
     "end_time": "2021-03-26T12:51:50.348871Z",
     "start_time": "2021-03-26T12:51:50.312371Z"
    },
    "scrolled": true
   },
   "outputs": [
    {
     "data": {
      "text/plain": [
       "Index(['StateCode', 'IssuerId', 'PlanId', 'IssuerMarketPlaceMarketingName',\n",
       "       'DentalOnlyPlan', 'NetworkId', 'MetalLevel',\n",
       "       'TEHBDedInnTier1Individual', 'TEHBDedOutOfNetIndividual',\n",
       "       'TEHBDedCombInnOonIndividual', 'OutOfCountryCoverage',\n",
       "       'OutOfServiceAreaCoverage', 'MarketCoverage', 'County'],\n",
       "      dtype='object')"
      ]
     },
     "execution_count": 60,
     "metadata": {},
     "output_type": "execute_result"
    }
   ],
   "source": [
    "full_plan_df = full_plan_df.rename(columns={'StandardComponentId': 'PlanId'})\n",
    "full_plan_df.columns"
   ]
  },
  {
   "cell_type": "code",
   "execution_count": 61,
   "id": "textile-choir",
   "metadata": {
    "ExecuteTime": {
     "end_time": "2021-03-26T12:51:50.352869Z",
     "start_time": "2021-03-26T12:51:50.349370Z"
    }
   },
   "outputs": [
    {
     "name": "stdout",
     "output_type": "stream",
     "text": [
      "(496239, 14)\n",
      "(4997, 1)\n"
     ]
    }
   ],
   "source": [
    "print(full_plan_df.shape)\n",
    "print(rate_df2.shape)"
   ]
  },
  {
   "cell_type": "code",
   "execution_count": 62,
   "id": "compound-artwork",
   "metadata": {
    "ExecuteTime": {
     "end_time": "2021-03-26T12:51:50.374370Z",
     "start_time": "2021-03-26T12:51:50.353870Z"
    }
   },
   "outputs": [
    {
     "data": {
      "text/html": [
       "<div>\n",
       "<style scoped>\n",
       "    .dataframe tbody tr th:only-of-type {\n",
       "        vertical-align: middle;\n",
       "    }\n",
       "\n",
       "    .dataframe tbody tr th {\n",
       "        vertical-align: top;\n",
       "    }\n",
       "\n",
       "    .dataframe thead th {\n",
       "        text-align: right;\n",
       "    }\n",
       "</style>\n",
       "<table border=\"1\" class=\"dataframe\">\n",
       "  <thead>\n",
       "    <tr style=\"text-align: right;\">\n",
       "      <th></th>\n",
       "      <th>StateCode</th>\n",
       "      <th>IssuerId</th>\n",
       "      <th>PlanId</th>\n",
       "      <th>IssuerMarketPlaceMarketingName</th>\n",
       "      <th>DentalOnlyPlan</th>\n",
       "      <th>NetworkId</th>\n",
       "      <th>MetalLevel</th>\n",
       "      <th>TEHBDedInnTier1Individual</th>\n",
       "      <th>TEHBDedOutOfNetIndividual</th>\n",
       "      <th>TEHBDedCombInnOonIndividual</th>\n",
       "      <th>OutOfCountryCoverage</th>\n",
       "      <th>OutOfServiceAreaCoverage</th>\n",
       "      <th>MarketCoverage</th>\n",
       "      <th>County</th>\n",
       "    </tr>\n",
       "  </thead>\n",
       "  <tbody>\n",
       "    <tr>\n",
       "      <th>24</th>\n",
       "      <td>AK</td>\n",
       "      <td>77963</td>\n",
       "      <td>77963AK0010001</td>\n",
       "      <td>Moda Health</td>\n",
       "      <td>No</td>\n",
       "      <td>AKN001</td>\n",
       "      <td>Gold</td>\n",
       "      <td>$1,500</td>\n",
       "      <td>$9,000</td>\n",
       "      <td>Not Applicable</td>\n",
       "      <td>No</td>\n",
       "      <td>Yes</td>\n",
       "      <td>Individual</td>\n",
       "      <td>2020.0</td>\n",
       "    </tr>\n",
       "    <tr>\n",
       "      <th>25</th>\n",
       "      <td>AK</td>\n",
       "      <td>77963</td>\n",
       "      <td>77963AK0010001</td>\n",
       "      <td>Moda Health</td>\n",
       "      <td>No</td>\n",
       "      <td>AKN001</td>\n",
       "      <td>Gold</td>\n",
       "      <td>$1,500</td>\n",
       "      <td>$9,000</td>\n",
       "      <td>Not Applicable</td>\n",
       "      <td>No</td>\n",
       "      <td>Yes</td>\n",
       "      <td>Individual</td>\n",
       "      <td>2090.0</td>\n",
       "    </tr>\n",
       "  </tbody>\n",
       "</table>\n",
       "</div>"
      ],
      "text/plain": [
       "   StateCode  IssuerId          PlanId IssuerMarketPlaceMarketingName  \\\n",
       "24        AK     77963  77963AK0010001                    Moda Health   \n",
       "25        AK     77963  77963AK0010001                    Moda Health   \n",
       "\n",
       "   DentalOnlyPlan NetworkId MetalLevel TEHBDedInnTier1Individual  \\\n",
       "24             No    AKN001       Gold                   $1,500    \n",
       "25             No    AKN001       Gold                   $1,500    \n",
       "\n",
       "   TEHBDedOutOfNetIndividual TEHBDedCombInnOonIndividual OutOfCountryCoverage  \\\n",
       "24                   $9,000               Not Applicable                   No   \n",
       "25                   $9,000               Not Applicable                   No   \n",
       "\n",
       "   OutOfServiceAreaCoverage MarketCoverage  County  \n",
       "24                      Yes     Individual  2020.0  \n",
       "25                      Yes     Individual  2090.0  "
      ]
     },
     "metadata": {},
     "output_type": "display_data"
    },
    {
     "data": {
      "text/html": [
       "<div>\n",
       "<style scoped>\n",
       "    .dataframe tbody tr th:only-of-type {\n",
       "        vertical-align: middle;\n",
       "    }\n",
       "\n",
       "    .dataframe tbody tr th {\n",
       "        vertical-align: top;\n",
       "    }\n",
       "\n",
       "    .dataframe thead th {\n",
       "        text-align: right;\n",
       "    }\n",
       "</style>\n",
       "<table border=\"1\" class=\"dataframe\">\n",
       "  <thead>\n",
       "    <tr style=\"text-align: right;\">\n",
       "      <th></th>\n",
       "      <th>BusinessYear</th>\n",
       "      <th>StateCode</th>\n",
       "      <th>IssuerId</th>\n",
       "      <th>SourceName</th>\n",
       "      <th>ImportDate</th>\n",
       "      <th>RateEffectiveDate</th>\n",
       "      <th>RateExpirationDate</th>\n",
       "      <th>PlanId</th>\n",
       "      <th>RatingAreaId</th>\n",
       "      <th>Tobacco</th>\n",
       "      <th>Age</th>\n",
       "      <th>IndividualRate</th>\n",
       "      <th>IndividualTobaccoRate</th>\n",
       "      <th>Couple</th>\n",
       "      <th>PrimarySubscriberAndOneDependent</th>\n",
       "      <th>PrimarySubscriberAndTwoDependents</th>\n",
       "      <th>PrimarySubscriberAndThreeOrMoreDependents</th>\n",
       "      <th>CoupleAndOneDependent</th>\n",
       "      <th>CoupleAndTwoDependents</th>\n",
       "      <th>CoupleAndThreeOrMoreDependents</th>\n",
       "    </tr>\n",
       "  </thead>\n",
       "  <tbody>\n",
       "    <tr>\n",
       "      <th>0</th>\n",
       "      <td>2021</td>\n",
       "      <td>AK</td>\n",
       "      <td>21989</td>\n",
       "      <td>HIOS</td>\n",
       "      <td>2020-07-31 03:20:18</td>\n",
       "      <td>2021-01-01</td>\n",
       "      <td>2021-03-31</td>\n",
       "      <td>21989AK0080001</td>\n",
       "      <td>Rating Area 1</td>\n",
       "      <td>NaN</td>\n",
       "      <td>NaN</td>\n",
       "      <td>51.23</td>\n",
       "      <td>NaN</td>\n",
       "      <td>106.56</td>\n",
       "      <td>122.95</td>\n",
       "      <td>122.95</td>\n",
       "      <td>122.95</td>\n",
       "      <td>183.41</td>\n",
       "      <td>183.41</td>\n",
       "      <td>183.41</td>\n",
       "    </tr>\n",
       "    <tr>\n",
       "      <th>1</th>\n",
       "      <td>2021</td>\n",
       "      <td>AK</td>\n",
       "      <td>21989</td>\n",
       "      <td>HIOS</td>\n",
       "      <td>2020-07-31 03:20:18</td>\n",
       "      <td>2021-01-01</td>\n",
       "      <td>2021-03-31</td>\n",
       "      <td>21989AK0080001</td>\n",
       "      <td>Rating Area 2</td>\n",
       "      <td>NaN</td>\n",
       "      <td>NaN</td>\n",
       "      <td>51.23</td>\n",
       "      <td>NaN</td>\n",
       "      <td>106.56</td>\n",
       "      <td>122.95</td>\n",
       "      <td>122.95</td>\n",
       "      <td>122.95</td>\n",
       "      <td>183.41</td>\n",
       "      <td>183.41</td>\n",
       "      <td>183.41</td>\n",
       "    </tr>\n",
       "  </tbody>\n",
       "</table>\n",
       "</div>"
      ],
      "text/plain": [
       "   BusinessYear StateCode  IssuerId SourceName           ImportDate  \\\n",
       "0          2021        AK     21989       HIOS  2020-07-31 03:20:18   \n",
       "1          2021        AK     21989       HIOS  2020-07-31 03:20:18   \n",
       "\n",
       "  RateEffectiveDate RateExpirationDate          PlanId   RatingAreaId Tobacco  \\\n",
       "0        2021-01-01         2021-03-31  21989AK0080001  Rating Area 1     NaN   \n",
       "1        2021-01-01         2021-03-31  21989AK0080001  Rating Area 2     NaN   \n",
       "\n",
       "   Age  IndividualRate  IndividualTobaccoRate  Couple  \\\n",
       "0  NaN           51.23                    NaN  106.56   \n",
       "1  NaN           51.23                    NaN  106.56   \n",
       "\n",
       "   PrimarySubscriberAndOneDependent  PrimarySubscriberAndTwoDependents  \\\n",
       "0                            122.95                             122.95   \n",
       "1                            122.95                             122.95   \n",
       "\n",
       "   PrimarySubscriberAndThreeOrMoreDependents  CoupleAndOneDependent  \\\n",
       "0                                     122.95                 183.41   \n",
       "1                                     122.95                 183.41   \n",
       "\n",
       "   CoupleAndTwoDependents  CoupleAndThreeOrMoreDependents  \n",
       "0                  183.41                          183.41  \n",
       "1                  183.41                          183.41  "
      ]
     },
     "metadata": {},
     "output_type": "display_data"
    }
   ],
   "source": [
    "display(full_plan_df.head(2))\n",
    "display(rate_df.head(2))"
   ]
  },
  {
   "cell_type": "code",
   "execution_count": 63,
   "id": "incredible-credits",
   "metadata": {
    "ExecuteTime": {
     "end_time": "2021-03-26T12:51:50.379370Z",
     "start_time": "2021-03-26T12:51:50.374870Z"
    },
    "scrolled": false
   },
   "outputs": [
    {
     "data": {
      "text/plain": [
       "StateCode                          object\n",
       "IssuerId                            int64\n",
       "PlanId                             object\n",
       "IssuerMarketPlaceMarketingName     object\n",
       "DentalOnlyPlan                     object\n",
       "NetworkId                          object\n",
       "MetalLevel                         object\n",
       "TEHBDedInnTier1Individual          object\n",
       "TEHBDedOutOfNetIndividual          object\n",
       "TEHBDedCombInnOonIndividual        object\n",
       "OutOfCountryCoverage               object\n",
       "OutOfServiceAreaCoverage           object\n",
       "MarketCoverage                     object\n",
       "County                            float64\n",
       "dtype: object"
      ]
     },
     "execution_count": 63,
     "metadata": {},
     "output_type": "execute_result"
    }
   ],
   "source": [
    "full_plan_df.dtypes"
   ]
  },
  {
   "cell_type": "code",
   "execution_count": 64,
   "id": "hispanic-trust",
   "metadata": {
    "ExecuteTime": {
     "end_time": "2021-03-26T12:51:50.403370Z",
     "start_time": "2021-03-26T12:51:50.379870Z"
    }
   },
   "outputs": [],
   "source": [
    "plan_df = full_plan_df.copy()"
   ]
  },
  {
   "cell_type": "code",
   "execution_count": 65,
   "id": "advisory-yugoslavia",
   "metadata": {
    "ExecuteTime": {
     "end_time": "2021-03-26T12:51:50.430870Z",
     "start_time": "2021-03-26T12:51:50.404370Z"
    },
    "scrolled": true
   },
   "outputs": [
    {
     "data": {
      "text/plain": [
       "array(['Not Applicable', '$0 ', '$2,925 ', '$6,100 ', '$2,150 ',\n",
       "       '$7,450 ', '$725 ', '$5,975 ', '$5,200 ', '$3,450 ', '$8,000 ',\n",
       "       '$7,700 ', '$2,000 ', '$6,000 ', '$450 ', '$1,300 ', '$5,700 ',\n",
       "       '$5,800 ', '$5,500 ', '$1,200 ', '$400 ', '$350 ', '$4,950 ',\n",
       "       '$5,100 ', '$900 ', '$5,400 ', '$22,300 ', '$27,000 ', '$20,150 ',\n",
       "       '$25,000 ', '$21,000 ', '$28,550 ', '$26,950 ', '$20,000 ',\n",
       "       '$18,000 ', '$19,500 ', '$20,700 ', '$9,000 ', '$3,000 ',\n",
       "       '$24,000 ', '$8,550 ', '$11,000 ', '$8,950 ', '$11,200 ',\n",
       "       '$8,600 ', '$11,600 ', '$14,000 ', '$10,700 ', '$26,000 ',\n",
       "       '$13,600 ', '$18,200 ', '$10,300 ', '$12,200 ', '$10,800 ',\n",
       "       '$9,250 ', '$11,400 ', '$8,900 ', '$4,600 ', '$4,300 ', '$550 ',\n",
       "       '$125 ', '$8,200 ', '$5,650 ', '$3,150 ', '$1,325 ', '$575 ',\n",
       "       '$325 ', '$6,500 ', '$6,900 ', '$2,625 ', '$500 ', '$7,350 ',\n",
       "       '$5,350 ', '$1,950 ', '$675 ', '$2,700 ', '$850 ', '$200 ',\n",
       "       '$1,000 ', '$7,800 ', '$5,000 ', '$1,700 ', '$300 ', '$3,500 ',\n",
       "       '$1,250 ', '$150 ', '$2,800 ', '$1,750 ', '$4,750 ', '$7,000 ',\n",
       "       '$5,600 ', '$9,500 ', '$13,800 ', '$12,000 ', '$17,100 ',\n",
       "       '$1,800 ', '$6,850 ', '$225 ', '$750 ', '$2,900 ', '$2,500 ',\n",
       "       '$6,800 ', '$2,300 ', '$4,250 ', '$4,000 ', '$4,500 ', '$950 ',\n",
       "       '$7,500 ', '$6,200 ', '$10,500 ', '$15,000 ', '$25,650 ',\n",
       "       '$5,900 '], dtype=object)"
      ]
     },
     "execution_count": 65,
     "metadata": {},
     "output_type": "execute_result"
    }
   ],
   "source": [
    "plan_df['TEHBDedCombInnOonIndividual'].unique()"
   ]
  },
  {
   "cell_type": "code",
   "execution_count": 66,
   "id": "italic-television",
   "metadata": {
    "ExecuteTime": {
     "end_time": "2021-03-26T12:51:51.577870Z",
     "start_time": "2021-03-26T12:51:50.431370Z"
    },
    "scrolled": false
   },
   "outputs": [
    {
     "name": "stderr",
     "output_type": "stream",
     "text": [
      "<ipython-input-66-a2be31bafcc5>:1: FutureWarning: The default value of regex will change from True to False in a future version. In addition, single character regular expressions will*not* be treated as literal strings when regex=True.\n",
      "  plan_df[['TEHBDedInnTier1Individual', 'TEHBDedOutOfNetIndividual', 'TEHBDedCombInnOonIndividual']] = plan_df[['TEHBDedInnTier1Individual', 'TEHBDedOutOfNetIndividual', 'TEHBDedCombInnOonIndividual']].apply(lambda x: x.str.replace('$','').str.replace(',', '').str.replace(' ',''))\n"
     ]
    }
   ],
   "source": [
    "plan_df[['TEHBDedInnTier1Individual', 'TEHBDedOutOfNetIndividual', 'TEHBDedCombInnOonIndividual']] = plan_df[['TEHBDedInnTier1Individual', 'TEHBDedOutOfNetIndividual', 'TEHBDedCombInnOonIndividual']].apply(lambda x: x.str.replace('$','').str.replace(',', '').str.replace(' ',''))"
   ]
  },
  {
   "cell_type": "code",
   "execution_count": 67,
   "id": "automatic-certification",
   "metadata": {
    "ExecuteTime": {
     "end_time": "2021-03-26T12:51:51.678869Z",
     "start_time": "2021-03-26T12:51:51.578872Z"
    }
   },
   "outputs": [],
   "source": [
    "plan_df = plan_df[plan_df.TEHBDedOutOfNetIndividual != 'NotApplicable']\n",
    "plan_df = plan_df[plan_df.TEHBDedCombInnOonIndividual != 'NotApplicable']"
   ]
  },
  {
   "cell_type": "code",
   "execution_count": 68,
   "id": "simple-guard",
   "metadata": {
    "ExecuteTime": {
     "end_time": "2021-03-26T12:51:51.761369Z",
     "start_time": "2021-03-26T12:51:51.712370Z"
    }
   },
   "outputs": [],
   "source": [
    "plan_df['TEHBDedInnTier1Individual'] = plan_df['TEHBDedInnTier1Individual'].astype(int)\n",
    "plan_df['TEHBDedOutOfNetIndividual'] = plan_df['TEHBDedOutOfNetIndividual'].astype(int)\n",
    "plan_df['TEHBDedCombInnOonIndividual'] = plan_df['TEHBDedCombInnOonIndividual'].astype(int)"
   ]
  },
  {
   "cell_type": "code",
   "execution_count": 69,
   "id": "otherwise-cancellation",
   "metadata": {
    "ExecuteTime": {
     "end_time": "2021-03-26T12:51:51.792869Z",
     "start_time": "2021-03-26T12:51:51.763872Z"
    },
    "scrolled": true
   },
   "outputs": [
    {
     "name": "stdout",
     "output_type": "stream",
     "text": [
      "<class 'pandas.core.frame.DataFrame'>\n",
      "Int64Index: 88482 entries, 36 to 1012847\n",
      "Data columns (total 14 columns):\n",
      " #   Column                          Non-Null Count  Dtype  \n",
      "---  ------                          --------------  -----  \n",
      " 0   StateCode                       88482 non-null  object \n",
      " 1   IssuerId                        88482 non-null  int64  \n",
      " 2   PlanId                          88482 non-null  object \n",
      " 3   IssuerMarketPlaceMarketingName  88482 non-null  object \n",
      " 4   DentalOnlyPlan                  88482 non-null  object \n",
      " 5   NetworkId                       88482 non-null  object \n",
      " 6   MetalLevel                      88482 non-null  object \n",
      " 7   TEHBDedInnTier1Individual       88482 non-null  int32  \n",
      " 8   TEHBDedOutOfNetIndividual       88482 non-null  int32  \n",
      " 9   TEHBDedCombInnOonIndividual     88482 non-null  int32  \n",
      " 10  OutOfCountryCoverage            88482 non-null  object \n",
      " 11  OutOfServiceAreaCoverage        88482 non-null  object \n",
      " 12  MarketCoverage                  88482 non-null  object \n",
      " 13  County                          88482 non-null  float64\n",
      "dtypes: float64(1), int32(3), int64(1), object(9)\n",
      "memory usage: 9.1+ MB\n"
     ]
    }
   ],
   "source": [
    "plan_df.info()"
   ]
  },
  {
   "cell_type": "code",
   "execution_count": 70,
   "id": "ceramic-pennsylvania",
   "metadata": {
    "ExecuteTime": {
     "end_time": "2021-03-26T12:51:51.801869Z",
     "start_time": "2021-03-26T12:51:51.793872Z"
    },
    "scrolled": true
   },
   "outputs": [
    {
     "data": {
      "text/html": [
       "<div>\n",
       "<style scoped>\n",
       "    .dataframe tbody tr th:only-of-type {\n",
       "        vertical-align: middle;\n",
       "    }\n",
       "\n",
       "    .dataframe tbody tr th {\n",
       "        vertical-align: top;\n",
       "    }\n",
       "\n",
       "    .dataframe thead th {\n",
       "        text-align: right;\n",
       "    }\n",
       "</style>\n",
       "<table border=\"1\" class=\"dataframe\">\n",
       "  <thead>\n",
       "    <tr style=\"text-align: right;\">\n",
       "      <th></th>\n",
       "      <th>StateCode</th>\n",
       "      <th>IssuerId</th>\n",
       "      <th>PlanId</th>\n",
       "      <th>IssuerMarketPlaceMarketingName</th>\n",
       "      <th>DentalOnlyPlan</th>\n",
       "      <th>NetworkId</th>\n",
       "      <th>MetalLevel</th>\n",
       "      <th>TEHBDedInnTier1Individual</th>\n",
       "      <th>TEHBDedOutOfNetIndividual</th>\n",
       "      <th>TEHBDedCombInnOonIndividual</th>\n",
       "      <th>OutOfCountryCoverage</th>\n",
       "      <th>OutOfServiceAreaCoverage</th>\n",
       "      <th>MarketCoverage</th>\n",
       "      <th>County</th>\n",
       "    </tr>\n",
       "  </thead>\n",
       "  <tbody>\n",
       "    <tr>\n",
       "      <th>36</th>\n",
       "      <td>AK</td>\n",
       "      <td>77963</td>\n",
       "      <td>77963AK0010001</td>\n",
       "      <td>Moda Health</td>\n",
       "      <td>No</td>\n",
       "      <td>AKN001</td>\n",
       "      <td>Gold</td>\n",
       "      <td>0</td>\n",
       "      <td>0</td>\n",
       "      <td>0</td>\n",
       "      <td>No</td>\n",
       "      <td>Yes</td>\n",
       "      <td>Individual</td>\n",
       "      <td>2020.0</td>\n",
       "    </tr>\n",
       "    <tr>\n",
       "      <th>37</th>\n",
       "      <td>AK</td>\n",
       "      <td>77963</td>\n",
       "      <td>77963AK0010001</td>\n",
       "      <td>Moda Health</td>\n",
       "      <td>No</td>\n",
       "      <td>AKN001</td>\n",
       "      <td>Gold</td>\n",
       "      <td>0</td>\n",
       "      <td>0</td>\n",
       "      <td>0</td>\n",
       "      <td>No</td>\n",
       "      <td>Yes</td>\n",
       "      <td>Individual</td>\n",
       "      <td>2090.0</td>\n",
       "    </tr>\n",
       "  </tbody>\n",
       "</table>\n",
       "</div>"
      ],
      "text/plain": [
       "   StateCode  IssuerId          PlanId IssuerMarketPlaceMarketingName  \\\n",
       "36        AK     77963  77963AK0010001                    Moda Health   \n",
       "37        AK     77963  77963AK0010001                    Moda Health   \n",
       "\n",
       "   DentalOnlyPlan NetworkId MetalLevel  TEHBDedInnTier1Individual  \\\n",
       "36             No    AKN001       Gold                          0   \n",
       "37             No    AKN001       Gold                          0   \n",
       "\n",
       "    TEHBDedOutOfNetIndividual  TEHBDedCombInnOonIndividual  \\\n",
       "36                          0                            0   \n",
       "37                          0                            0   \n",
       "\n",
       "   OutOfCountryCoverage OutOfServiceAreaCoverage MarketCoverage  County  \n",
       "36                   No                      Yes     Individual  2020.0  \n",
       "37                   No                      Yes     Individual  2090.0  "
      ]
     },
     "execution_count": 70,
     "metadata": {},
     "output_type": "execute_result"
    }
   ],
   "source": [
    "plan_df.head(2)"
   ]
  },
  {
   "cell_type": "code",
   "execution_count": 71,
   "id": "crazy-volleyball",
   "metadata": {
    "ExecuteTime": {
     "end_time": "2021-03-26T12:51:51.805871Z",
     "start_time": "2021-03-26T12:51:51.802872Z"
    }
   },
   "outputs": [],
   "source": [
    "# plan_df.to_csv('attr_serv.csv')"
   ]
  },
  {
   "cell_type": "code",
   "execution_count": 72,
   "id": "consistent-shelter",
   "metadata": {
    "ExecuteTime": {
     "end_time": "2021-03-26T12:51:51.810374Z",
     "start_time": "2021-03-26T12:51:51.806869Z"
    }
   },
   "outputs": [],
   "source": [
    "# rate_df_short.to_csv('rate_df_short.csv')"
   ]
  },
  {
   "cell_type": "code",
   "execution_count": 73,
   "id": "minute-affairs",
   "metadata": {
    "ExecuteTime": {
     "end_time": "2021-03-26T12:51:51.815370Z",
     "start_time": "2021-03-26T12:51:51.811373Z"
    }
   },
   "outputs": [],
   "source": [
    "# df_outer = pd.merge(plan_df, rate_df_shorter, on='PlanId', how='outer')"
   ]
  },
  {
   "cell_type": "code",
   "execution_count": 74,
   "id": "alpha-namibia",
   "metadata": {
    "ExecuteTime": {
     "end_time": "2021-03-26T12:51:51.856372Z",
     "start_time": "2021-03-26T12:51:51.815869Z"
    },
    "scrolled": true
   },
   "outputs": [],
   "source": [
    "# 367825701\n",
    "full_plan = pd.merge(plan_df, rate_df2, on='PlanId')"
   ]
  },
  {
   "cell_type": "code",
   "execution_count": 75,
   "id": "satisfied-caution",
   "metadata": {
    "ExecuteTime": {
     "end_time": "2021-03-26T12:51:51.860869Z",
     "start_time": "2021-03-26T12:51:51.857370Z"
    }
   },
   "outputs": [
    {
     "data": {
      "text/plain": [
       "(88482, 15)"
      ]
     },
     "execution_count": 75,
     "metadata": {},
     "output_type": "execute_result"
    }
   ],
   "source": [
    "full_plan.shape"
   ]
  },
  {
   "cell_type": "code",
   "execution_count": 76,
   "id": "polyphonic-atlantic",
   "metadata": {
    "ExecuteTime": {
     "end_time": "2021-03-26T12:51:51.875873Z",
     "start_time": "2021-03-26T12:51:51.861371Z"
    },
    "scrolled": false
   },
   "outputs": [
    {
     "data": {
      "text/html": [
       "<div>\n",
       "<style scoped>\n",
       "    .dataframe tbody tr th:only-of-type {\n",
       "        vertical-align: middle;\n",
       "    }\n",
       "\n",
       "    .dataframe tbody tr th {\n",
       "        vertical-align: top;\n",
       "    }\n",
       "\n",
       "    .dataframe thead th {\n",
       "        text-align: right;\n",
       "    }\n",
       "</style>\n",
       "<table border=\"1\" class=\"dataframe\">\n",
       "  <thead>\n",
       "    <tr style=\"text-align: right;\">\n",
       "      <th></th>\n",
       "      <th>StateCode</th>\n",
       "      <th>IssuerId</th>\n",
       "      <th>PlanId</th>\n",
       "      <th>IssuerMarketPlaceMarketingName</th>\n",
       "      <th>DentalOnlyPlan</th>\n",
       "      <th>NetworkId</th>\n",
       "      <th>MetalLevel</th>\n",
       "      <th>TEHBDedInnTier1Individual</th>\n",
       "      <th>TEHBDedOutOfNetIndividual</th>\n",
       "      <th>TEHBDedCombInnOonIndividual</th>\n",
       "      <th>OutOfCountryCoverage</th>\n",
       "      <th>OutOfServiceAreaCoverage</th>\n",
       "      <th>MarketCoverage</th>\n",
       "      <th>County</th>\n",
       "      <th>IndividualRate</th>\n",
       "    </tr>\n",
       "  </thead>\n",
       "  <tbody>\n",
       "    <tr>\n",
       "      <th>0</th>\n",
       "      <td>AK</td>\n",
       "      <td>77963</td>\n",
       "      <td>77963AK0010001</td>\n",
       "      <td>Moda Health</td>\n",
       "      <td>No</td>\n",
       "      <td>AKN001</td>\n",
       "      <td>Gold</td>\n",
       "      <td>0</td>\n",
       "      <td>0</td>\n",
       "      <td>0</td>\n",
       "      <td>No</td>\n",
       "      <td>Yes</td>\n",
       "      <td>Individual</td>\n",
       "      <td>2020.0</td>\n",
       "      <td>766.229167</td>\n",
       "    </tr>\n",
       "    <tr>\n",
       "      <th>1</th>\n",
       "      <td>AK</td>\n",
       "      <td>77963</td>\n",
       "      <td>77963AK0010001</td>\n",
       "      <td>Moda Health</td>\n",
       "      <td>No</td>\n",
       "      <td>AKN001</td>\n",
       "      <td>Gold</td>\n",
       "      <td>0</td>\n",
       "      <td>0</td>\n",
       "      <td>0</td>\n",
       "      <td>No</td>\n",
       "      <td>Yes</td>\n",
       "      <td>Individual</td>\n",
       "      <td>2090.0</td>\n",
       "      <td>766.229167</td>\n",
       "    </tr>\n",
       "    <tr>\n",
       "      <th>2</th>\n",
       "      <td>AK</td>\n",
       "      <td>77963</td>\n",
       "      <td>77963AK0010001</td>\n",
       "      <td>Moda Health</td>\n",
       "      <td>No</td>\n",
       "      <td>AKN001</td>\n",
       "      <td>Gold</td>\n",
       "      <td>0</td>\n",
       "      <td>0</td>\n",
       "      <td>0</td>\n",
       "      <td>No</td>\n",
       "      <td>Yes</td>\n",
       "      <td>Individual</td>\n",
       "      <td>2122.0</td>\n",
       "      <td>766.229167</td>\n",
       "    </tr>\n",
       "    <tr>\n",
       "      <th>3</th>\n",
       "      <td>AK</td>\n",
       "      <td>77963</td>\n",
       "      <td>77963AK0010001</td>\n",
       "      <td>Moda Health</td>\n",
       "      <td>No</td>\n",
       "      <td>AKN001</td>\n",
       "      <td>Gold</td>\n",
       "      <td>0</td>\n",
       "      <td>0</td>\n",
       "      <td>0</td>\n",
       "      <td>No</td>\n",
       "      <td>Yes</td>\n",
       "      <td>Individual</td>\n",
       "      <td>2130.0</td>\n",
       "      <td>766.229167</td>\n",
       "    </tr>\n",
       "    <tr>\n",
       "      <th>4</th>\n",
       "      <td>AK</td>\n",
       "      <td>77963</td>\n",
       "      <td>77963AK0010001</td>\n",
       "      <td>Moda Health</td>\n",
       "      <td>No</td>\n",
       "      <td>AKN001</td>\n",
       "      <td>Gold</td>\n",
       "      <td>0</td>\n",
       "      <td>0</td>\n",
       "      <td>0</td>\n",
       "      <td>No</td>\n",
       "      <td>Yes</td>\n",
       "      <td>Individual</td>\n",
       "      <td>2170.0</td>\n",
       "      <td>766.229167</td>\n",
       "    </tr>\n",
       "    <tr>\n",
       "      <th>...</th>\n",
       "      <td>...</td>\n",
       "      <td>...</td>\n",
       "      <td>...</td>\n",
       "      <td>...</td>\n",
       "      <td>...</td>\n",
       "      <td>...</td>\n",
       "      <td>...</td>\n",
       "      <td>...</td>\n",
       "      <td>...</td>\n",
       "      <td>...</td>\n",
       "      <td>...</td>\n",
       "      <td>...</td>\n",
       "      <td>...</td>\n",
       "      <td>...</td>\n",
       "      <td>...</td>\n",
       "    </tr>\n",
       "    <tr>\n",
       "      <th>88477</th>\n",
       "      <td>OH</td>\n",
       "      <td>28162</td>\n",
       "      <td>28162OH0060104</td>\n",
       "      <td>AultCare Insurance Company</td>\n",
       "      <td>No</td>\n",
       "      <td>OHN002</td>\n",
       "      <td>Expanded Bronze</td>\n",
       "      <td>0</td>\n",
       "      <td>0</td>\n",
       "      <td>0</td>\n",
       "      <td>Yes</td>\n",
       "      <td>Yes</td>\n",
       "      <td>Individual</td>\n",
       "      <td>39151.0</td>\n",
       "      <td>421.156458</td>\n",
       "    </tr>\n",
       "    <tr>\n",
       "      <th>88478</th>\n",
       "      <td>OH</td>\n",
       "      <td>28162</td>\n",
       "      <td>28162OH0060104</td>\n",
       "      <td>AultCare Insurance Company</td>\n",
       "      <td>No</td>\n",
       "      <td>OHN002</td>\n",
       "      <td>Expanded Bronze</td>\n",
       "      <td>0</td>\n",
       "      <td>0</td>\n",
       "      <td>0</td>\n",
       "      <td>Yes</td>\n",
       "      <td>Yes</td>\n",
       "      <td>Individual</td>\n",
       "      <td>39157.0</td>\n",
       "      <td>421.156458</td>\n",
       "    </tr>\n",
       "    <tr>\n",
       "      <th>88479</th>\n",
       "      <td>OH</td>\n",
       "      <td>28162</td>\n",
       "      <td>28162OH0060104</td>\n",
       "      <td>AultCare Insurance Company</td>\n",
       "      <td>No</td>\n",
       "      <td>OHN002</td>\n",
       "      <td>Expanded Bronze</td>\n",
       "      <td>0</td>\n",
       "      <td>0</td>\n",
       "      <td>0</td>\n",
       "      <td>Yes</td>\n",
       "      <td>Yes</td>\n",
       "      <td>Individual</td>\n",
       "      <td>39075.0</td>\n",
       "      <td>421.156458</td>\n",
       "    </tr>\n",
       "    <tr>\n",
       "      <th>88480</th>\n",
       "      <td>OH</td>\n",
       "      <td>28162</td>\n",
       "      <td>28162OH0060104</td>\n",
       "      <td>AultCare Insurance Company</td>\n",
       "      <td>No</td>\n",
       "      <td>OHN002</td>\n",
       "      <td>Expanded Bronze</td>\n",
       "      <td>0</td>\n",
       "      <td>0</td>\n",
       "      <td>0</td>\n",
       "      <td>Yes</td>\n",
       "      <td>Yes</td>\n",
       "      <td>Individual</td>\n",
       "      <td>39153.0</td>\n",
       "      <td>421.156458</td>\n",
       "    </tr>\n",
       "    <tr>\n",
       "      <th>88481</th>\n",
       "      <td>OH</td>\n",
       "      <td>28162</td>\n",
       "      <td>28162OH0060104</td>\n",
       "      <td>AultCare Insurance Company</td>\n",
       "      <td>No</td>\n",
       "      <td>OHN002</td>\n",
       "      <td>Expanded Bronze</td>\n",
       "      <td>0</td>\n",
       "      <td>0</td>\n",
       "      <td>0</td>\n",
       "      <td>Yes</td>\n",
       "      <td>Yes</td>\n",
       "      <td>Individual</td>\n",
       "      <td>39169.0</td>\n",
       "      <td>421.156458</td>\n",
       "    </tr>\n",
       "  </tbody>\n",
       "</table>\n",
       "<p>88482 rows × 15 columns</p>\n",
       "</div>"
      ],
      "text/plain": [
       "      StateCode  IssuerId          PlanId IssuerMarketPlaceMarketingName  \\\n",
       "0            AK     77963  77963AK0010001                    Moda Health   \n",
       "1            AK     77963  77963AK0010001                    Moda Health   \n",
       "2            AK     77963  77963AK0010001                    Moda Health   \n",
       "3            AK     77963  77963AK0010001                    Moda Health   \n",
       "4            AK     77963  77963AK0010001                    Moda Health   \n",
       "...         ...       ...             ...                            ...   \n",
       "88477        OH     28162  28162OH0060104     AultCare Insurance Company   \n",
       "88478        OH     28162  28162OH0060104     AultCare Insurance Company   \n",
       "88479        OH     28162  28162OH0060104     AultCare Insurance Company   \n",
       "88480        OH     28162  28162OH0060104     AultCare Insurance Company   \n",
       "88481        OH     28162  28162OH0060104     AultCare Insurance Company   \n",
       "\n",
       "      DentalOnlyPlan NetworkId       MetalLevel  TEHBDedInnTier1Individual  \\\n",
       "0                 No    AKN001             Gold                          0   \n",
       "1                 No    AKN001             Gold                          0   \n",
       "2                 No    AKN001             Gold                          0   \n",
       "3                 No    AKN001             Gold                          0   \n",
       "4                 No    AKN001             Gold                          0   \n",
       "...              ...       ...              ...                        ...   \n",
       "88477             No    OHN002  Expanded Bronze                          0   \n",
       "88478             No    OHN002  Expanded Bronze                          0   \n",
       "88479             No    OHN002  Expanded Bronze                          0   \n",
       "88480             No    OHN002  Expanded Bronze                          0   \n",
       "88481             No    OHN002  Expanded Bronze                          0   \n",
       "\n",
       "       TEHBDedOutOfNetIndividual  TEHBDedCombInnOonIndividual  \\\n",
       "0                              0                            0   \n",
       "1                              0                            0   \n",
       "2                              0                            0   \n",
       "3                              0                            0   \n",
       "4                              0                            0   \n",
       "...                          ...                          ...   \n",
       "88477                          0                            0   \n",
       "88478                          0                            0   \n",
       "88479                          0                            0   \n",
       "88480                          0                            0   \n",
       "88481                          0                            0   \n",
       "\n",
       "      OutOfCountryCoverage OutOfServiceAreaCoverage MarketCoverage   County  \\\n",
       "0                       No                      Yes     Individual   2020.0   \n",
       "1                       No                      Yes     Individual   2090.0   \n",
       "2                       No                      Yes     Individual   2122.0   \n",
       "3                       No                      Yes     Individual   2130.0   \n",
       "4                       No                      Yes     Individual   2170.0   \n",
       "...                    ...                      ...            ...      ...   \n",
       "88477                  Yes                      Yes     Individual  39151.0   \n",
       "88478                  Yes                      Yes     Individual  39157.0   \n",
       "88479                  Yes                      Yes     Individual  39075.0   \n",
       "88480                  Yes                      Yes     Individual  39153.0   \n",
       "88481                  Yes                      Yes     Individual  39169.0   \n",
       "\n",
       "       IndividualRate  \n",
       "0          766.229167  \n",
       "1          766.229167  \n",
       "2          766.229167  \n",
       "3          766.229167  \n",
       "4          766.229167  \n",
       "...               ...  \n",
       "88477      421.156458  \n",
       "88478      421.156458  \n",
       "88479      421.156458  \n",
       "88480      421.156458  \n",
       "88481      421.156458  \n",
       "\n",
       "[88482 rows x 15 columns]"
      ]
     },
     "execution_count": 76,
     "metadata": {},
     "output_type": "execute_result"
    }
   ],
   "source": [
    "full_plan"
   ]
  },
  {
   "cell_type": "code",
   "execution_count": 77,
   "id": "injured-roommate",
   "metadata": {
    "ExecuteTime": {
     "end_time": "2021-03-26T12:51:52.316369Z",
     "start_time": "2021-03-26T12:51:51.876373Z"
    }
   },
   "outputs": [],
   "source": [
    "full_plan.to_csv('full_plan.csv')"
   ]
  },
  {
   "cell_type": "markdown",
   "id": "bearing-bouquet",
   "metadata": {},
   "source": [
    "final column selection and one hot encoding"
   ]
  },
  {
   "cell_type": "code",
   "execution_count": 78,
   "id": "imperial-disabled",
   "metadata": {
    "ExecuteTime": {
     "end_time": "2021-03-26T12:51:52.345372Z",
     "start_time": "2021-03-26T12:51:52.317373Z"
    },
    "scrolled": true
   },
   "outputs": [
    {
     "name": "stdout",
     "output_type": "stream",
     "text": [
      "<class 'pandas.core.frame.DataFrame'>\n",
      "Int64Index: 88482 entries, 0 to 88481\n",
      "Data columns (total 15 columns):\n",
      " #   Column                          Non-Null Count  Dtype  \n",
      "---  ------                          --------------  -----  \n",
      " 0   StateCode                       88482 non-null  object \n",
      " 1   IssuerId                        88482 non-null  int64  \n",
      " 2   PlanId                          88482 non-null  object \n",
      " 3   IssuerMarketPlaceMarketingName  88482 non-null  object \n",
      " 4   DentalOnlyPlan                  88482 non-null  object \n",
      " 5   NetworkId                       88482 non-null  object \n",
      " 6   MetalLevel                      88482 non-null  object \n",
      " 7   TEHBDedInnTier1Individual       88482 non-null  int32  \n",
      " 8   TEHBDedOutOfNetIndividual       88482 non-null  int32  \n",
      " 9   TEHBDedCombInnOonIndividual     88482 non-null  int32  \n",
      " 10  OutOfCountryCoverage            88482 non-null  object \n",
      " 11  OutOfServiceAreaCoverage        88482 non-null  object \n",
      " 12  MarketCoverage                  88482 non-null  object \n",
      " 13  County                          88482 non-null  float64\n",
      " 14  IndividualRate                  88482 non-null  float64\n",
      "dtypes: float64(2), int32(3), int64(1), object(9)\n",
      "memory usage: 9.8+ MB\n"
     ]
    }
   ],
   "source": [
    "full_plan.info()"
   ]
  },
  {
   "cell_type": "code",
   "execution_count": 79,
   "id": "acute-arcade",
   "metadata": {
    "ExecuteTime": {
     "end_time": "2021-03-26T12:51:52.365369Z",
     "start_time": "2021-03-26T12:51:52.346373Z"
    }
   },
   "outputs": [],
   "source": [
    "full_plan.drop(['IssuerId', 'NetworkId', 'DentalOnlyPlan'], axis=1, inplace=True)"
   ]
  },
  {
   "cell_type": "code",
   "execution_count": 80,
   "id": "intellectual-neighborhood",
   "metadata": {
    "ExecuteTime": {
     "end_time": "2021-03-26T12:51:52.762869Z",
     "start_time": "2021-03-26T12:51:52.365869Z"
    }
   },
   "outputs": [],
   "source": [
    "full_plan.to_csv('full_plan.csv')"
   ]
  },
  {
   "cell_type": "code",
   "execution_count": 81,
   "id": "incident-wealth",
   "metadata": {
    "ExecuteTime": {
     "end_time": "2021-03-26T12:51:52.786369Z",
     "start_time": "2021-03-26T12:51:52.763870Z"
    },
    "scrolled": false
   },
   "outputs": [
    {
     "name": "stdout",
     "output_type": "stream",
     "text": [
      "<class 'pandas.core.frame.DataFrame'>\n",
      "Int64Index: 88482 entries, 0 to 88481\n",
      "Data columns (total 12 columns):\n",
      " #   Column                          Non-Null Count  Dtype  \n",
      "---  ------                          --------------  -----  \n",
      " 0   StateCode                       88482 non-null  object \n",
      " 1   PlanId                          88482 non-null  object \n",
      " 2   IssuerMarketPlaceMarketingName  88482 non-null  object \n",
      " 3   MetalLevel                      88482 non-null  object \n",
      " 4   TEHBDedInnTier1Individual       88482 non-null  int32  \n",
      " 5   TEHBDedOutOfNetIndividual       88482 non-null  int32  \n",
      " 6   TEHBDedCombInnOonIndividual     88482 non-null  int32  \n",
      " 7   OutOfCountryCoverage            88482 non-null  object \n",
      " 8   OutOfServiceAreaCoverage        88482 non-null  object \n",
      " 9   MarketCoverage                  88482 non-null  object \n",
      " 10  County                          88482 non-null  float64\n",
      " 11  IndividualRate                  88482 non-null  float64\n",
      "dtypes: float64(2), int32(3), object(7)\n",
      "memory usage: 7.8+ MB\n"
     ]
    }
   ],
   "source": [
    "full_plan.info()"
   ]
  },
  {
   "cell_type": "code",
   "execution_count": 82,
   "id": "regulation-population",
   "metadata": {
    "ExecuteTime": {
     "end_time": "2021-03-26T12:51:52.794869Z",
     "start_time": "2021-03-26T12:51:52.786872Z"
    },
    "scrolled": true
   },
   "outputs": [],
   "source": [
    "full_plan['IndividualRate'] = full_plan['IndividualRate'].round()"
   ]
  },
  {
   "cell_type": "code",
   "execution_count": 83,
   "id": "latter-romantic",
   "metadata": {
    "ExecuteTime": {
     "end_time": "2021-03-26T12:51:52.800369Z",
     "start_time": "2021-03-26T12:51:52.795873Z"
    }
   },
   "outputs": [],
   "source": [
    "full_plan['County'] = full_plan['County'].round()"
   ]
  },
  {
   "cell_type": "code",
   "execution_count": 84,
   "id": "standard-brazilian",
   "metadata": {
    "ExecuteTime": {
     "end_time": "2021-03-26T12:51:52.806371Z",
     "start_time": "2021-03-26T12:51:52.800869Z"
    }
   },
   "outputs": [],
   "source": [
    "full_plan['IndividualRate'] = full_plan['IndividualRate'].astype('int64')\n",
    "full_plan['TEHBDedInnTier1Individual'] = full_plan['TEHBDedInnTier1Individual'].astype('int64')\n",
    "full_plan['TEHBDedOutOfNetIndividual'] = full_plan['TEHBDedOutOfNetIndividual'].astype('int64')\n",
    "full_plan['TEHBDedCombInnOonIndividual'] = full_plan['TEHBDedCombInnOonIndividual'].astype('int64')"
   ]
  },
  {
   "cell_type": "code",
   "execution_count": 86,
   "id": "chief-palestinian",
   "metadata": {
    "ExecuteTime": {
     "end_time": "2021-03-26T12:51:52.835369Z",
     "start_time": "2021-03-26T12:51:52.831871Z"
    }
   },
   "outputs": [],
   "source": [
    "full_plan['County'] = full_plan['County'].astype('int64')"
   ]
  },
  {
   "cell_type": "code",
   "execution_count": 114,
   "id": "super-wrist",
   "metadata": {
    "ExecuteTime": {
     "end_time": "2021-03-26T12:52:34.717080Z",
     "start_time": "2021-03-26T12:52:34.681579Z"
    },
    "scrolled": true
   },
   "outputs": [
    {
     "name": "stdout",
     "output_type": "stream",
     "text": [
      "<class 'pandas.core.frame.DataFrame'>\n",
      "Int64Index: 88482 entries, 0 to 88481\n",
      "Data columns (total 12 columns):\n",
      " #   Column                          Non-Null Count  Dtype \n",
      "---  ------                          --------------  ----- \n",
      " 0   StateCode                       88482 non-null  object\n",
      " 1   PlanId                          88482 non-null  object\n",
      " 2   IssuerMarketPlaceMarketingName  88482 non-null  object\n",
      " 3   MetalLevel                      88482 non-null  object\n",
      " 4   TEHBDedInnTier1Individual       88482 non-null  int64 \n",
      " 5   TEHBDedOutOfNetIndividual       88482 non-null  int64 \n",
      " 6   TEHBDedCombInnOonIndividual     88482 non-null  int64 \n",
      " 7   OutOfCountryCoverage            88482 non-null  object\n",
      " 8   OutOfServiceAreaCoverage        88482 non-null  object\n",
      " 9   MarketCoverage                  88482 non-null  object\n",
      " 10  County                          88482 non-null  int64 \n",
      " 11  IndividualRate                  88482 non-null  int64 \n",
      "dtypes: int64(5), object(7)\n",
      "memory usage: 8.8+ MB\n"
     ]
    }
   ],
   "source": [
    "full_plan.info()"
   ]
  },
  {
   "cell_type": "code",
   "execution_count": 87,
   "id": "unknown-radical",
   "metadata": {
    "ExecuteTime": {
     "end_time": "2021-03-26T12:51:52.894371Z",
     "start_time": "2021-03-26T12:51:52.835869Z"
    },
    "scrolled": true
   },
   "outputs": [
    {
     "name": "stdout",
     "output_type": "stream",
     "text": [
      "StateCode\n",
      "27\n",
      "PlanId\n",
      "1172\n",
      "IssuerMarketPlaceMarketingName\n",
      "51\n",
      "MetalLevel\n",
      "6\n",
      "TEHBDedInnTier1Individual\n",
      "43\n",
      "TEHBDedOutOfNetIndividual\n",
      "34\n",
      "TEHBDedCombInnOonIndividual\n",
      "55\n",
      "OutOfCountryCoverage\n",
      "2\n",
      "OutOfServiceAreaCoverage\n",
      "2\n",
      "MarketCoverage\n",
      "2\n",
      "County\n",
      "1778\n",
      "IndividualRate\n",
      "453\n"
     ]
    }
   ],
   "source": [
    "for i in full_plan.columns:\n",
    "    print(i)\n",
    "    print(full_plan[i].nunique())"
   ]
  },
  {
   "cell_type": "code",
   "execution_count": 88,
   "id": "piano-hollow",
   "metadata": {
    "ExecuteTime": {
     "end_time": "2021-03-26T12:51:52.915372Z",
     "start_time": "2021-03-26T12:51:52.895369Z"
    }
   },
   "outputs": [
    {
     "data": {
      "text/plain": [
       "StateCode                         0\n",
       "PlanId                            0\n",
       "IssuerMarketPlaceMarketingName    0\n",
       "MetalLevel                        0\n",
       "TEHBDedInnTier1Individual         0\n",
       "TEHBDedOutOfNetIndividual         0\n",
       "TEHBDedCombInnOonIndividual       0\n",
       "OutOfCountryCoverage              0\n",
       "OutOfServiceAreaCoverage          0\n",
       "MarketCoverage                    0\n",
       "County                            0\n",
       "IndividualRate                    0\n",
       "dtype: int64"
      ]
     },
     "execution_count": 88,
     "metadata": {},
     "output_type": "execute_result"
    }
   ],
   "source": [
    "full_plan.isna().sum()"
   ]
  },
  {
   "cell_type": "markdown",
   "id": "threaded-representation",
   "metadata": {
    "ExecuteTime": {
     "end_time": "2021-03-26T12:51:52.917873Z",
     "start_time": "2021-03-26T12:51:52.915869Z"
    }
   },
   "source": [
    "# One Hot Encoder"
   ]
  },
  {
   "cell_type": "code",
   "execution_count": 91,
   "id": "governmental-denmark",
   "metadata": {
    "ExecuteTime": {
     "end_time": "2021-03-26T12:51:53.140873Z",
     "start_time": "2021-03-26T12:51:53.138870Z"
    }
   },
   "outputs": [],
   "source": [
    "ohe_columns = ['StateCode', 'PlanId', 'IssuerMarketPlaceMarketingName', 'MetalLevel', 'OutOfCountryCoverage', 'OutOfServiceAreaCoverage', 'MarketCoverage', 'County']"
   ]
  },
  {
   "cell_type": "code",
   "execution_count": 92,
   "id": "caroline-crest",
   "metadata": {
    "ExecuteTime": {
     "end_time": "2021-03-26T12:51:53.170368Z",
     "start_time": "2021-03-26T12:51:53.141869Z"
    }
   },
   "outputs": [],
   "source": [
    "enc = OneHotEncoder(drop='first').fit(full_plan[ohe_columns])"
   ]
  },
  {
   "cell_type": "code",
   "execution_count": 93,
   "id": "analyzed-facial",
   "metadata": {
    "ExecuteTime": {
     "end_time": "2021-03-26T12:51:53.174869Z",
     "start_time": "2021-03-26T12:51:53.171369Z"
    },
    "scrolled": true
   },
   "outputs": [
    {
     "data": {
      "text/plain": [
       "[array(['AK', 'AL', 'AZ', 'FL', 'GA', 'IA', 'IL', 'KS', 'KY', 'LA', 'ME',\n",
       "        'MI', 'MO', 'MT', 'NC', 'ND', 'NE', 'NH', 'OH', 'OK', 'OR', 'SD',\n",
       "        'TN', 'TX', 'UT', 'VA', 'WI'], dtype=object),\n",
       " array(['10091OR0680002', '10091OR0680006', '10091OR0750001', ...,\n",
       "        '99969OH0080239', '99969OH0080240', '99969OH0080241'], dtype=object),\n",
       " array(['Alliant Health Plans', 'AultCare Insurance Company', 'AvMed',\n",
       "        'Avera Health Plans',\n",
       "        'Blue Cross Blue Shield Healthcare Plan of Georgia, Inc',\n",
       "        'Blue Cross Blue Shield of Arizona',\n",
       "        'Blue Cross Blue Shield of Michigan Mutual Insurance Company',\n",
       "        'Blue Cross and Blue Shield of Illinois',\n",
       "        'Blue Cross and Blue Shield of Kansas City',\n",
       "        'Blue Cross and Blue Shield of Kansas, Inc.',\n",
       "        'Blue Cross and Blue Shield of Montana',\n",
       "        'Blue Cross and Blue Shield of Texas', 'BridgeSpan Health Company',\n",
       "        'Bright Health', 'CHRISTUS Health Plan', 'CareSource',\n",
       "        'Cigna Health and Life Insurance Company',\n",
       "        'Cigna HealthCare of Arizona, Inc', 'Cigna Healthcare',\n",
       "        'Common Ground Healthcare Cooperative', 'FirstCare Health Plans',\n",
       "        'Florida Blue (BlueCross BlueShield FL)',\n",
       "        'Florida Blue HMO (a BlueCross BlueShield FL company)',\n",
       "        'HMO Louisiana', 'Harvard Pilgrim Health Care', 'Health Alliance',\n",
       "        'Health First Commercial Plans, Inc.', 'HealthPartners',\n",
       "        'Kaiser Permanente', 'McLaren Health Plan Community', 'MedMutual',\n",
       "        'Medica', 'Moda Health', 'Molina Healthcare', 'Network Health',\n",
       "        'Optima Health Plan', 'Oscar Health Plan, Inc.',\n",
       "        'PacificSource Health Plans', 'Physicians Health Plan',\n",
       "        'Priority Health', 'Providence Health Plan',\n",
       "        'Regence BlueCross BlueShield of Oregon',\n",
       "        'Regence BlueCross BlueShield of Utah', 'Sanford Health Plan',\n",
       "        'Scott and White Health Plan', 'Security Health Plan',\n",
       "        'SelectHealth', 'Sendero Health Plans, Local Nonprofit',\n",
       "        'SummaCare', 'Total Health Care USA, Inc.',\n",
       "        'University of Utah Health Plans'], dtype=object),\n",
       " array(['Bronze', 'Catastrophic', 'Expanded Bronze', 'Gold', 'Platinum',\n",
       "        'Silver'], dtype=object),\n",
       " array(['No', 'Yes'], dtype=object),\n",
       " array(['No', 'Yes'], dtype=object),\n",
       " array(['Individual', 'SHOP (Small Group)'], dtype=object),\n",
       " array([ 1021,  1073,  1117, ..., 55137, 55139, 55141], dtype=int64)]"
      ]
     },
     "execution_count": 93,
     "metadata": {},
     "output_type": "execute_result"
    }
   ],
   "source": [
    "enc.categories_"
   ]
  },
  {
   "cell_type": "code",
   "execution_count": 94,
   "id": "quarterly-quantity",
   "metadata": {
    "ExecuteTime": {
     "end_time": "2021-03-26T12:51:53.182369Z",
     "start_time": "2021-03-26T12:51:53.175872Z"
    },
    "scrolled": true
   },
   "outputs": [
    {
     "data": {
      "text/plain": [
       "3032"
      ]
     },
     "execution_count": 94,
     "metadata": {},
     "output_type": "execute_result"
    }
   ],
   "source": [
    "len(enc.get_feature_names())"
   ]
  },
  {
   "cell_type": "code",
   "execution_count": 95,
   "id": "interesting-position",
   "metadata": {
    "ExecuteTime": {
     "end_time": "2021-03-26T12:51:53.206869Z",
     "start_time": "2021-03-26T12:51:53.182869Z"
    }
   },
   "outputs": [],
   "source": [
    "X_train, X_test = train_test_split(full_plan, test_size=0.2, random_state=5)"
   ]
  },
  {
   "cell_type": "code",
   "execution_count": 96,
   "id": "asian-lease",
   "metadata": {
    "ExecuteTime": {
     "end_time": "2021-03-26T12:51:53.210873Z",
     "start_time": "2021-03-26T12:51:53.207369Z"
    },
    "scrolled": true
   },
   "outputs": [
    {
     "name": "stdout",
     "output_type": "stream",
     "text": [
      "(70785, 12)\n",
      "(17697, 12)\n"
     ]
    }
   ],
   "source": [
    "print(X_train.shape)\n",
    "print(X_test.shape)"
   ]
  },
  {
   "cell_type": "code",
   "execution_count": 97,
   "id": "encouraging-hybrid",
   "metadata": {
    "ExecuteTime": {
     "end_time": "2021-03-26T12:51:53.502869Z",
     "start_time": "2021-03-26T12:51:53.211870Z"
    },
    "scrolled": true
   },
   "outputs": [],
   "source": [
    "X_train_OHE = enc.transform(X_train[ohe_columns]).toarray()"
   ]
  },
  {
   "cell_type": "code",
   "execution_count": 98,
   "id": "completed-clerk",
   "metadata": {
    "ExecuteTime": {
     "end_time": "2021-03-26T12:51:53.580369Z",
     "start_time": "2021-03-26T12:51:53.503872Z"
    }
   },
   "outputs": [],
   "source": [
    "X_test_OHE = enc.transform(X_test[ohe_columns]).toarray()"
   ]
  },
  {
   "cell_type": "code",
   "execution_count": 99,
   "id": "meaning-stereo",
   "metadata": {
    "ExecuteTime": {
     "end_time": "2021-03-26T12:51:53.584370Z",
     "start_time": "2021-03-26T12:51:53.581371Z"
    }
   },
   "outputs": [
    {
     "data": {
      "text/plain": [
       "8"
      ]
     },
     "execution_count": 99,
     "metadata": {},
     "output_type": "execute_result"
    }
   ],
   "source": [
    "len(enc.categories_)"
   ]
  },
  {
   "cell_type": "code",
   "execution_count": 100,
   "id": "funky-version",
   "metadata": {
    "ExecuteTime": {
     "end_time": "2021-03-26T12:51:53.590873Z",
     "start_time": "2021-03-26T12:51:53.585373Z"
    },
    "scrolled": true
   },
   "outputs": [
    {
     "name": "stdout",
     "output_type": "stream",
     "text": [
      "['AK' 'AL' 'AZ' 'FL' 'GA' 'IA' 'IL' 'KS' 'KY' 'LA' 'ME' 'MI' 'MO' 'MT'\n",
      " 'NC' 'ND' 'NE' 'NH' 'OH' 'OK' 'OR' 'SD' 'TN' 'TX' 'UT' 'VA' 'WI']\n",
      "['AL' 'AZ' 'FL' 'GA' 'IA' 'IL' 'KS' 'KY' 'LA' 'ME' 'MI' 'MO' 'MT' 'NC'\n",
      " 'ND' 'NE' 'NH' 'OH' 'OK' 'OR' 'SD' 'TN' 'TX' 'UT' 'VA' 'WI']\n",
      "['10091OR0680002' '10091OR0680006' '10091OR0750001' ... '99969OH0080239'\n",
      " '99969OH0080240' '99969OH0080241']\n",
      "['10091OR0680006' '10091OR0750001' '10091OR0750002' ... '99969OH0080239'\n",
      " '99969OH0080240' '99969OH0080241']\n",
      "['Alliant Health Plans' 'AultCare Insurance Company' 'AvMed'\n",
      " 'Avera Health Plans'\n",
      " 'Blue Cross Blue Shield Healthcare Plan of Georgia, Inc'\n",
      " 'Blue Cross Blue Shield of Arizona'\n",
      " 'Blue Cross Blue Shield of Michigan Mutual Insurance Company'\n",
      " 'Blue Cross and Blue Shield of Illinois'\n",
      " 'Blue Cross and Blue Shield of Kansas City'\n",
      " 'Blue Cross and Blue Shield of Kansas, Inc.'\n",
      " 'Blue Cross and Blue Shield of Montana'\n",
      " 'Blue Cross and Blue Shield of Texas' 'BridgeSpan Health Company'\n",
      " 'Bright Health' 'CHRISTUS Health Plan' 'CareSource'\n",
      " 'Cigna Health and Life Insurance Company'\n",
      " 'Cigna HealthCare of Arizona, Inc' 'Cigna Healthcare'\n",
      " 'Common Ground Healthcare Cooperative' 'FirstCare Health Plans'\n",
      " 'Florida Blue (BlueCross BlueShield FL)'\n",
      " 'Florida Blue HMO (a BlueCross BlueShield FL company)' 'HMO Louisiana'\n",
      " 'Harvard Pilgrim Health Care' 'Health Alliance'\n",
      " 'Health First Commercial Plans, Inc.' 'HealthPartners'\n",
      " 'Kaiser Permanente' 'McLaren Health Plan Community' 'MedMutual' 'Medica'\n",
      " 'Moda Health' 'Molina Healthcare' 'Network Health' 'Optima Health Plan'\n",
      " 'Oscar Health Plan, Inc.' 'PacificSource Health Plans'\n",
      " 'Physicians Health Plan' 'Priority Health' 'Providence Health Plan'\n",
      " 'Regence BlueCross BlueShield of Oregon'\n",
      " 'Regence BlueCross BlueShield of Utah' 'Sanford Health Plan'\n",
      " 'Scott and White Health Plan' 'Security Health Plan' 'SelectHealth'\n",
      " 'Sendero Health Plans, Local Nonprofit' 'SummaCare'\n",
      " 'Total Health Care USA, Inc.' 'University of Utah Health Plans']\n",
      "['AultCare Insurance Company' 'AvMed' 'Avera Health Plans'\n",
      " 'Blue Cross Blue Shield Healthcare Plan of Georgia, Inc'\n",
      " 'Blue Cross Blue Shield of Arizona'\n",
      " 'Blue Cross Blue Shield of Michigan Mutual Insurance Company'\n",
      " 'Blue Cross and Blue Shield of Illinois'\n",
      " 'Blue Cross and Blue Shield of Kansas City'\n",
      " 'Blue Cross and Blue Shield of Kansas, Inc.'\n",
      " 'Blue Cross and Blue Shield of Montana'\n",
      " 'Blue Cross and Blue Shield of Texas' 'BridgeSpan Health Company'\n",
      " 'Bright Health' 'CHRISTUS Health Plan' 'CareSource'\n",
      " 'Cigna Health and Life Insurance Company'\n",
      " 'Cigna HealthCare of Arizona, Inc' 'Cigna Healthcare'\n",
      " 'Common Ground Healthcare Cooperative' 'FirstCare Health Plans'\n",
      " 'Florida Blue (BlueCross BlueShield FL)'\n",
      " 'Florida Blue HMO (a BlueCross BlueShield FL company)' 'HMO Louisiana'\n",
      " 'Harvard Pilgrim Health Care' 'Health Alliance'\n",
      " 'Health First Commercial Plans, Inc.' 'HealthPartners'\n",
      " 'Kaiser Permanente' 'McLaren Health Plan Community' 'MedMutual' 'Medica'\n",
      " 'Moda Health' 'Molina Healthcare' 'Network Health' 'Optima Health Plan'\n",
      " 'Oscar Health Plan, Inc.' 'PacificSource Health Plans'\n",
      " 'Physicians Health Plan' 'Priority Health' 'Providence Health Plan'\n",
      " 'Regence BlueCross BlueShield of Oregon'\n",
      " 'Regence BlueCross BlueShield of Utah' 'Sanford Health Plan'\n",
      " 'Scott and White Health Plan' 'Security Health Plan' 'SelectHealth'\n",
      " 'Sendero Health Plans, Local Nonprofit' 'SummaCare'\n",
      " 'Total Health Care USA, Inc.' 'University of Utah Health Plans']\n",
      "['Bronze' 'Catastrophic' 'Expanded Bronze' 'Gold' 'Platinum' 'Silver']\n",
      "['Catastrophic' 'Expanded Bronze' 'Gold' 'Platinum' 'Silver']\n",
      "['No' 'Yes']\n",
      "['Yes']\n",
      "['No' 'Yes']\n",
      "['Yes']\n",
      "['Individual' 'SHOP (Small Group)']\n",
      "['SHOP (Small Group)']\n",
      "[ 1021  1073  1117 ... 55137 55139 55141]\n",
      "[ 1073  1117  1127 ... 55137 55139 55141]\n"
     ]
    }
   ],
   "source": [
    "categories_list = enc.categories_\n",
    "categories_drop_first = []\n",
    "for i in categories_list:\n",
    "    print(i)\n",
    "    i = np.delete(i, 0)\n",
    "    categories_drop_first.append(i)\n",
    "    print(i)"
   ]
  },
  {
   "cell_type": "code",
   "execution_count": 101,
   "id": "determined-submission",
   "metadata": {
    "ExecuteTime": {
     "end_time": "2021-03-26T12:51:53.596371Z",
     "start_time": "2021-03-26T12:51:53.591873Z"
    }
   },
   "outputs": [
    {
     "name": "stdout",
     "output_type": "stream",
     "text": [
      "['AL' 'AZ' 'FL' 'GA' 'IA' 'IL' 'KS' 'KY' 'LA' 'ME' 'MI' 'MO' 'MT' 'NC'\n",
      " 'ND' 'NE' 'NH' 'OH' 'OK' 'OR' 'SD' 'TN' 'TX' 'UT' 'VA' 'WI']\n",
      "['10091OR0680006' '10091OR0750001' '10091OR0750002' ... '99969OH0080239'\n",
      " '99969OH0080240' '99969OH0080241']\n",
      "['AultCare Insurance Company' 'AvMed' 'Avera Health Plans'\n",
      " 'Blue Cross Blue Shield Healthcare Plan of Georgia, Inc'\n",
      " 'Blue Cross Blue Shield of Arizona'\n",
      " 'Blue Cross Blue Shield of Michigan Mutual Insurance Company'\n",
      " 'Blue Cross and Blue Shield of Illinois'\n",
      " 'Blue Cross and Blue Shield of Kansas City'\n",
      " 'Blue Cross and Blue Shield of Kansas, Inc.'\n",
      " 'Blue Cross and Blue Shield of Montana'\n",
      " 'Blue Cross and Blue Shield of Texas' 'BridgeSpan Health Company'\n",
      " 'Bright Health' 'CHRISTUS Health Plan' 'CareSource'\n",
      " 'Cigna Health and Life Insurance Company'\n",
      " 'Cigna HealthCare of Arizona, Inc' 'Cigna Healthcare'\n",
      " 'Common Ground Healthcare Cooperative' 'FirstCare Health Plans'\n",
      " 'Florida Blue (BlueCross BlueShield FL)'\n",
      " 'Florida Blue HMO (a BlueCross BlueShield FL company)' 'HMO Louisiana'\n",
      " 'Harvard Pilgrim Health Care' 'Health Alliance'\n",
      " 'Health First Commercial Plans, Inc.' 'HealthPartners'\n",
      " 'Kaiser Permanente' 'McLaren Health Plan Community' 'MedMutual' 'Medica'\n",
      " 'Moda Health' 'Molina Healthcare' 'Network Health' 'Optima Health Plan'\n",
      " 'Oscar Health Plan, Inc.' 'PacificSource Health Plans'\n",
      " 'Physicians Health Plan' 'Priority Health' 'Providence Health Plan'\n",
      " 'Regence BlueCross BlueShield of Oregon'\n",
      " 'Regence BlueCross BlueShield of Utah' 'Sanford Health Plan'\n",
      " 'Scott and White Health Plan' 'Security Health Plan' 'SelectHealth'\n",
      " 'Sendero Health Plans, Local Nonprofit' 'SummaCare'\n",
      " 'Total Health Care USA, Inc.' 'University of Utah Health Plans']\n",
      "['Catastrophic' 'Expanded Bronze' 'Gold' 'Platinum' 'Silver']\n",
      "['Yes']\n",
      "['Yes']\n",
      "['SHOP (Small Group)']\n",
      "[ 1073  1117  1127 ... 55137 55139 55141]\n"
     ]
    }
   ],
   "source": [
    "for i in categories_drop_first:\n",
    "    print(i)"
   ]
  },
  {
   "cell_type": "code",
   "execution_count": 102,
   "id": "biblical-explorer",
   "metadata": {
    "ExecuteTime": {
     "end_time": "2021-03-26T12:51:53.599874Z",
     "start_time": "2021-03-26T12:51:53.596871Z"
    }
   },
   "outputs": [],
   "source": [
    "StateCodes, PlanIds, IssuerMarketPlaceMarketingNames, MetalLevels, OutOfCountryCoverages, OutOfServiceAreaCoverages, MarketCoverages, Countys = categories_drop_first"
   ]
  },
  {
   "cell_type": "code",
   "execution_count": 103,
   "id": "studied-pound",
   "metadata": {
    "ExecuteTime": {
     "end_time": "2021-03-26T12:51:53.604870Z",
     "start_time": "2021-03-26T12:51:53.600871Z"
    }
   },
   "outputs": [],
   "source": [
    "OHE_feature_names = np.concatenate([StateCodes, PlanIds, IssuerMarketPlaceMarketingNames, MetalLevels, OutOfCountryCoverages, OutOfServiceAreaCoverages, MarketCoverages, Countys])"
   ]
  },
  {
   "cell_type": "code",
   "execution_count": 104,
   "id": "healthy-rhythm",
   "metadata": {
    "ExecuteTime": {
     "end_time": "2021-03-26T12:51:53.610370Z",
     "start_time": "2021-03-26T12:51:53.605872Z"
    }
   },
   "outputs": [
    {
     "data": {
      "text/plain": [
       "3032"
      ]
     },
     "execution_count": 104,
     "metadata": {},
     "output_type": "execute_result"
    }
   ],
   "source": [
    "len(OHE_feature_names)"
   ]
  },
  {
   "cell_type": "code",
   "execution_count": 105,
   "id": "clear-bangladesh",
   "metadata": {
    "ExecuteTime": {
     "end_time": "2021-03-26T12:51:53.615368Z",
     "start_time": "2021-03-26T12:51:53.611373Z"
    }
   },
   "outputs": [],
   "source": [
    "X_train_OHE_df = pd.DataFrame(X_train_OHE, columns=OHE_feature_names)"
   ]
  },
  {
   "cell_type": "code",
   "execution_count": 106,
   "id": "efficient-gossip",
   "metadata": {
    "ExecuteTime": {
     "end_time": "2021-03-26T12:51:53.619871Z",
     "start_time": "2021-03-26T12:51:53.616372Z"
    }
   },
   "outputs": [],
   "source": [
    "X_test_OHE_df = pd.DataFrame(X_test_OHE, columns=OHE_feature_names)"
   ]
  },
  {
   "cell_type": "code",
   "execution_count": 107,
   "id": "individual-preference",
   "metadata": {
    "ExecuteTime": {
     "end_time": "2021-03-26T12:51:56.687870Z",
     "start_time": "2021-03-26T12:51:53.620872Z"
    }
   },
   "outputs": [],
   "source": [
    "X_train = pd.concat([X_train, X_train_OHE_df], axis=1)"
   ]
  },
  {
   "cell_type": "code",
   "execution_count": 108,
   "id": "quiet-funds",
   "metadata": {
    "ExecuteTime": {
     "end_time": "2021-03-26T12:51:57.767368Z",
     "start_time": "2021-03-26T12:51:56.688872Z"
    }
   },
   "outputs": [],
   "source": [
    "X_test = pd.concat([X_test, X_test_OHE_df], axis=1)"
   ]
  },
  {
   "cell_type": "code",
   "execution_count": 109,
   "id": "fiscal-marketplace",
   "metadata": {
    "ExecuteTime": {
     "end_time": "2021-03-26T12:51:57.771374Z",
     "start_time": "2021-03-26T12:51:57.768369Z"
    },
    "scrolled": true
   },
   "outputs": [
    {
     "data": {
      "text/plain": [
       "Index([                     'StateCode',                         'PlanId',\n",
       "       'IssuerMarketPlaceMarketingName',                     'MetalLevel',\n",
       "            'TEHBDedInnTier1Individual',      'TEHBDedOutOfNetIndividual',\n",
       "          'TEHBDedCombInnOonIndividual',           'OutOfCountryCoverage',\n",
       "             'OutOfServiceAreaCoverage',                 'MarketCoverage',\n",
       "       ...\n",
       "                                  55121,                            55123,\n",
       "                                  55125,                            55129,\n",
       "                                  55131,                            55133,\n",
       "                                  55135,                            55137,\n",
       "                                  55139,                            55141],\n",
       "      dtype='object', length=3044)"
      ]
     },
     "execution_count": 109,
     "metadata": {},
     "output_type": "execute_result"
    }
   ],
   "source": [
    "X_train.columns"
   ]
  },
  {
   "cell_type": "code",
   "execution_count": 110,
   "id": "closing-davis",
   "metadata": {
    "ExecuteTime": {
     "end_time": "2021-03-26T12:52:00.785369Z",
     "start_time": "2021-03-26T12:51:57.772371Z"
    }
   },
   "outputs": [],
   "source": [
    "X_train = X_train.drop(ohe_columns, axis=1)\n",
    "X_test = X_test.drop(ohe_columns, axis=1)"
   ]
  },
  {
   "cell_type": "code",
   "execution_count": 111,
   "id": "brave-palestine",
   "metadata": {
    "ExecuteTime": {
     "end_time": "2021-03-26T12:52:00.789871Z",
     "start_time": "2021-03-26T12:52:00.786872Z"
    },
    "scrolled": true
   },
   "outputs": [
    {
     "name": "stdout",
     "output_type": "stream",
     "text": [
      "(84911, 3036)\n",
      "(31845, 3036)\n"
     ]
    }
   ],
   "source": [
    "print(X_train.shape)\n",
    "print(X_test.shape)"
   ]
  },
  {
   "cell_type": "code",
   "execution_count": 115,
   "id": "chief-dictionary",
   "metadata": {
    "ExecuteTime": {
     "end_time": "2021-03-26T12:53:53.219580Z",
     "start_time": "2021-03-26T12:53:52.803079Z"
    },
    "scrolled": false
   },
   "outputs": [
    {
     "data": {
      "text/plain": [
       "TEHBDedInnTier1Individual      14126\n",
       "TEHBDedOutOfNetIndividual      14126\n",
       "TEHBDedCombInnOonIndividual    14126\n",
       "IndividualRate                 14126\n",
       "AL                             14126\n",
       "                               ...  \n",
       "55133                          14126\n",
       "55135                          14126\n",
       "55137                          14126\n",
       "55139                          14126\n",
       "55141                          14126\n",
       "Length: 3036, dtype: int64"
      ]
     },
     "execution_count": 115,
     "metadata": {},
     "output_type": "execute_result"
    }
   ],
   "source": [
    "X_train.isna().sum()"
   ]
  },
  {
   "cell_type": "code",
   "execution_count": 116,
   "id": "distributed-operation",
   "metadata": {
    "ExecuteTime": {
     "end_time": "2021-03-26T12:55:12.331078Z",
     "start_time": "2021-03-26T12:55:11.167082Z"
    }
   },
   "outputs": [],
   "source": [
    "X_train.dropna(inplace=True)"
   ]
  },
  {
   "cell_type": "markdown",
   "id": "flying-sierra",
   "metadata": {},
   "source": [
    "# Scaling and PCA"
   ]
  },
  {
   "cell_type": "code",
   "execution_count": 132,
   "id": "composite-sucking",
   "metadata": {
    "ExecuteTime": {
     "end_time": "2021-03-26T13:43:47.043451Z",
     "start_time": "2021-03-26T13:43:45.889953Z"
    },
    "scrolled": true
   },
   "outputs": [],
   "source": [
    "scaler = MinMaxScaler()\n",
    "X_train_mm = scaler.fit_transform(X_train)"
   ]
  },
  {
   "cell_type": "code",
   "execution_count": 142,
   "id": "assured-figure",
   "metadata": {
    "ExecuteTime": {
     "end_time": "2021-03-26T15:39:33.176170Z",
     "start_time": "2021-03-26T15:39:00.989668Z"
    },
    "scrolled": false
   },
   "outputs": [],
   "source": [
    "model_pca = PCA(n_components=None).fit(X_train_mm)\n",
    "X_train_PCA = model_pca.transform(X_train_mm)"
   ]
  },
  {
   "cell_type": "code",
   "execution_count": 144,
   "id": "golden-image",
   "metadata": {
    "ExecuteTime": {
     "end_time": "2021-03-26T15:46:30.290592Z",
     "start_time": "2021-03-26T15:46:30.142591Z"
    },
    "scrolled": false
   },
   "outputs": [
    {
     "data": {
      "image/png": "[encoded data removed]",
      "text/plain": [
       "<Figure size 432x288 with 1 Axes>"
      ]
     },
     "metadata": {
      "needs_background": "light"
     },
     "output_type": "display_data"
    }
   ],
   "source": [
    "num_pcas = model_pca.components_\n",
    "plt.figure()\n",
    "plt.plot(range(1, len(num_pcas)+1), model_pca.explained_variance_ratio_, label=\"explained var ratio\", marker=\"*\")\n",
    "plt.plot(range(1, len(num_pcas)+1), model_pca.explained_variance_ratio_.cumsum(), label=\"cumulative explained var ratio\", marker=\"*\")\n",
    "plt.xlabel(\"Principal component number\")\n",
    "plt.ylabel(\"Explained variance ratio\")\n",
    "plt.legend()\n",
    "plt.show()"
   ]
  },
  {
   "cell_type": "markdown",
   "id": "motivated-villa",
   "metadata": {},
   "source": [
    "Proceeding with ~80% of cumulative explained variance at 550 PCs"
   ]
  },
  {
   "cell_type": "code",
   "execution_count": 145,
   "id": "breeding-sampling",
   "metadata": {
    "ExecuteTime": {
     "end_time": "2021-03-26T15:49:48.752154Z",
     "start_time": "2021-03-26T15:49:28.507653Z"
    }
   },
   "outputs": [],
   "source": [
    "model_pca = PCA(n_components=550).fit(X_train_mm)\n",
    "X_train_PCA = model_pca.transform(X_train_mm)\n",
    "X_train_PCA"
   ]
  },
  {
   "cell_type": "code",
   "execution_count": 147,
   "id": "excellent-career",
   "metadata": {
    "ExecuteTime": {
     "end_time": "2021-03-26T15:55:09.619567Z",
     "start_time": "2021-03-26T15:55:09.611068Z"
    }
   },
   "outputs": [
    {
     "ename": "AttributeError",
     "evalue": "'numpy.ndarray' object has no attribute 'corr'",
     "output_type": "error",
     "traceback": [
      "\u001b[1;31m---------------------------------------------------------------------------\u001b[0m",
      "\u001b[1;31mAttributeError\u001b[0m                            Traceback (most recent call last)",
      "\u001b[1;32m<ipython-input-147-c805485c0f78>\u001b[0m in \u001b[0;36m<module>\u001b[1;34m\u001b[0m\n\u001b[0;32m      1\u001b[0m \u001b[0mplt\u001b[0m\u001b[1;33m.\u001b[0m\u001b[0mfigure\u001b[0m\u001b[1;33m(\u001b[0m\u001b[0mfigsize\u001b[0m\u001b[1;33m=\u001b[0m\u001b[1;33m(\u001b[0m\u001b[1;36m12\u001b[0m\u001b[1;33m,\u001b[0m\u001b[1;36m10\u001b[0m\u001b[1;33m)\u001b[0m\u001b[1;33m)\u001b[0m\u001b[1;33m\u001b[0m\u001b[1;33m\u001b[0m\u001b[0m\n\u001b[1;32m----> 2\u001b[1;33m \u001b[0msns\u001b[0m\u001b[1;33m.\u001b[0m\u001b[0mheatmap\u001b[0m\u001b[1;33m(\u001b[0m\u001b[0mabs\u001b[0m\u001b[1;33m(\u001b[0m\u001b[0mX_train_PCA\u001b[0m\u001b[1;33m.\u001b[0m\u001b[0mcorr\u001b[0m\u001b[1;33m(\u001b[0m\u001b[1;33m)\u001b[0m\u001b[1;33m)\u001b[0m\u001b[1;33m,\u001b[0m \u001b[0mcmap\u001b[0m\u001b[1;33m=\u001b[0m\u001b[1;34m\"Oranges\"\u001b[0m\u001b[1;33m,\u001b[0m \u001b[0mvmin\u001b[0m\u001b[1;33m=\u001b[0m\u001b[1;36m0\u001b[0m\u001b[1;33m,\u001b[0m \u001b[0mvmax\u001b[0m\u001b[1;33m=\u001b[0m\u001b[1;36m1\u001b[0m\u001b[1;33m,\u001b[0m \u001b[0mcenter\u001b[0m\u001b[1;33m=\u001b[0m\u001b[1;36m0.5\u001b[0m\u001b[1;33m,\u001b[0m \u001b[0mannot\u001b[0m\u001b[1;33m=\u001b[0m\u001b[1;32mTrue\u001b[0m\u001b[1;33m,\u001b[0m \u001b[0mlinewidths\u001b[0m\u001b[1;33m=\u001b[0m\u001b[1;36m2\u001b[0m\u001b[1;33m)\u001b[0m\u001b[1;33m\u001b[0m\u001b[1;33m\u001b[0m\u001b[0m\n\u001b[0m\u001b[0;32m      3\u001b[0m \u001b[0mplt\u001b[0m\u001b[1;33m.\u001b[0m\u001b[0mshow\u001b[0m\u001b[1;33m(\u001b[0m\u001b[1;33m)\u001b[0m\u001b[1;33m\u001b[0m\u001b[1;33m\u001b[0m\u001b[0m\n",
      "\u001b[1;31mAttributeError\u001b[0m: 'numpy.ndarray' object has no attribute 'corr'"
     ]
    },
    {
     "data": {
      "text/plain": [
       "<Figure size 864x720 with 0 Axes>"
      ]
     },
     "metadata": {},
     "output_type": "display_data"
    }
   ],
   "source": [
    "plt.figure(figsize=(12,10))\n",
    "sns.heatmap(abs(X_train_PCA.corr()), cmap=\"Oranges\", vmin=0, vmax=1, center=0.5, annot=True, linewidths=2)\n",
    "plt.show()"
   ]
  },
  {
   "cell_type": "markdown",
   "id": "worthy-coating",
   "metadata": {},
   "source": [
    "# K Means"
   ]
  },
  {
   "cell_type": "markdown",
   "id": "proper-glucose",
   "metadata": {},
   "source": [
    "- OHE only\n",
    "- No Scalar - implement with pipeline and GridSearchCV for standard and minmax\n"
   ]
  },
  {
   "cell_type": "code",
   "execution_count": 155,
   "id": "sonic-march",
   "metadata": {
    "ExecuteTime": {
     "end_time": "2021-03-26T18:49:56.485562Z",
     "start_time": "2021-03-26T18:08:47.078558Z"
    }
   },
   "outputs": [
    {
     "name": "stderr",
     "output_type": "stream",
     "text": [
      "C:\\Users\\ikhwan\\.conda\\envs\\bigdata_ml\\lib\\site-packages\\sklearn\\cluster\\_kmeans.py:792: FutureWarning: 'n_jobs' was deprecated in version 0.23 and will be removed in 1.0 (renaming of 0.25).\n",
      "  warnings.warn(\"'n_jobs' was deprecated in version 0.23 and will be\"\n",
      "C:\\Users\\ikhwan\\.conda\\envs\\bigdata_ml\\lib\\site-packages\\sklearn\\cluster\\_kmeans.py:792: FutureWarning: 'n_jobs' was deprecated in version 0.23 and will be removed in 1.0 (renaming of 0.25).\n",
      "  warnings.warn(\"'n_jobs' was deprecated in version 0.23 and will be\"\n",
      "C:\\Users\\ikhwan\\.conda\\envs\\bigdata_ml\\lib\\site-packages\\sklearn\\cluster\\_kmeans.py:792: FutureWarning: 'n_jobs' was deprecated in version 0.23 and will be removed in 1.0 (renaming of 0.25).\n",
      "  warnings.warn(\"'n_jobs' was deprecated in version 0.23 and will be\"\n",
      "C:\\Users\\ikhwan\\.conda\\envs\\bigdata_ml\\lib\\site-packages\\sklearn\\cluster\\_kmeans.py:792: FutureWarning: 'n_jobs' was deprecated in version 0.23 and will be removed in 1.0 (renaming of 0.25).\n",
      "  warnings.warn(\"'n_jobs' was deprecated in version 0.23 and will be\"\n",
      "C:\\Users\\ikhwan\\.conda\\envs\\bigdata_ml\\lib\\site-packages\\sklearn\\cluster\\_kmeans.py:792: FutureWarning: 'n_jobs' was deprecated in version 0.23 and will be removed in 1.0 (renaming of 0.25).\n",
      "  warnings.warn(\"'n_jobs' was deprecated in version 0.23 and will be\"\n",
      "C:\\Users\\ikhwan\\.conda\\envs\\bigdata_ml\\lib\\site-packages\\sklearn\\cluster\\_kmeans.py:792: FutureWarning: 'n_jobs' was deprecated in version 0.23 and will be removed in 1.0 (renaming of 0.25).\n",
      "  warnings.warn(\"'n_jobs' was deprecated in version 0.23 and will be\"\n",
      "C:\\Users\\ikhwan\\.conda\\envs\\bigdata_ml\\lib\\site-packages\\sklearn\\cluster\\_kmeans.py:792: FutureWarning: 'n_jobs' was deprecated in version 0.23 and will be removed in 1.0 (renaming of 0.25).\n",
      "  warnings.warn(\"'n_jobs' was deprecated in version 0.23 and will be\"\n",
      "C:\\Users\\ikhwan\\.conda\\envs\\bigdata_ml\\lib\\site-packages\\sklearn\\cluster\\_kmeans.py:792: FutureWarning: 'n_jobs' was deprecated in version 0.23 and will be removed in 1.0 (renaming of 0.25).\n",
      "  warnings.warn(\"'n_jobs' was deprecated in version 0.23 and will be\"\n"
     ]
    }
   ],
   "source": [
    "k_range = [50, 100, 200, 300, 400, 500, 600, 700]\n",
    "k_inertias = []\n",
    "for k in k_range:\n",
    "    kmeans = KMeans(n_clusters=k, random_state=5, n_jobs=-2).fit(X_train_PCA)\n",
    "    k_inertias.append(kmeans.inertia_)"
   ]
  },
  {
   "cell_type": "code",
   "execution_count": 156,
   "id": "sublime-thriller",
   "metadata": {
    "ExecuteTime": {
     "end_time": "2021-03-26T18:51:16.793059Z",
     "start_time": "2021-03-26T18:51:16.698561Z"
    },
    "scrolled": false
   },
   "outputs": [
    {
     "data": {
      "image/png": "[encoded data removed]",
      "text/plain": [
       "<Figure size 432x288 with 1 Axes>"
      ]
     },
     "metadata": {
      "needs_background": "light"
     },
     "output_type": "display_data"
    }
   ],
   "source": [
    "# Visualize\n",
    "plt.figure()\n",
    "plt.plot(k_range, k_inertias, marker=\"o\")\n",
    "plt.xlabel('Number of Clusters')\n",
    "plt.ylabel('Inertia')\n",
    "plt.title('Scree Plot for K-means')\n",
    "plt.xticks(k_range)\n",
    "plt.show();"
   ]
  },
  {
   "cell_type": "code",
   "execution_count": 148,
   "id": "saving-capital",
   "metadata": {
    "ExecuteTime": {
     "end_time": "2021-03-26T16:03:26.340864Z",
     "start_time": "2021-03-26T16:01:56.791363Z"
    },
    "scrolled": true
   },
   "outputs": [
    {
     "name": "stderr",
     "output_type": "stream",
     "text": [
      "C:\\Users\\ikhwan\\.conda\\envs\\bigdata_ml\\lib\\site-packages\\sklearn\\cluster\\_kmeans.py:792: FutureWarning: 'n_jobs' was deprecated in version 0.23 and will be removed in 1.0 (renaming of 0.25).\n",
      "  warnings.warn(\"'n_jobs' was deprecated in version 0.23 and will be\"\n"
     ]
    }
   ],
   "source": [
    "kmeans_100 = KMeans(n_clusters=400, random_state=5, n_jobs=-2).fit(X_train_PCA)"
   ]
  },
  {
   "cell_type": "code",
   "execution_count": 1,
   "id": "characteristic-agenda",
   "metadata": {
    "ExecuteTime": {
     "end_time": "2021-03-26T19:09:47.254438Z",
     "start_time": "2021-03-26T19:09:47.121437Z"
    }
   },
   "outputs": [
    {
     "ename": "NameError",
     "evalue": "name 'kmeans_100' is not defined",
     "output_type": "error",
     "traceback": [
      "\u001b[1;31m---------------------------------------------------------------------------\u001b[0m",
      "\u001b[1;31mNameError\u001b[0m                                 Traceback (most recent call last)",
      "\u001b[1;32m<ipython-input-1-86bccdd0b2a9>\u001b[0m in \u001b[0;36m<module>\u001b[1;34m\u001b[0m\n\u001b[1;32m----> 1\u001b[1;33m \u001b[0mkmeans_100\u001b[0m\u001b[1;33m.\u001b[0m\u001b[0minertia_\u001b[0m\u001b[1;33m\u001b[0m\u001b[1;33m\u001b[0m\u001b[0m\n\u001b[0m",
      "\u001b[1;31mNameError\u001b[0m: name 'kmeans_100' is not defined"
     ]
    }
   ],
   "source": [
    "kmeans_100.inertia_"
   ]
  },
  {
   "cell_type": "markdown",
   "id": "raised-competition",
   "metadata": {},
   "source": [
    "No need to continue with this.  This model is pretty terrible."
   ]
  },
  {
   "cell_type": "code",
   "execution_count": 137,
   "id": "analyzed-store",
   "metadata": {
    "ExecuteTime": {
     "end_time": "2021-03-26T15:11:58.995535Z",
     "start_time": "2021-03-26T15:11:56.609037Z"
    }
   },
   "outputs": [],
   "source": [
    "# # calculate silhouette and predict\n",
    "# cluster_labels = kmeans_100.predict(X_train)\n"
   ]
  },
  {
   "cell_type": "code",
   "execution_count": 138,
   "id": "sorted-recycling",
   "metadata": {
    "ExecuteTime": {
     "end_time": "2021-03-26T15:13:19.345034Z",
     "start_time": "2021-03-26T15:13:19.341034Z"
    }
   },
   "outputs": [
    {
     "data": {
      "text/plain": [
       "array([65, 65, 65, ..., 79, 79, 79])"
      ]
     },
     "execution_count": 138,
     "metadata": {},
     "output_type": "execute_result"
    }
   ],
   "source": [
    "# cluster_labels"
   ]
  },
  {
   "cell_type": "code",
   "execution_count": null,
   "id": "treated-tragedy",
   "metadata": {},
   "outputs": [],
   "source": [
    "# from sklearn.metrics import silhouette_score"
   ]
  },
  {
   "cell_type": "code",
   "execution_count": null,
   "id": "apart-creek",
   "metadata": {},
   "outputs": [],
   "source": []
  },
  {
   "cell_type": "markdown",
   "id": "emotional-numbers",
   "metadata": {},
   "source": [
    "# DBSCAN"
   ]
  },
  {
   "cell_type": "code",
   "execution_count": null,
   "id": "specialized-morris",
   "metadata": {},
   "outputs": [],
   "source": []
  },
  {
   "cell_type": "markdown",
   "id": "suspected-consolidation",
   "metadata": {},
   "source": [
    "# GMM\n"
   ]
  },
  {
   "cell_type": "code",
   "execution_count": 143,
   "id": "detailed-right",
   "metadata": {
    "ExecuteTime": {
     "end_time": "2021-03-26T15:42:09.924120Z",
     "start_time": "2021-03-26T15:42:09.725123Z"
    }
   },
   "outputs": [],
   "source": [
    "from sklearn.ensemble import RandomForestClassifier\n",
    "from sklearn.datasets import make_classification"
   ]
  },
  {
   "cell_type": "code",
   "execution_count": null,
   "id": "failing-estimate",
   "metadata": {},
   "outputs": [],
   "source": []
  },
  {
   "cell_type": "markdown",
   "id": "extreme-bangladesh",
   "metadata": {},
   "source": [
    "### pipeline and gscv\n",
    "recursively optimized loop above using following gridsearch <br>\n",
    "no PCA since \n",
    "MinMax should be good enough for the price ranges.  standard may skew price differences too much."
   ]
  },
  {
   "cell_type": "code",
   "execution_count": 121,
   "id": "complicated-jonathan",
   "metadata": {
    "ExecuteTime": {
     "end_time": "2021-03-26T13:13:51.974213Z",
     "start_time": "2021-03-26T13:13:51.971212Z"
    }
   },
   "outputs": [],
   "source": [
    "kmeans_estimators = [('scaler', MinMaxScaler()),\n",
    "                    ('KMeans', KMeans())]\n",
    "\n",
    "km_pipe = Pipeline(kmeans_estimators)"
   ]
  },
  {
   "cell_type": "code",
   "execution_count": 122,
   "id": "experienced-lying",
   "metadata": {
    "ExecuteTime": {
     "end_time": "2021-03-26T13:15:10.864215Z",
     "start_time": "2021-03-26T13:15:10.861211Z"
    }
   },
   "outputs": [],
   "source": [
    "km_params = {'scaler': [MinMaxScaler()],\n",
    "             'KMeans':[ KMeans()],\n",
    "             'KMeans__n_clusters': [50, 150, 300]    \n",
    "             }"
   ]
  },
  {
   "cell_type": "code",
   "execution_count": 123,
   "id": "precious-prior",
   "metadata": {
    "ExecuteTime": {
     "end_time": "2021-03-26T13:16:30.024712Z",
     "start_time": "2021-03-26T13:16:30.021712Z"
    }
   },
   "outputs": [],
   "source": [
    "km_grid = GridSearchCV(estimator=km_pipe, param_grid=km_params, cv=2, verbose=10, n_jobs=-2)"
   ]
  },
  {
   "cell_type": "code",
   "execution_count": 124,
   "id": "living-reasoning",
   "metadata": {
    "ExecuteTime": {
     "end_time": "2021-03-26T13:31:58.073272Z",
     "start_time": "2021-03-26T13:17:49.239211Z"
    },
    "scrolled": false
   },
   "outputs": [
    {
     "name": "stdout",
     "output_type": "stream",
     "text": [
      "Fitting 2 folds for each of 4 candidates, totalling 8 fits\n"
     ]
    }
   ],
   "source": [
    "km_fitted = km_grid.fit(X_train)"
   ]
  },
  {
   "cell_type": "code",
   "execution_count": 128,
   "id": "loved-indication",
   "metadata": {
    "ExecuteTime": {
     "end_time": "2021-03-26T13:38:15.879199Z",
     "start_time": "2021-03-26T13:38:15.875199Z"
    }
   },
   "outputs": [
    {
     "data": {
      "text/plain": [
       "Pipeline(steps=[('scaler', MinMaxScaler()), ('KMeans', KMeans(n_clusters=80))])"
      ]
     },
     "execution_count": 128,
     "metadata": {},
     "output_type": "execute_result"
    }
   ],
   "source": [
    "km_fitted.best_estimator_"
   ]
  },
  {
   "cell_type": "code",
   "execution_count": 129,
   "id": "personal-headline",
   "metadata": {
    "ExecuteTime": {
     "end_time": "2021-03-26T13:39:35.560700Z",
     "start_time": "2021-03-26T13:39:35.554703Z"
    },
    "scrolled": true
   },
   "outputs": [
    {
     "data": {
      "text/plain": [
       "{'mean_fit_time': array([125.70725989, 174.46700156, 297.34174979, 437.85900033]),\n",
       " 'std_fit_time': array([ 5.90875077, 10.89699948,  4.03224957,  2.75999868]),\n",
       " 'mean_score_time': array([4.58124197, 3.44924986, 2.36624992, 2.0777483 ]),\n",
       " 'std_score_time': array([0.4027518 , 0.02975237, 0.01674902, 0.11674857]),\n",
       " 'param_KMeans': masked_array(data=[KMeans(n_clusters=80), KMeans(n_clusters=80),\n",
       "                    KMeans(n_clusters=80), KMeans(n_clusters=80)],\n",
       "              mask=[False, False, False, False],\n",
       "        fill_value='?',\n",
       "             dtype=object),\n",
       " 'param_KMeans__n_clusters': masked_array(data=[10, 20, 40, 80],\n",
       "              mask=[False, False, False, False],\n",
       "        fill_value='?',\n",
       "             dtype=object),\n",
       " 'param_scaler': masked_array(data=[MinMaxScaler(), MinMaxScaler(), MinMaxScaler(),\n",
       "                    MinMaxScaler()],\n",
       "              mask=[False, False, False, False],\n",
       "        fill_value='?',\n",
       "             dtype=object),\n",
       " 'params': [{'KMeans': KMeans(n_clusters=80),\n",
       "   'KMeans__n_clusters': 10,\n",
       "   'scaler': MinMaxScaler()},\n",
       "  {'KMeans': KMeans(n_clusters=80),\n",
       "   'KMeans__n_clusters': 20,\n",
       "   'scaler': MinMaxScaler()},\n",
       "  {'KMeans': KMeans(n_clusters=80),\n",
       "   'KMeans__n_clusters': 40,\n",
       "   'scaler': MinMaxScaler()},\n",
       "  {'KMeans': KMeans(n_clusters=80),\n",
       "   'KMeans__n_clusters': 80,\n",
       "   'scaler': MinMaxScaler()}],\n",
       " 'split0_test_score': array([-116513.24390488, -107335.86963265,  -99592.06888348,\n",
       "         -93883.15868809]),\n",
       " 'split1_test_score': array([-86841.59031003, -77656.70554616, -69444.37678057, -62325.59790794]),\n",
       " 'mean_test_score': array([-101677.41710745,  -92496.28758941,  -84518.22283203,\n",
       "         -78104.37829801]),\n",
       " 'std_test_score': array([14835.82679742, 14839.58204324, 15073.84605145, 15778.78039008]),\n",
       " 'rank_test_score': array([4, 3, 2, 1])}"
      ]
     },
     "execution_count": 129,
     "metadata": {},
     "output_type": "execute_result"
    }
   ],
   "source": [
    "km_fitted.cv_results_"
   ]
  },
  {
   "cell_type": "code",
   "execution_count": null,
   "id": "operational-aruba",
   "metadata": {},
   "outputs": [],
   "source": [
    "km_df = pd.DataFrame(km_grid.cv_results_)"
   ]
  }
 ],
 "metadata": {
  "hide_input": false,
  "kernelspec": {
   "display_name": "bigdata_ml",
   "language": "python",
   "name": "bigdata_ml"
  },
  "language_info": {
   "codemirror_mode": {
    "name": "ipython",
    "version": 3
   },
   "file_extension": ".py",
   "mimetype": "text/x-python",
   "name": "python",
   "nbconvert_exporter": "python",
   "pygments_lexer": "ipython3",
   "version": "3.8.8"
  },
  "toc": {
   "base_numbering": 1,
   "nav_menu": {},
   "number_sections": true,
   "sideBar": true,
   "skip_h1_title": false,
   "title_cell": "Table of Contents",
   "title_sidebar": "Contents",
   "toc_cell": false,
   "toc_position": {},
   "toc_section_display": true,
   "toc_window_display": false
  },
  "varInspector": {
   "cols": {
    "lenName": 16,
    "lenType": 16,
    "lenVar": 40
   },
   "kernels_config": {
    "python": {
     "delete_cmd_postfix": "",
     "delete_cmd_prefix": "del ",
     "library": "var_list.py",
     "varRefreshCmd": "print(var_dic_list())"
    },
    "r": {
     "delete_cmd_postfix": ") ",
     "delete_cmd_prefix": "rm(",
     "library": "var_list.r",
     "varRefreshCmd": "cat(var_dic_list()) "
    }
   },
   "types_to_exclude": [
    "module",
    "function",
    "builtin_function_or_method",
    "instance",
    "_Feature"
   ],
   "window_display": false
  }
 },
 "nbformat": 4,
 "nbformat_minor": 5
}
